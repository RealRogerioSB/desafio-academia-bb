{
 "metadata": {
  "kernelspec": {
   "name": "python",
   "display_name": "Python (Pyodide)",
   "language": "python"
  },
  "language_info": {
   "codemirror_mode": {
    "name": "python",
    "version": 3
   },
   "file_extension": ".py",
   "mimetype": "text/x-python",
   "name": "python",
   "nbconvert_exporter": "python",
   "pygments_lexer": "ipython3",
   "version": "3.8"
  },
  "colab": {
   "provenance": []
  }
 },
 "nbformat_minor": 4,
 "nbformat": 4,
 "cells": [
  {
   "cell_type": "markdown",
   "source": [
    "# Desafio: Simulando a Realidade com Dados\n",
    "\n",
    "Neste desafio de Web Analytics, você trabalhará com dados simulados para\n",
    "entender a realidade do mercado. As três áreas principais são:\n",
    "\n",
    "* **Navegação de Clientes:** analise a jornada do cliente, dispositivos usados e tempo de permanência no site.\n",
    "* **Gestão de Produto em um Canal Digital:** avalie o desempenho de produtos,\n",
    "taxas de conversão e funcionalidades mais usadas.\n",
    "* **Gestão de um Canal Digital:** examine dados de tráfego para identificar\n",
    "padrões e estratégias que maximizem a performance do canal.\n",
    "\n",
    "Essas áreas cobrem de forma abrangente as principais demandas do mercado de Web Analytics, permitindo que você compreenda como os dados podem ser usados\n",
    "para melhorar a eficiência, otimizar processos e aumentar a conversão.\n",
    "\n",
    "Os dados são fictícios e simplificados para facilitar o aprendizado e o manuseio, permitindo que você pratique conceitos de Web Analytics de forma acessível e\n",
    "dinâmica.\n",
    "\n",
    "# Diretrizes do Desafio\n",
    "\n",
    "No contexto do **desafio**, cada participante terá que se basear nos dados de um **usuário e produto específico**, que será atribuído a partir da **matrícula** do participante. Isso significa que você terá a oportunidade de mergulhar nos acessos desse usuário ao aplicativo e analisar sua jornada, utilizando as colunas descritas neste documento para traçar o comportamento e extrair insights sobre sua navegação, interação e engajamento com o aplicativo.\n",
    "O desafio exige a análise profunda do comportamento desse usuário, permitindo que você aplique conceitos de **Web Analytics** na prática, identifique padrões e sugira melhorias com base nos dados disponíveis.\n",
    "\n",
    "# Bases de dados\n",
    "\n",
    "Para responder a este desafio, disponibilizamos duas bases de dados:\n",
    "\n",
    "1. consulta_matriculas\n",
    "\n",
    "* **Formatos:**\n",
    "\n",
    "  * .xlsx (arquivo do Excel)\n",
    "\n",
    "    ou\n",
    "\n",
    "  * .csv (valores separados por ponto e vírgula)\n",
    "\n",
    "* **Detalhamento:** tabela que contém o código identificador do usuário alvo da análise e o produto designado para cada um dos funcionários. Cada participante deverá consultar essa tabela para responder às perguntas 01 e 14. Os dois formatos disponibilizados contêm os mesmos dados.\n",
    "\n",
    "* **Metadados:**"
   ],
   "metadata": {
    "id": "MVOIfCW1_y2g"
   }
  },
  {
   "cell_type": "markdown",
   "source": [
    "| **Nome da Coluna** | **Descrição**                                   |\n",
    "|--------------------|-------------------------------------------------|\n",
    "| matricula          | Matrícula do participante                       |\n",
    "| hash_usuario       | Código identificador do usuário alvo da análise |\n",
    "| produto            | Produto alvo da análise                         |"
   ],
   "metadata": {
    "id": "5ZyN4HGO-5Yf"
   }
  },
  {
   "cell_type": "markdown",
   "source": [
    "2. acessos\n",
    "\n",
    "* **Formatos:**\n",
    "  * .xlsx (arquivo do Excel)\n",
    "  \n",
    "    ou\n",
    "\n",
    "  * .csv (valores separados por ponto e vírgula)\n",
    "\n",
    "* **Detalhamento:** tabela que contém todos os registros de acesso dos usuários no app BB. Cada registro corresponde ao acesso a uma página específica do aplicativo. Os dois formatos disponibilizados contêm exatamente os mesmos dados.\n",
    "\n",
    "* **Metadados:**"
   ],
   "metadata": {
    "id": "J_3Ez56f-5lW"
   }
  },
  {
   "cell_type": "markdown",
   "source": [
    "| **Nome da Coluna**   | **Descrição**                                                                                                   | **Tipo**  |\n",
    "|----------------------|-----------------------------------------------------------------------------------------------------------------|-----------|\n",
    "| hash_usuario         | Código identificador único de cada usuário que acessou o aplicativo.                                            | texto     |\n",
    "| pagina_acessada      | Nome da página que o usuário acessou dentro do aplicativo.                                                      | texto     |\n",
    "| hora_acesso          | Momento exato (data e hora) em que o usuário realizou o acesso.                                                 | data/hora |\n",
    "| info_dispositivo     | Sistema operacional do dispositivo usado pelo usuário (ex. Android, Mac, iOS).                                  | texto     |\n",
    "| cidade               | Cidade de onde o usuário acessou o aplicativo.                                                                  | texto     |\n",
    "| pais                 | País de origem do acesso do usuário ao aplicativo.                                                              | texto     |\n",
    "| identificador_visita | Código que identifica cada sessão única de acesso, ou seja, cada visita específica de um usuário ao aplicativo. | texto     |"
   ],
   "metadata": {
    "id": "q4AvXNRd-oA9"
   }
  },
  {
   "cell_type": "markdown",
   "source": [
    "* **Possíveis aplicações práticas de cada uma das informações:**\n",
    "\n",
    "  * **hash_usuario:** permite rastrear a jornada de navegação de cada usuário, analisar seu comportamento ao longo do tempo e identificar perfis de uso.\n",
    "  * **pagina_acessada:** revela quais páginas são mais acessadas, o caminho percorrido pelo usuário dentro do app e onde eles possivelmente abandonam a navegação.\n",
    "  * **hora_acesso:** ajuda a identificar padrões de horários com mais tráfego, analisar picos de uso e ajustar campanhas ou recursos do app para maximizar a eficiência.\n",
    "  * **info_dispositivo:** informa a distribuição de acessos por dispositivos, o que auxilia na otimização do design e na experiência do app para diferentes plataformas.\n",
    "  * **cidade:** permite entender a distribuição geográfica dos acessos, identificando as regiões de maior uso e possibilitando ações localizadas ou regionais de marketing.\n",
    "  * **pais:** oferece uma visão global da base de usuários e ajuda na personalização de conteúdo ou na adequação de funcionalidades específicas para diferentes mercados.\n",
    "  * **identificador_visita:** permite distinguir entre várias sessões de um mesmo usuário, analisando o número de visitas por pessoa e o comportamento durante essas sessões, bem como os caminhos seguidos.\n",
    "\n",
    "# Respostas\n",
    "\n",
    "As respostas deverão ser preenchidas no arquivo **respostas_em_branco_wa:**\n",
    "* **Formatos:**\n",
    "  * .xlsx (arquivo do Excel)\n",
    "   ou\n",
    "  * .csv (valores separados por ponto e vírgula)\n",
    "\n",
    "* **Detalhamento:** tabela que receberá a resposta para cada uma das\n",
    "perguntas do desafio.\n",
    "\n",
    "Para envio das respostas, deverão ser observadas as seguintes regras:\n",
    "\n",
    "* **Link para envio:** https://envio-academiabb.bb.com.br/\n",
    "  * **Atenção:** não serão acatadas outras formas de envio. O link acima permite acesso com a senha de portais externos.\n",
    "* Selecione a Trilha Web Analytics ao enviar.\n",
    "* **Formato:** o formato poderá ser .xlsx ou .csv, conforme preferência do participante\n",
    "  * Atenção: não carregar nenhum outro formato de arquivo, pois será ignorado\n",
    "* **Nome do arquivo:** cada participante deverá baixar o arquivo respostas_em_branco_wa e renomear de forma a constar:\n",
    "\n",
    "1) A matrícula com F maiúsculo, sete algarismos e sem dígito (FXXXXXXX)\n",
    "\n",
    "2) **O final no nome deverá constar como “_wa” mais a extensão do arquivo, ou seja: “_wa.csv” ou “_wa.xlsx”**\n",
    "  * O nome não deve conter espaços em branco. Substitua-os por “_”.\n",
    "  * O versionamento será gerado automaticamente na subida do arquivo, por meio do timestamp do envio.\n",
    "  * Exemplo1: FXXXXXX_wa.csv\n",
    "  * Exemplo2: FXXXXXX_v1_wa.csv\n",
    "  * Exemplo3: FXXXXXX_v2_wa.csv\n",
    "  * Exemplo4: FXXXXXX_v5_wa.xlsx\n",
    "\n",
    "**Prazo final:** até às 23h59 (horário de Brasília) do dia 29/11/2024\n",
    "\n",
    "**Atenção:** qualquer arquivo que não obedecer à regra 2 será ignorado na validação.\n",
    "\n",
    "Pode:\n",
    "* fazer vários envios\n",
    "* responder em qualquer ordem\n",
    "* deixar respostas em branco\n",
    "* utilizar-se de qualquer ferramenta ou linguagem para efetuar os cálculos para responder às perguntas propostas\n",
    "\n",
    "Não pode:\n",
    "* enviar em outro formato que não .xlsx ou .csv\n",
    "* preencher respostas com valores que não atendem às especificações de cada exercício\n",
    "* acrescentar linhas ou colunas\n",
    "* alterar as informações já preenchidas (id das respostas ou nome das colunas)\n",
    "* renomear o arquivo de resposta para conter pontuação ou caracteres especiais\n",
    "* incluir ponto final nas respostas ou espaços extras, ou qualquer caractere além do que foi solicitado"
   ],
   "metadata": {
    "id": "OqVYETIa-eNh"
   }
  },
  {
   "cell_type": "markdown",
   "source": [
    "# Parte 1 - O Atendente\n",
    "\n",
    "Agora, você está na linha de frente da experiência digital como atendente. Sua missão é usar dados e insights para responder a perguntas sobre o comportamento\n",
    "dos clientes. Cada interação traz informações valiosas que podem melhorar a jornada do cliente e aumentar a conversão. Suas respostas podem personalizar a experiência, aumentar o engajamento e eliminar obstáculos.\n",
    "\n",
    "Por que isso é importante? Porque entender o comportamento do cliente é essencial para um atendimento de excelência. Ao responder perguntas como quantas páginas o cliente navegou, qual dispositivo ele usou e de onde acessou o site, você irá:\n",
    "\n",
    "• **Aprimorar a experiência do cliente**: identificar onde o cliente se perde ou desiste ajuda a melhorar os pontos de atrito.\n",
    "\n",
    "• **Aumentar a eficiência do funil de vendas**: menos cliques, mais conversão.\n",
    "\n",
    "Cada ajuste diminui as barreiras.\n",
    "\n",
    "• **Personalizar ofertas e estratégias de marketing**: conhecendo o cliente, suas ofertas tornam-se irresistíveis.\n",
    "\n",
    "Este é o primeiro passo para dominar a arte de Web Analytics no nível mais granular e próximo do cliente. Quanto mais preciso e atento você for, mais poder de decisão terá!\n",
    "\n",
    "# Exercícios 1 a 13\n",
    "\n",
    "Orientações para preenchimento dos itens do arquivo de resposta conforme abaixo:"
   ],
   "metadata": {
    "id": "Cov6cxi6f9iE"
   }
  },
  {
   "cell_type": "markdown",
   "source": [
    "| **resposta**   | **Exemplo resposta** | **Tipo**                | **Orientações**                                                                                                                                    |\n",
    "|----------------|----------------------|-------------------------|----------------------------------------------------------------------------------------------------------------------------------------------------|\n",
    "| **resposta01** | abcdefgh             | texto                   | O valor será exatamente o constante na coluna hash_usuario no arquivo consulta_matricula.csv                                                       |\n",
    "| **resposta02** | 51                   | número inteiro          | Quantidade total de visitas do usuário                                                                                                             |\n",
    "| **resposta03** | 31/01/2024           | data                    | Data da primeira visita ao app pelo usuário no formato DD/MM/AAAA ou DD-MM-AAAA.                                                                   |\n",
    "| **resposta04** | 30/10/2024           | data                    | Data da última visita ao app pelo usuário no formato DD/MM/AAAA ou DD-MM-AAAA.                                                                     |\n",
    "| **resposta05** | menu_navegador       | texto                   | O valor será exatamente o nome da página mais acessada pelo usuário, conforme texto original da coluna pagina_acessada do arquivo acessos.csv      |\n",
    "| **resposta06** | Mac                  | texto                   | A resposta será a informação do dispositivo com maior número de acessos. Possíveis valores: Android, Mac ou iOS.                                   |\n",
    "| **resposta07** | São Paulo            | texto                   | O valor será exatamente o nome da cidade com maior número de visitas pelo usuário, conforme texto original da coluna cidade do arquivo acessos.csv |\n",
    "| **resposta08** | Brazil               | texto                   | O valor será exatamente o nome do país com maior número de visitas pelo usuário, conforme texto original da coluna pais do arquivo acessos.csv     |\n",
    "| **resposta09** | 15                   | número inteiro          | Maior quantidade de visitas consecutivas pelo usuário num mesmo dia                                                                                |\n",
    "| **resposta10** | 1.25                 | número decimal          | Duração média das visitas do usuário em minutos com até duas casas decimais. Utilize vírgula (,) ou ponto (.) como separador de casas decimais     |\n",
    "| **resposta11** | 73                   | número inteiro ou texto | Intervalo de utilização do app pelo usuário em dias. Possíveis valores: número inteiro positivo ou o texto null em caso de valor nulo              |\n",
    "| **resposta12** | madrugada            | texto                   | Possíveis valores: noite, tarde, manhã ou madrugada.                                                                                               |\n",
    "| **resposta13** | sim                  | texto                   | Possíveis valores: sim ou não                                                                                                                      |"
   ],
   "metadata": {
    "id": "MG_X-fXtilEt"
   }
  },
  {
   "cell_type": "markdown",
   "source": [
    "# 1. Identificação do usuário alvo da análise\n",
    "\n",
    "**Complexidade:** baixa\n",
    "\n",
    "Cada participante ficou responsável por analisar o comportamento de um usuário em específico. Observando o banco de dados disponibilizado no arquivo consulta_matriculas.csv (ou .xlsx), responda à pergunta:\n",
    "\n",
    "**Qual o código identificador do usuário atribuído à sua matrícula para fins deste Desafio?**"
   ],
   "metadata": {
    "id": "qYOZYEddi4LL"
   }
  },
  {
   "cell_type": "code",
   "source": "",
   "metadata": {
    "id": "A7UXUHByimCy"
   },
   "outputs": [],
   "execution_count": null
  },
  {
   "cell_type": "code",
   "source": "",
   "metadata": {
    "id": "p0wmRj8ijcux"
   },
   "outputs": [],
   "execution_count": null
  },
  {
   "cell_type": "code",
   "source": "",
   "metadata": {
    "id": "5de1UkYYjdLA"
   },
   "outputs": [],
   "execution_count": null
  },
  {
   "cell_type": "markdown",
   "source": [
    "# 2. Quantidade de visitas\n",
    "\n",
    "**Complexidade:** baixa\n",
    "\n",
    "Identificar a frequência de utilização do app do Banco é importante para conhecer o nível de engajamento de cada cliente.\n",
    "\n",
    "O **código de identificador da visita** referencia cada sessão única de acesso, ou seja, para cada visita distinta de um usuário ao aplicativo será gerado um código específico.\n",
    "\n",
    "Diante disso, responda à pergunta:\n",
    "\n",
    "**Qual o total de visitas que o usuário identificado fez?**\n",
    "\n",
    "**Dica:** a ideia aqui é contar quantos códigos distintos de identificador da visita do usuário especificado no Exercício 1 aparecem no banco de dados."
   ],
   "metadata": {
    "id": "Y0ApGN0Ljggb"
   }
  },
  {
   "cell_type": "code",
   "source": "",
   "metadata": {
    "id": "qBbI3o_vkTxN"
   },
   "outputs": [],
   "execution_count": null
  },
  {
   "cell_type": "code",
   "source": "",
   "metadata": {
    "id": "YQZ3TM24kUfa"
   },
   "outputs": [],
   "execution_count": null
  },
  {
   "cell_type": "code",
   "source": "",
   "metadata": {
    "id": "J6SRivogkUiY"
   },
   "outputs": [],
   "execution_count": null
  },
  {
   "cell_type": "markdown",
   "source": [
    "# 3. Primeira visita\n",
    "\n",
    "**Complexidade:** baixa\n",
    "\n",
    "Uma informação importante para identificação de novos usuários e para cálculo do tempo de fidelização dos clientes é descobrir quando o cliente começou a usar o app.\n",
    "\n",
    "**Quando o cliente começou a usar o app?**\n",
    "\n",
    "**Dica:** o início de utilização do app pelo cliente será a data/hora de acesso mais antiga desse usuário constante do banco de dados disponibilizado.\n",
    "\n",
    "**Regra:** a resposta deve ser no formato DD/MM/AAAA ou DD-MM-AAAA."
   ],
   "metadata": {
    "id": "-5N2iBl1kWLN"
   }
  },
  {
   "cell_type": "code",
   "source": "",
   "metadata": {
    "id": "t1YuOUQpk2o3"
   },
   "outputs": [],
   "execution_count": null
  },
  {
   "cell_type": "code",
   "source": "",
   "metadata": {
    "id": "B-0rGbxWk5z9"
   },
   "outputs": [],
   "execution_count": null
  },
  {
   "cell_type": "code",
   "source": "",
   "metadata": {
    "id": "YzsrrRPIk6BG"
   },
   "outputs": [],
   "execution_count": null
  },
  {
   "cell_type": "markdown",
   "source": [
    "# 4. Última visita\n",
    "\n",
    "**Complexidade:** baixa\n",
    "\n",
    "Descobrir a última interação do cliente com o app pode ajudar a identificar clientes inativos e assim subsidiar a definição de estratégias de reativação do relacionamento.\n",
    "\n",
    "**Quando foi o último acesso do cliente ao app?**\n",
    "\n",
    "**Regra:** a resposta deve ser no formato DD/MM/AAAA ou DD-MM-AAAA."
   ],
   "metadata": {
    "id": "PyMh3MOHk6aj"
   }
  },
  {
   "cell_type": "code",
   "source": "",
   "metadata": {
    "id": "PwsY9vFclA9z"
   },
   "outputs": [],
   "execution_count": null
  },
  {
   "cell_type": "code",
   "source": "",
   "metadata": {
    "id": "3Mc6Aed-lBHs"
   },
   "outputs": [],
   "execution_count": null
  },
  {
   "cell_type": "code",
   "source": "",
   "metadata": {
    "id": "AMLEAwYClBRY"
   },
   "outputs": [],
   "execution_count": null
  },
  {
   "cell_type": "markdown",
   "source": [
    "# 5. Página mais acessada\n",
    "\n",
    "**Complexidade:** baixa\n",
    "\n",
    "Um melhor entendimento dos interesses do cliente dentro do app é de extrema importância para personalização da experiência desse usuário. Isso nos possibilita direcionar conteúdo ou produtos mais adequados ao padrão de interesse individual de cada cliente.\n",
    "\n",
    "Nesse sentido, responda à pergunta:\n",
    "\n",
    "**Qual a página mais acessada pelo cliente?**\n",
    "\n",
    "**Regra 1:** a página mais visitada será aquela com maior quantidade de registros de acesso.\n",
    "\n",
    "**Regra 2:** em caso de empate, considere a página com acesso mais recente."
   ],
   "metadata": {
    "id": "Kt5cGGSklBv-"
   }
  },
  {
   "cell_type": "code",
   "source": "",
   "metadata": {
    "id": "vXSZFVPtlm6h"
   },
   "outputs": [],
   "execution_count": null
  },
  {
   "cell_type": "code",
   "source": "",
   "metadata": {
    "id": "wLu1t7n4lm-T"
   },
   "outputs": [],
   "execution_count": null
  },
  {
   "cell_type": "code",
   "source": "",
   "metadata": {
    "id": "ux_xoB4MlnKN"
   },
   "outputs": [],
   "execution_count": null
  },
  {
   "cell_type": "markdown",
   "source": [
    "# 6. Tipo de dispositivo mais utilizado\n",
    "\n",
    "**Complexidade:** baixa\n",
    "\n",
    "Para uma experiência de navegação ainda mais personalizada, é importante saber a partir de qual dispositivo o cliente mais acessa o aplicativo. Com base nessa informação, podemos ajustar o design do app, tornando a navegação mais intuitiva para o cliente.\n",
    "\n",
    "**Qual o dispositivo mais utilizado pelo cliente?**\n",
    "\n",
    "**Regra1:** para o cálculo, considere o dispositivo com maior quantidade de visitas únicas.\n",
    "\n",
    "**Regra 2:** em caso de empate, considere o dispositivo com acesso mais recente."
   ],
   "metadata": {
    "id": "jfTkx53AlnZ3"
   }
  },
  {
   "cell_type": "code",
   "source": "",
   "metadata": {
    "id": "9vNMkkOQm4i0"
   },
   "outputs": [],
   "execution_count": null
  },
  {
   "cell_type": "code",
   "source": "",
   "metadata": {
    "id": "ZPPE14s-m4lm"
   },
   "outputs": [],
   "execution_count": null
  },
  {
   "cell_type": "code",
   "source": "",
   "metadata": {
    "id": "T0Cmps3Vm4z4"
   },
   "outputs": [],
   "execution_count": null
  },
  {
   "cell_type": "markdown",
   "source": [
    "# 7. Localidade de acesso\n",
    "\n",
    "**Complexidade:** baixa\n",
    "\n",
    "Entender a geolocalização do cliente é essencial para segmentar campanhas locais. Conhecer a região a partir da qual o cliente acessa o app com maior frequência pode oferecer subsídios para oferta de conteúdos personalizados por região geográfica, com base nos comportamentos predominantes dos clientes daquela região.\n",
    "\n",
    "**A partir de qual cidade o cliente acessa o app com maior frequência?**\n",
    "\n",
    "**Regra 1:** para o cálculo, considere a cidade com maior quantidade de visitas únicas.\n",
    "\n",
    "**Regra 2:** em caso de empate, considere a cidade com acesso mais recente."
   ],
   "metadata": {
    "id": "i0lgJiallxKP"
   }
  },
  {
   "cell_type": "code",
   "source": "",
   "metadata": {
    "id": "shUIGHpcnKy-"
   },
   "outputs": [],
   "execution_count": null
  },
  {
   "cell_type": "code",
   "source": "",
   "metadata": {
    "id": "AcpxIlWfnK2a"
   },
   "outputs": [],
   "execution_count": null
  },
  {
   "cell_type": "code",
   "source": "",
   "metadata": {
    "id": "fJljoRl3nLE8"
   },
   "outputs": [],
   "execution_count": null
  },
  {
   "cell_type": "markdown",
   "source": [
    "# 8. País de origem dos acessos\n",
    "\n",
    "**Complexidade:** baixa\n",
    "\n",
    "Nesse mesmo sentido, para melhor análise da distribuição geográfica dos clientes e planejamento das estratégias de marketing regional, responda à pergunta abaixo:\n",
    "\n",
    "**A partir de qual país o cliente acessa o app com maior frequência?**\n",
    "\n",
    "**Regra 1:** para o cálculo, considere a cidade com maior quantidade de visitas únicas.\n",
    "\n",
    "**Regra 2:** em caso de empate, considere o país com acesso mais recente."
   ],
   "metadata": {
    "id": "EdgS1p2Ml5CH"
   }
  },
  {
   "cell_type": "code",
   "source": "",
   "metadata": {
    "id": "XbjB9CQFnVjz"
   },
   "outputs": [],
   "execution_count": null
  },
  {
   "cell_type": "code",
   "source": "",
   "metadata": {
    "id": "c88hCKKCnVm_"
   },
   "outputs": [],
   "execution_count": null
  },
  {
   "cell_type": "code",
   "source": "",
   "metadata": {
    "id": "pOAB7lNDnVvm"
   },
   "outputs": [],
   "execution_count": null
  },
  {
   "cell_type": "markdown",
   "source": [
    "# 9. Visitas consecutivas\n",
    "\n",
    "**Complexidade:** baixa\n",
    "\n",
    "Frequentemente, um cliente que acessa o app diversas vezes no mesmo dia pode estar interessado em algo específico ou ter encontrado dificuldades em alguma\n",
    "transação. Uma forma de identificar isso é analisando picos de interesse, ou comportamento de retorno.\n",
    "\n",
    "Pensando nisso, responda à pergunta:\n",
    "\n",
    "**Qual a maior quantidade de visitas que o usuário já fez ao app num mesmo dia?**\n",
    "\n",
    "**Regra:** considere a duração completa da visita. Exemplo: se um usuário iniciou a visita num dia e terminou no outro, essa visita deve ser considerada para ambos os dias."
   ],
   "metadata": {
    "id": "aIC6rW2fl5mT"
   }
  },
  {
   "cell_type": "code",
   "source": "",
   "metadata": {
    "trusted": true
   },
   "outputs": [],
   "execution_count": null
  },
  {
   "cell_type": "code",
   "source": "",
   "metadata": {
    "trusted": true
   },
   "outputs": [],
   "execution_count": null
  },
  {
   "cell_type": "code",
   "source": "",
   "metadata": {
    "trusted": true
   },
   "outputs": [],
   "execution_count": null
  },
  {
   "cell_type": "markdown",
   "source": [
    "# 10. Duração média por visita\n",
    "\n",
    "**Complexidade:** média\n",
    "\n",
    "Outra informação que pode dar subsídios para melhor entendermos o interesse do cliente pelos diversos conteúdos e produtos é o tempo que ele permanece engajado em cada sessão.\n",
    "\n",
    "**Qual o tempo médio em minutos que o cliente permanece em cada visita?**\n",
    "\n",
    "**Regra 1:** considere os centésimos de segundo para o cálculo.\n",
    "\n",
    "**Regra 2:** a resposta deverá conter até 2 casas decimais, arredondando sempre para baixo.\n",
    "\n",
    "**Dica:** faça o cálculo da média utilizando todas as casas decimais, arredonde apenas a resposta."
   ],
   "metadata": {
    "id": "ZPGRw-MFl5xP"
   }
  },
  {
   "cell_type": "code",
   "source": "",
   "metadata": {
    "id": "RBVKA4Jgxm0w"
   },
   "outputs": [],
   "execution_count": null
  },
  {
   "cell_type": "code",
   "source": "",
   "metadata": {
    "id": "t8hZRKP_xm7i"
   },
   "outputs": [],
   "execution_count": null
  },
  {
   "cell_type": "code",
   "source": "",
   "metadata": {
    "id": "TY2IjYgQxnE_"
   },
   "outputs": [],
   "execution_count": null
  },
  {
   "cell_type": "markdown",
   "source": [
    "# 11. Intervalo médio entre visitas\n",
    "\n",
    "**Complexidade:** média\n",
    "\n",
    "Entender a frequência de retorno do cliente ao aplicativo é uma informação importante que indica o nível de interesse e pode subsidiar o planejamento de estratégias de retenção do usuário.\n",
    "\n",
    "**Qual o intervalo médio em dias de utilização do app pelo cliente?**\n",
    "\n",
    "**Regra 1:** considere a data de início apenas. Exemplo: se a visita começou dia 10/03 às 11h45 e terminou dia 11/03 às 0h05, considere que a visita ocorreu no dia 10/03.\n",
    "\n",
    "**Regra 2:** caso haja mais de uma visita no mesmo dia, considere apenas uma ocorrência.\n",
    "\n",
    "**Regra 3:** o resultado em dias deverá ser um número inteiro, arredondando para baixo.\n",
    "\n",
    "**Regra 4:** caso o usuário tenha visitado o app apenas um dia, a resposta será null."
   ],
   "metadata": {
    "id": "dzJogvi0l56R"
   }
  },
  {
   "cell_type": "code",
   "source": "",
   "metadata": {
    "id": "WxoalzpEyeK_"
   },
   "outputs": [],
   "execution_count": null
  },
  {
   "cell_type": "code",
   "source": "",
   "metadata": {
    "id": "yBJLqwbSyeN5"
   },
   "outputs": [],
   "execution_count": null
  },
  {
   "cell_type": "code",
   "source": "",
   "metadata": {
    "id": "zF5cUVpuyejd"
   },
   "outputs": [],
   "execution_count": null
  },
  {
   "cell_type": "markdown",
   "source": [
    "# 12. Horários de navegação\n",
    "\n",
    "**Complexidade:** alta\n",
    "\n",
    "Outra informação importante para descoberta dos padrões de comportamento dos usuários é analisar os horários em que o cliente mais acessa o aplicativo. Entender os hábitos de cada cliente possibilita uma melhor personalização das notificações e ações de marketing.\n",
    "\n",
    "**Em qual período o cliente navega com maior frequência?**\n",
    "\n",
    "**Regra 1:** Considere os seguintes intervalos para classificação do horário:\n",
    "\n",
    "*   madrugada: das 00h00 às 05h59m59s\n",
    "*   manhã: das 06h00 às 11h59 m59s\n",
    "*   tarde: das 12h00 às 17h59 m59s\n",
    "*   noite: das 18h00 às 23h59 m59s\n",
    "\n",
    "Exemplo:"
   ],
   "metadata": {
    "id": "E_M9QMSjl6Cn"
   }
  },
  {
   "cell_type": "markdown",
   "source": [
    "| hash_usuario | identificador_visita | hora_acesso         | período   |\n",
    "|--------------|----------------------|---------------------|-----------|\n",
    "| abc          | xyz                  | 2024-01-05 00:54:52 | madrugada |\n",
    "| abc          | xyz                  | 2024-01-05 00:54:53 | madrugada |\n",
    "| abc          | rst                  | 2024-01-07 15:55:44 | tarde     |\n",
    "| abc          | rst                  | 2024-01-07 15:59:45 | tarde     |\n",
    "| abc          | rst                  | 2024-01-07 16:00:15 | tarde     |\n",
    "| abc          | opq                  | 2024-01-07 17:59:20 | tarde     |\n",
    "| abc          | opq                  | 2024-01-07 18:00:07 | noite     |"
   ],
   "metadata": {
    "id": "0wQMYSG7zdsA"
   }
  },
  {
   "cell_type": "markdown",
   "source": "No exemplo acima, o cálculo deverá considerar as ocorrências únicas do período por visita:",
   "metadata": {
    "id": "E1r0gZhyz1Ld"
   }
  },
  {
   "cell_type": "markdown",
   "source": "| identificador_visita | horario   | qtde |\n|----------------------|-----------|------|\n| xyz                  | madrugada | 1    |\n| rst                  | tarde     | 1    |\n| opq                  | tarde     | 1    |\n| opq                  | noite     | 1    |",
   "metadata": {
    "id": "qxdMGrQ5z42S"
   }
  },
  {
   "cell_type": "markdown",
   "source": [
    "**Regra 2:** a resposta deverá obedecer à seguinte classificação: manhã, tarde, noite ou madrugada.\n",
    "\n",
    "**Regra 3:** em caso de empate, considere o maior horário, obedecendo à seguinte escala: madrugada < manhã < tarde < noite"
   ],
   "metadata": {
    "id": "c6QJkg480FHp"
   }
  },
  {
   "cell_type": "code",
   "source": "",
   "metadata": {
    "id": "Tc2RZzOH0M0N"
   },
   "outputs": [],
   "execution_count": null
  },
  {
   "cell_type": "code",
   "source": "",
   "metadata": {
    "id": "QJLlGFsx0M8F"
   },
   "outputs": [],
   "execution_count": null
  },
  {
   "cell_type": "code",
   "source": "",
   "metadata": {
    "id": "ly9tC9i40NG6"
   },
   "outputs": [],
   "execution_count": null
  },
  {
   "cell_type": "markdown",
   "source": [
    "# 13. Variação do horário de acesso\n",
    "\n",
    "**Complexidade:** alta\n",
    "\n",
    "O comportamento dos clientes pode variar em dias úteis ou não úteis e essa informação pode ser importante para adaptação do marketing nesses momentos de descontração.\n",
    "\n",
    "**Há variação nos horários de navegação do cliente nos finais de semana em relação ao seu comportamento nos dias úteis?**\n",
    "\n",
    "**Regra1:** a resposta deve ser apenas sim ou não.\n",
    "\n",
    "**Regra2:** considere dias não úteis apenas os finais de semana (sábados e domingos).\n",
    "\n",
    "**Regra3:** a forma de cálculo dos horários de maior frequência de navegação seguirá as mesmas regras do exercício 12, atentando apenas para a separação entre dias úteis e não úteis.\n",
    "\n",
    "**Regra4:** caso o cliente só tenha acessado o app em uma das situações (dias úteis ou não úteis), a resposta será sim."
   ],
   "metadata": {
    "id": "32NWeuGcl6PQ"
   }
  },
  {
   "cell_type": "code",
   "source": "",
   "metadata": {
    "id": "4ukFv3jbgn5c"
   },
   "outputs": [],
   "execution_count": null
  },
  {
   "cell_type": "code",
   "source": "",
   "metadata": {
    "id": "ebgX6gPEgoF1"
   },
   "outputs": [],
   "execution_count": null
  },
  {
   "cell_type": "code",
   "source": "",
   "metadata": {
    "id": "42T9jy3il1pW"
   },
   "outputs": [],
   "execution_count": null
  },
  {
   "cell_type": "markdown",
   "source": [
    "# Parte 2 – O Gestor de Produto\n",
    "\n",
    "**Gestão de Produto em um Canal Digital: o papel de um Gestor de Produto**\n",
    "\n",
    "Agora, você é o gestor de produto no ambiente digital. Seu foco é entender o desempenho do produto, seja em um aplicativo ou site. Responda a perguntas como:\n",
    "\n",
    "* Qual a conversão do produto?\n",
    "* Quais funcionalidades retêm mais usuários?\n",
    "* Quando os clientes compram e desistem?\n",
    "\n",
    "Você controla um produto digital e suas decisões podem otimizar a performance ou identificar ajustes necessários. As métricas certas revelam como seu produto é usado e as oportunidades de crescimento.\n",
    "\n",
    "Benefícios de acertar as respostas:\n",
    "\n",
    "* **Aumentar conversão:** ajuste campanhas e jornadas para maximizar vendas.\n",
    "* **Melhorar retenção:** reforce o que mantém os clientes engajados.\n",
    "* **Decisões baseadas em dados:** foque no que realmente importa.\n",
    "\n",
    "Dominar essas perguntas fará de você um gestor capaz de conduzir um produto digital ao sucesso com decisões fundamentadas em dados sólidos.\n",
    "\n",
    "# Exercícios 14 a 22\n",
    "\n",
    "Orientações para preenchimento dos itens do arquivo de resposta conforme abaixo:"
   ],
   "metadata": {
    "id": "IjiyVHNKgwR1"
   }
  },
  {
   "cell_type": "markdown",
   "source": [
    "| **id_resposta** | **Exemplo resposta** | **Tipo**       | **Orientações**                                                                                                                                  |\n",
    "|-----------------|----------------------|----------------|--------------------------------------------------------------------------------------------------------------------------------------------------|\n",
    "| **resposta14**  | Pix                  | texto          | O valor será exatamente o constante na coluna produto no arquivo consulta_matricula.csv. Possíveis valores: CDC, Crédito PF, Pagamentos, Pix     |\n",
    "| **resposta15**  | 358                  | número inteiro | Quantidade total de acesso às páginas do produto designado                                                                                       |\n",
    "| **resposta16**  | Mac                  | texto          | Possíveis valores: Android, Mac ou iOS.                                                                                                          |\n",
    "| **resposta17**  | São Paulo            | texto          | O valor será exatamente o nome da cidade com maior número de visitas ao produto, conforme texto original da coluna cidade do arquivo acessos.csv |\n",
    "| **resposta18**  | 51                   | número inteiro | Quantidade de usuários que acessaram alguma página do produto mais de uma vez num mesmo dia.                                                     |\n",
    "| **resposta19**  | madrugada            | texto          | Possíveis valores: noite, tarde, manhã ou madrugada.                                                                                             |\n",
    "| **resposta20**  | 0.75                 | número decimal | Taxa de conversão de negócios. Utilize vírgula (,) ou ponto (.) como separador de casas decimais.                                                |\n",
    "| **resposta21**  | 0.20                 | número decimal | Taxa de não-conversão de negócios. Utilize vírgula (,) ou ponto (.) como separador de casas decimais.                                            |\n",
    "| **resposta22**  | pagina_exemplo       | texto          | Página com maior número de abandono da conversão do negócio.                                                                                     |"
   ],
   "metadata": {
    "id": "EpC2sGoAiCU8"
   }
  },
  {
   "cell_type": "markdown",
   "source": [
    "# 14. Identificação do produto alvo da análise\n",
    "\n",
    "**Complexidade:** baixa\n",
    "\n",
    "Cada participante ficou responsável por analisar um produto em específico. Observando o banco de dados disponibilizado no arquivo consulta_matriculas.csv (ou .xlsx), responda à pergunta:\n",
    "\n",
    "**Qual produto atribuído à sua matrícula para fins deste Desafio?**\n",
    "\n",
    "**Regra:** a resposta deverá ser uma das quatro opções a seguir: CDC, Crédito PF, Pagamentos, Pix"
   ],
   "metadata": {
    "id": "8IedZYFyiJ92"
   }
  },
  {
   "cell_type": "code",
   "source": "",
   "metadata": {
    "id": "GJmgN00piD5t"
   },
   "outputs": [],
   "execution_count": null
  },
  {
   "cell_type": "code",
   "source": "",
   "metadata": {
    "id": "wKhE2GkeigoS"
   },
   "outputs": [],
   "execution_count": null
  },
  {
   "cell_type": "code",
   "source": "",
   "metadata": {
    "id": "Vvqw0_7XigrC"
   },
   "outputs": [],
   "execution_count": null
  },
  {
   "cell_type": "markdown",
   "source": [
    "# 15. Quantidade de acessos\n",
    "\n",
    "**Complexidade:** baixa\n",
    "\n",
    "Medir o interesse dos clientes pelo produto pode ser importante para identificação da atratividade daquele produto e, consequentemente, dar insumos valiosos para a promoção de melhorias nos canais analisados.\n",
    "\n",
    "**No total, quantas vezes as páginas do produto designado foram acessadas?**\n",
    "\n",
    "**Regra:** considere todos os registros de acesso a todas as páginas relativas ao produto atribuído à sua matrícula. Tome por base a relação de páginas de cada produto, conforme tabela abaixo:"
   ],
   "metadata": {
    "id": "QwtOOGmZiLmH"
   }
  },
  {
   "cell_type": "markdown",
   "source": [
    "| **Página**               | **Produto**   |\n",
    "|--------------------------|---------------|\n",
    "| extrato_conta            | -             |\n",
    "| menu_navegador           | -             |\n",
    "| acompanhar_proposta      | CDC           |\n",
    "| proposta_entrada         | CDC           |\n",
    "| autorizacao_debito       | Crédito PF    |\n",
    "| confirmacao_jornada      | Crédito PF    |\n",
    "| detalhes_confirmacao     | Crédito PF    |\n",
    "| novo_emprestimo          | Crédito PF    |\n",
    "| opcoes_emprestimo        | Crédito PF    |\n",
    "| resultado_credito        | Crédito PF    |\n",
    "| selecao_credito          | Crédito PF    |\n",
    "| selecao_data_quota       | Crédito PF    |\n",
    "| selecao_parcelas         | Crédito PF    |\n",
    "| sobre_cancelamento       | Crédito PF    |\n",
    "| sobre_pagamento          | Crédito PF    |\n",
    "| telefones_credito        | Crédito PF    |\n",
    "| todas_opcoes_quotas      | Crédito PF    |\n",
    "| central_pagamentos       | Pagamentos    |\n",
    "| confirmacao_boleto       | Pagamentos    |\n",
    "| detalhes_pagamento       | Pagamentos    |\n",
    "| pagamento                | Pagamentos    |\n",
    "| sucesso_boleto           | Pagamentos    |\n",
    "| central_pix              | Pix           |\n",
    "| confirmacao_pix          | Pix           |\n",
    "| inicial_pix              | Pix           |\n",
    "| resumo_pix               | Pix           |\n",
    "| valor_pix                | Pix           |"
   ],
   "metadata": {
    "id": "CD8Zns9LiLrt"
   }
  },
  {
   "cell_type": "markdown",
   "source": "**Atenção:** para os exercícios 15 a 22, deverão ser considerados todos os registros referentes ao produto de todos os usuários constantes do arquivo acessos.csv (ou .xlsx).",
   "metadata": {
    "id": "eusGPjsli8yt"
   }
  },
  {
   "cell_type": "code",
   "source": "",
   "metadata": {
    "id": "1-68UORdi2vi"
   },
   "outputs": [],
   "execution_count": null
  },
  {
   "cell_type": "code",
   "source": "",
   "metadata": {
    "id": "5Xoj76v7jDYE"
   },
   "outputs": [],
   "execution_count": null
  },
  {
   "cell_type": "code",
   "source": "",
   "metadata": {
    "id": "Ax8lhJjajDal"
   },
   "outputs": [],
   "execution_count": null
  },
  {
   "cell_type": "markdown",
   "source": [
    "# 16. Dispositivo mais utilizado\n",
    "\n",
    "**Complexidade:** baixa\n",
    "\n",
    "Para priorização das melhorias à experiência de visualização do produto, é importante saber os dispositivos mais utilizados, de forma a melhor ajustar design e conteúdo com base no layout do dispositivo.\n",
    "\n",
    "**Qual tipo de dispositivo gera mais visualizações para o produto?**\n",
    "\n",
    "**Regra:** para o cálculo, considere o dispositivo com maior quantidade de visitas únicas onde houver ao menos um registro de acesso a uma das páginas do produto."
   ],
   "metadata": {
    "id": "gyzIEyrfjERn"
   }
  },
  {
   "cell_type": "code",
   "source": "",
   "metadata": {
    "id": "1q04E62Xkk_M"
   },
   "outputs": [],
   "execution_count": null
  },
  {
   "cell_type": "code",
   "source": "",
   "metadata": {
    "id": "b_jBo9LUklG1"
   },
   "outputs": [],
   "execution_count": null
  },
  {
   "cell_type": "code",
   "source": "",
   "metadata": {
    "id": "maH7n1rGklPp"
   },
   "outputs": [],
   "execution_count": null
  },
  {
   "cell_type": "markdown",
   "source": [
    "# 17. Localização de maior popularidade\n",
    "\n",
    "**Complexidade:** baixa\n",
    "\n",
    "Identificar mercados locais com maior interesse no produto é de extrema importância para direcionar esforços de marketing para cidades mais engajadas, tornando as campanhas mais eficientes e eficazes.\n",
    "\n",
    "**A partir de qual cidade as páginas do produto são mais visitadas?**\n",
    "\n",
    "**Regra:** para o cálculo, considere o município com maior quantidade de visitas únicas onde houver ao menos um registro de acesso a uma das páginas do produto."
   ],
   "metadata": {
    "id": "UUh381sejHxW"
   }
  },
  {
   "cell_type": "code",
   "source": "",
   "metadata": {
    "id": "H8tPTzwlkkDZ"
   },
   "outputs": [],
   "execution_count": null
  },
  {
   "cell_type": "code",
   "source": "",
   "metadata": {
    "id": "xk_yFGB4kkP0"
   },
   "outputs": [],
   "execution_count": null
  },
  {
   "cell_type": "code",
   "source": "",
   "metadata": {
    "id": "U_leP-2fkkZi"
   },
   "outputs": [],
   "execution_count": null
  },
  {
   "cell_type": "markdown",
   "source": [
    "# 18. Acessos frequentes\n",
    "\n",
    "**Complexidade:** alta\n",
    "\n",
    "Também é necessário medir o interesse contínuo dos clientes por um produto específico. Produtos que recebem mais visitas repetidas podem indicar um forte interesse ou hesitação na compra.\n",
    "\n",
    "**Quantos clientes acessaram o produto mais de uma vez ao dia?**\n",
    "\n",
    "**Regra 1:** para o cálculo, considere a quantidade de visitas únicas onde houver ao menos um registro de acesso a uma das páginas do produto no dia.\n",
    "\n",
    "**Regra 2:** considere os clientes que visitaram mais de uma vez em ao menos um dia."
   ],
   "metadata": {
    "id": "B69RoKH9jH-N"
   }
  },
  {
   "cell_type": "code",
   "source": "",
   "metadata": {
    "id": "B4vZO9pKkwq6"
   },
   "outputs": [],
   "execution_count": null
  },
  {
   "cell_type": "code",
   "source": "",
   "metadata": {
    "id": "nzNC7e4vkwut"
   },
   "outputs": [],
   "execution_count": null
  },
  {
   "cell_type": "code",
   "source": "",
   "metadata": {
    "id": "ClAE1i0wkw10"
   },
   "outputs": [],
   "execution_count": null
  },
  {
   "cell_type": "markdown",
   "source": [
    "# 19. Horários mais populares\n",
    "\n",
    "**Complexidade:** alta\n",
    "\n",
    "Os horários de maior acesso ao produto podem ser determinantes para planejamento das estratégias de oferta do produto e promoções.\n",
    "\n",
    "**Em qual período os clientes mais acessam as páginas do produto?**\n",
    "\n",
    "**Regra 1:** considere os mesmos períodos descritos no exercício 12:\n",
    "\n",
    "* **madrugada:** das 00h00 às 05h59m59s\n",
    "* **manhã:** das 06h00 às 11h59 m59s\n",
    "* **tarde:** das 12h00 às 17h59 m59s\n",
    "* **noite:** das 18h00 às 23h59 m59s\n",
    "\n",
    "**Regra 2:** o cálculo deverá considerar uma única vez a ocorrência de acesso a qualquer página do produto no período por visita.\n",
    "\n",
    "Exemplo:"
   ],
   "metadata": {
    "id": "cQe_Ou6ejIM-"
   }
  },
  {
   "cell_type": "markdown",
   "source": [
    "| **hash_usuario** | **identificador_visita** | **hora_acesso**        | **período**   |\n",
    "|------------------|--------------------------|------------------------|---------------|\n",
    "| abc              | xyz                      | 2024-01-05 00:54:52    | madrugada     |\n",
    "| abc              | xyz                      | 2024-01-05 00:54:53    | madrugada     |\n",
    "| abc              | rst                      | 2024-01-07 15:55:44    | tarde         |\n",
    "| abc              | rst                      | 2024-01-07 15:59:45    | tarde         |\n",
    "| abc              | rst                      | 2024-01-07 16:00:15    | tarde         |\n",
    "| abc              | opq                      | 2024-01-07 17:59:20    | tarde         |\n",
    "| abc              | opq                      | 2024-01-07 18:00:07    | noite         |"
   ],
   "metadata": {
    "id": "zNLxNArjjInP"
   }
  },
  {
   "cell_type": "markdown",
   "source": "No exemplo acima, considerar:",
   "metadata": {
    "id": "XUgejMEnjIvD"
   }
  },
  {
   "cell_type": "markdown",
   "source": [
    "| **identificador_visita** | **horario** | **qtde** |\n",
    "|--------------------------|-------------|----------|\n",
    "| xyz                      | madrugada   | 1        |\n",
    "| rst                      | tarde       | 1        |\n",
    "| opq                      | tarde       | 1        |\n",
    "| opq                      | noite       | 1        |"
   ],
   "metadata": {
    "id": "5CRzSGnSjI37"
   }
  },
  {
   "cell_type": "markdown",
   "source": "**Regra 3:** a resposta será um dos períodos: manhã, tarde, noite ou madrugada.",
   "metadata": {
    "id": "JiKF-wJSl3tZ"
   }
  },
  {
   "cell_type": "code",
   "source": "",
   "metadata": {
    "id": "dAMHhql_l04-"
   },
   "outputs": [],
   "execution_count": null
  },
  {
   "cell_type": "code",
   "source": "",
   "metadata": {
    "id": "xqrZ8K9sl-UJ"
   },
   "outputs": [],
   "execution_count": null
  },
  {
   "cell_type": "code",
   "source": "",
   "metadata": {
    "id": "9KTJJjiYl-Xd"
   },
   "outputs": [],
   "execution_count": null
  },
  {
   "cell_type": "markdown",
   "source": [
    "# 20. Taxa de conversão\n",
    "\n",
    "**Complexidade:** alta\n",
    "\n",
    "Avaliar o desempenho do produto em transformar visitas em compras ou ações é importante para identificar produtos com baixa conversão e, assim, propor ajustes na oferta ou interface.\n",
    "\n",
    "**Qual a taxa de conversão do produto?**\n",
    "\n",
    "**Regra 1:** para identificar as visitas em que houve conversão, considere a ocorrência de acesso a ambas as páginas (pré e pós-conversão), conforme o produto:"
   ],
   "metadata": {
    "id": "9BSGBiIUl9pV"
   }
  },
  {
   "cell_type": "markdown",
   "source": [
    "| **Produto**  | **pré-conversão**    | **pós-conversão**        |\n",
    "|--------------|----------------------|--------------------------|\n",
    "| CDC          | proposta_entrada     | acompanhar_proposta      |\n",
    "| Crédito PF   | autorizacao_debito   | confirmacao_jornada      |\n",
    "| Pagamentos   | confirmacao_boleto   | sucesso_boleto           |\n",
    "| Pix          | confirmacao_pix      | resumo_pix               |"
   ],
   "metadata": {
    "id": "uciPH3FumTVq"
   }
  },
  {
   "cell_type": "markdown",
   "source": "**Regra 2:** a conversão será considerada uma única vez por visita, independente de quantas transações do produto forem concretizadas durante a visita.\n\n**Regra 3:** a taxa de conversão será a quantidade de visitas em que houve conversão(regra 1) dividido pelo total de visitas onde houver no mínimo um registro de acesso a uma das páginas do produto (conforme tabela constante da pergunta 15).\n\n**Regra 4:** a resposta deverá conter até duas casas decimais, arredondando sempre para baixo.",
   "metadata": {
    "id": "bllQcq1nmXIP"
   }
  },
  {
   "cell_type": "code",
   "source": "",
   "metadata": {
    "id": "xEqQq60rmCpy"
   },
   "outputs": [],
   "execution_count": null
  },
  {
   "cell_type": "code",
   "source": "",
   "metadata": {
    "id": "A-pR5MEImjCD"
   },
   "outputs": [],
   "execution_count": null
  },
  {
   "cell_type": "code",
   "source": "",
   "metadata": {
    "id": "TfZPZJEjmjNe"
   },
   "outputs": [],
   "execution_count": null
  },
  {
   "cell_type": "markdown",
   "source": [
    "# 21. Taxa de abandono\n",
    "\n",
    "**Complexidade:** alta\n",
    "\n",
    "Entender quantos clientes desistem dentro do processo de compra é interessante para identificar pontos de melhoria da usabilidade do app e experiência de compra.\n",
    "\n",
    "**Qual a taxa de abandono da conversão do produto?**\n",
    "\n",
    "**Regra 1:** para o cálculo, considere as visitas onde consta o registro de acesso a qualquer uma das páginas de pré-conversão, porém não consta a página de pós-conversão nessa mesma visita:"
   ],
   "metadata": {
    "id": "nuBDN9RymjXv"
   }
  },
  {
   "cell_type": "markdown",
   "source": [
    "| **Produto**  | **Página**           | **Pré-conversão** | **Pós conversão** |\n",
    "|--------------|----------------------|-------------------|-------------------|\n",
    "| CDC          | proposta_entrada     | Sim               |                   |\n",
    "| CDC          | acompanhar_proposta  |                   | Sim               |\n",
    "| Crédito PF   | autorizacao_debito   | Sim               |                   |\n",
    "| Crédito PF   | novo_emprestimo      | Sim               |                   |\n",
    "| Crédito PF   | opcoes_emprestimo    | Sim               |                   |\n",
    "| Crédito PF   | selecao_credito      | Sim               |                   |\n",
    "| Crédito PF   | selecao_data_quota   | Sim               |                   |\n",
    "| Crédito PF   | selecao_parcelas     | Sim               |                   |\n",
    "| Crédito PF   | sobre_cancelamento   | Sim               |                   |\n",
    "| Crédito PF   | sobre_pagamento      | Sim               |                   |\n",
    "| Crédito PF   | todas_opcoes_quotas  | Sim               |                   |\n",
    "| Crédito PF   | detalhes_confirmacao | Sim               |                   |\n",
    "| Crédito PF   | confirmacao_jornada  |                   | Sim               |\n",
    "| Pagamentos   | confirmacao_boleto   | Sim               |                   |\n",
    "| Pagamentos   | pagamento            | Sim               |                   |\n",
    "| Pagamentos   | sucesso_boleto       |                   | Sim               |\n",
    "| Pix          | confirmacao_pix      | Sim               |                   |\n",
    "| Pix          | inicial_pix          | Sim               |                   |\n",
    "| Pix          | valor_pix            | Sim               |                   |\n",
    "| Pix          | resumo_pix           |                   | Sim               |"
   ],
   "metadata": {
    "id": "ITb6k0oKm4OW"
   }
  },
  {
   "cell_type": "markdown",
   "source": [
    "**Regra 2:** a taxa de abandono será a quantidade de visitas em que a conversão não se concretizou (regra 1) dividido pelo total de visitas onde houver no mínimo um registro de acesso a uma das páginas de pré-conversão do produto.\n",
    "\n",
    "**Regra 3:** a resposta deverá conter até duas casas decimais, arredondando sempre para baixo."
   ],
   "metadata": {
    "id": "zpPmxXgGoEHo"
   }
  },
  {
   "cell_type": "code",
   "source": "",
   "metadata": {
    "id": "blMs8EQimu-R"
   },
   "outputs": [],
   "execution_count": null
  },
  {
   "cell_type": "code",
   "source": "",
   "metadata": {
    "id": "MNCFGe5loOOs"
   },
   "outputs": [],
   "execution_count": null
  },
  {
   "cell_type": "code",
   "source": "",
   "metadata": {
    "id": "D31lsRDToORu"
   },
   "outputs": [],
   "execution_count": null
  },
  {
   "cell_type": "markdown",
   "source": [
    "# 22. Etapas do funil de conversão\n",
    "\n",
    "**Complexidade:** alta\n",
    "\n",
    "Analisar onde estão os obstáculos que impedem a finalização da compra nos permite entender melhor quais mudanças podem ser feitas para aumentar a conversão.\n",
    "\n",
    "**Qual a etapa do funil de conversão do produto onde se observa maior taxa de abandono?**\n",
    "\n",
    "**Regra 1:** considere cada página pré-conversão uma etapa do funil.\n",
    "\n",
    "**Regra 2:** para calcular, identifique qual foi a última página de pré-conversão acessada nas visitas em que não houve conversão."
   ],
   "metadata": {
    "id": "dOc7HdZPoOcb"
   }
  },
  {
   "cell_type": "code",
   "source": "",
   "metadata": {
    "id": "AzY-AbTUxgj7"
   },
   "outputs": [],
   "execution_count": null
  },
  {
   "cell_type": "code",
   "source": "",
   "metadata": {
    "id": "qRe7Iz24xii-"
   },
   "outputs": [],
   "execution_count": null
  },
  {
   "cell_type": "code",
   "source": "",
   "metadata": {
    "id": "O7ZYVMZFxil7"
   },
   "outputs": [],
   "execution_count": null
  },
  {
   "cell_type": "markdown",
   "source": [
    "# Parte 3 – O Gestor de Canais Digitais\n",
    "\n",
    "**Gestão de um Canal Digital: Você no Comando do Jogo**\n",
    "\n",
    "Finalmente, você assume a posição mais estratégica de todas: o gestor de um canal digital inteiro. O canal é a plataforma que conecta tudo—clientes, produtos, tráfego—e você será desafiado a entender como otimizar todo o ecossistema.\n",
    "\n",
    "Neste papel, você vai responder a perguntas que impactam diretamente a saúde e o sucesso do canal.\n",
    "\n",
    "* Quantos clientes acessam o canal diariamente?\n",
    "* Qual é o produto mais procurado?\n",
    "* Qual o perfil demográfico dos seus visitantes?\n",
    "\n",
    "Estas perguntas são o coração de uma gestão eficiente e assertiva.\n",
    "\n",
    "Por que dominar isso é transformador?\n",
    "* Maximizar a performance do canal: Saber os picos de tráfego e os produtos mais visualizados permite ajustar a infraestrutura e promover os itens certos.\n",
    "* Alinhar recursos de forma inteligente: Identificar o tráfego mais valioso permite alocar orçamentos de marketing de maneira mais eficiente.\n",
    "* Entender o público para oferecer o melhor conteúdo: Quando você sabe quem é seu cliente e de onde ele vem, pode personalizar campanhas e melhorar a experiência, elevando a taxa de retorno e retenção.\n",
    "\n",
    "Responder corretamente essas perguntas te colocará no controle total de um canal digital, com insights para maximizar o dese86mpenho, crescer em escala e fazer com que seu canal seja o preferido dos clientes.\n",
    "\n",
    "Agora é sua vez de mostrar seu poder analítico. Cada resposta correta é um passo a mais em direção ao domínio absoluto de Web Analytics! **Está pronto para o desafio?**\n",
    "\n",
    "# Exercícios 23 a 28\n",
    "Orientações para preenchimento dos itens do arquivo de resposta conforme abaixo:"
   ],
   "metadata": {
    "id": "0HW0P_Inxi6l"
   }
  },
  {
   "cell_type": "markdown",
   "source": [
    "| **id_resposta** | **Exemplo resposta** | **Tipo**       | **Orientações**                                                                                                                         |\n",
    "|-----------------|----------------------|----------------|-----------------------------------------------------------------------------------------------------------------------------------------|\n",
    "| **resposta23**  | 01/01/2024           | data           | Data da primeira visita ao app pelo usuário no formato DD/MM/AAAA ou DD-MM-AAAA.                                                        |\n",
    "| **resposta24**  | pagina_exemplo       | texto          | Página com maior quantidade de acessos, com exceção do menu de navegação                                                                |\n",
    "| **resposta25**  | 51                   | número inteiro | Quantidade de usuários distintos que acessaram o app no dia de maior movimentação.                                                      |\n",
    "| **resposta26**  | 0.5                  | número decimal | Proporção de visitas via dispositivos móveis versus desktop. Utilize vírgula (,) ou ponto (.) como separador de casas decimais.         |\n",
    "| **resposta27**  | 0.5                  | número decimal | Proporção de usuários recorrentes em relação aos usuários eventuais. Utilize vírgula (,) ou ponto (.) como separador de casas decimais. |\n",
    "| **resposta28**  | 0.75                 | número decimal | Taxa de variação semanal média de visitas em setembro. Utilize vírgula (,) ou ponto (.) como separador de casas decimais.               |"
   ],
   "metadata": {
    "id": "fW7ucxBe3JsQ"
   }
  },
  {
   "cell_type": "markdown",
   "source": [
    "# 23. Pico de movimentação\n",
    "\n",
    "**Complexidade:** baixa\n",
    "\n",
    "Conhecer os picos de movimentação no aplicativo da empresa é crucial para otimização de recursos e planejamento de campanhas.\n",
    "\n",
    "**Qual o dia com maior quantidade de pessoas distintas acessando o app?**\n",
    "\n",
    "**Regra:** a resposta deve ser no formato DD/MM/AAAA ou DD-MM-AAAA.\n",
    "\n",
    "**Atenção:** para os exercícios 23 a 28, as análises deverão considerar todos os registros da tabela acessos.csv"
   ],
   "metadata": {
    "id": "rooUhPb63PSa"
   }
  },
  {
   "cell_type": "code",
   "source": "",
   "metadata": {
    "id": "dMRhnsnY4IM-"
   },
   "outputs": [],
   "execution_count": null
  },
  {
   "cell_type": "code",
   "source": "",
   "metadata": {
    "id": "6ycUSY9R4IRN"
   },
   "outputs": [],
   "execution_count": null
  },
  {
   "cell_type": "code",
   "source": "",
   "metadata": {
    "id": "GF8Qi-bL4Icp"
   },
   "outputs": [],
   "execution_count": null
  },
  {
   "cell_type": "markdown",
   "source": [
    "# 24. Páginas acessadas\n",
    "\n",
    "**Complexidade:** baixa\n",
    "\n",
    "Avaliar o volume de navegação no app em dias específicos ajuda a identificar picos de interesse ou problemas de usabilidade.\n",
    "\n",
    "Com exceção do menu de navegação, **qual a página com maior quantidade de registros de acesso num único dia?**"
   ],
   "metadata": {
    "id": "45LDEvGg3PcT"
   }
  },
  {
   "cell_type": "code",
   "source": "",
   "metadata": {
    "id": "pGC0DVgF4OfE"
   },
   "outputs": [],
   "execution_count": null
  },
  {
   "cell_type": "code",
   "source": "",
   "metadata": {
    "id": "59iZFHQW4Os4"
   },
   "outputs": [],
   "execution_count": null
  },
  {
   "cell_type": "code",
   "source": "",
   "metadata": {
    "id": "mzTvhLUM4O2o"
   },
   "outputs": [],
   "execution_count": null
  },
  {
   "cell_type": "markdown",
   "source": [
    "# 25. Acessos ao app\n",
    "\n",
    "**Complexidade:** baixa\n",
    "\n",
    "Medir o tráfego diário do aplicativo é importante para identificar os dias de maior e menor movimento a fim de planejar melhorias na experiência do usuário.\n",
    "\n",
    "**Quantos usuários distintos acessaram o app no dia de maior movimentação?**\n",
    "\n",
    "**Regra:** considere o dia de maior movimentação aquele com maior quantidade de visitas distintas o app.\n",
    "\n",
    "**Dica:** a base de dados disponibilizada já trata apenas de registros de acessos ao app, independentemente do dispositivo."
   ],
   "metadata": {
    "id": "ZQYQvdna3PmR"
   }
  },
  {
   "cell_type": "code",
   "source": "",
   "metadata": {
    "id": "4K84gx1q41zS"
   },
   "outputs": [],
   "execution_count": null
  },
  {
   "cell_type": "code",
   "source": "",
   "metadata": {
    "id": "IkViUjPu413H"
   },
   "outputs": [],
   "execution_count": null
  },
  {
   "cell_type": "code",
   "source": "",
   "metadata": {
    "id": "XK-jxSO242Go"
   },
   "outputs": [],
   "execution_count": null
  },
  {
   "cell_type": "markdown",
   "source": [
    "# 26. Dispositivos móveis x desktop\n",
    "\n",
    "**Complexidade:** média\n",
    "\n",
    "O domínio de uma determinada plataforma pode direcionar os investimentos no design e funcionalidade. Para isso, é importante identificar qual plataforma está sendo mais usada, de modo a otimizar os esforços de desenvolvimento.\n",
    "\n",
    "**Qual é a proporção de visitas via dispositivos móveis versus desktop?**\n",
    "\n",
    "**Regra:** a resposta deverá conter até uma casa decimal, arredondando para o valormais próximo.\n",
    "\n",
    "**Dica:** os sistemas operacionais iOS e Android correspondem aos dispositivos móveis e Mac corresponde aos dispositivos desktops."
   ],
   "metadata": {
    "id": "Y-40wygZ3P1V"
   }
  },
  {
   "cell_type": "code",
   "source": "",
   "metadata": {
    "id": "tZj5vb_g405H"
   },
   "outputs": [],
   "execution_count": null
  },
  {
   "cell_type": "code",
   "source": "",
   "metadata": {
    "id": "44EYSpFx408d"
   },
   "outputs": [],
   "execution_count": null
  },
  {
   "cell_type": "code",
   "source": "",
   "metadata": {
    "id": "camDOl5I41Kv"
   },
   "outputs": [],
   "execution_count": null
  },
  {
   "cell_type": "markdown",
   "source": [
    "# 27. Usuários recorrentes x usuários eventuais\n",
    "\n",
    "**Complexidade:** média\n",
    "\n",
    "Todo negócio precisa planejar a retenção de seus usuários, sendo importante conhecer esses números. Um alto número de novos usuários pode indicar um bom marketing, mas baixa retenção sugere necessidade de melhorias.\n",
    "\n",
    "**Qual a proporção de usuários recorrentes em relação aos usuários eventuais?**\n",
    "\n",
    "**Regra 1:** considere usuários eventuais aqueles que visitaram o app no máximo 15 dias distintos.\n",
    "\n",
    "**Regra 2:** a resposta deverá conter até uma casa decimal, arredondando para o valor mais próximo."
   ],
   "metadata": {
    "id": "sDe57clZ3P_C"
   }
  },
  {
   "cell_type": "code",
   "source": "",
   "metadata": {
    "id": "DevMbMJy5DB5"
   },
   "outputs": [],
   "execution_count": null
  },
  {
   "cell_type": "code",
   "source": "",
   "metadata": {
    "id": "kEc9qKZD5DEv"
   },
   "outputs": [],
   "execution_count": null
  },
  {
   "cell_type": "code",
   "source": "",
   "metadata": {
    "id": "-27NUI6Z5DUG"
   },
   "outputs": [],
   "execution_count": null
  },
  {
   "cell_type": "markdown",
   "source": [
    "# 28. Variação semanal\n",
    "\n",
    "**Complexidade:** alta\n",
    "\n",
    "Monitorar o crescimento do canal é essencial para identificar semanas com maior sucesso de aquisição de usuários e assim ajustar campanhas de aquisição de usuários ou medir a eficácia das ações em andamento.\n",
    "\n",
    "**Qual a taxa de variação semanal média do número de visitas únicas em setembro/2024?**\n",
    "\n",
    "**Regra 1:** considere as 4 semanas cheias do mês:\n",
    "* semana 1: 01 a07/09\n",
    "* semana 2: 08 a 14/09\n",
    "* semana 3: 15 a 21/09\n",
    "* semana 4: 22 a 28/09\n",
    "\n",
    "**Regra 2:** a resposta será a média da taxa de variação entre cada período.\n",
    "\n",
    "**Regra 3:** o valor deverá ser representado de forma decimal, com até 2 casas decimais, arredondando para o valor mais próximo.\n",
    "\n",
    "**Dica 1:** a variação entre dois períodos é calculada da seguinte forma: o total de visitas do período final menos o total de visitas do período inicial, dividido pelo total de visitas do período inicial.\n",
    "\n",
    "**Dica 2:** arredonde apenas a resposta final."
   ],
   "metadata": {
    "id": "rQAnlY0g3QKg"
   }
  },
  {
   "cell_type": "code",
   "source": "",
   "metadata": {
    "id": "aQZX_an9ygWR"
   },
   "outputs": [],
   "execution_count": null
  },
  {
   "cell_type": "code",
   "source": "",
   "metadata": {
    "id": "zumLHkxJ5iF4"
   },
   "outputs": [],
   "execution_count": null
  },
  {
   "cell_type": "code",
   "source": "",
   "metadata": {
    "id": "RhEMGx0X5iRV"
   },
   "outputs": [],
   "execution_count": null
  }
 ]
}
