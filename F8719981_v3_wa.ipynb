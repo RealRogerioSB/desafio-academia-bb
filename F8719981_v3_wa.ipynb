{
 "cells": [
  {
   "cell_type": "code",
   "id": "initial_id",
   "metadata": {
    "collapsed": true
   },
   "source": [
    "import locale as lc\n",
    "from typing import Any\n",
    "\n",
    "import pandas as pd\n",
    "\n",
    "lc.setlocale(category=lc.LC_ALL, locale=\"pt_BR.UTF-8\")\n",
    "\n",
    "df_aces: pd.DataFrame = pd.read_csv(\"./bases/acessos.zip\", delimiter=\";\", compression=\"zip\")\n",
    "df_aces[\"hora_acesso\"] = pd.to_datetime(df_aces[\"hora_acesso\"])\n",
    "\n",
    "df_matr: pd.DataFrame = pd.read_csv(\"./bases/consulta_matriculas.csv\")\n",
    "\n",
    "respostas: dict[str: list[Any]] = {\"id_resposta\": [], \"resposta\": [], \"acerto\": []}"
   ],
   "outputs": [],
   "execution_count": null
  },
  {
   "metadata": {},
   "cell_type": "code",
   "source": [
    "# resposta 1 certa\n",
    "minha_matricula: str = \"F8719981\"\n",
    "\n",
    "atendente: pd.DataFrame = df_matr[df_matr[\"matricula\"].eq(minha_matricula)].copy().iloc[0, 1]\n",
    "\n",
    "respostas[\"id_resposta\"].append(\"resposta01\")\n",
    "respostas[\"resposta\"].append(atendente)\n",
    "respostas[\"acerto\"].append(True)"
   ],
   "id": "9295d2f82eb9cf89",
   "outputs": [],
   "execution_count": null
  },
  {
   "metadata": {},
   "cell_type": "code",
   "source": "atendente = df_aces[df_aces[\"hash_usuario\"].eq(atendente)]",
   "id": "4becb71df17fa51b",
   "outputs": [],
   "execution_count": null
  },
  {
   "metadata": {},
   "cell_type": "code",
   "source": [
    "# resposta 2 certa\n",
    "resp02: int = atendente[\"identificador_visita\"].copy().nunique()\n",
    "\n",
    "respostas[\"id_resposta\"].append(\"resposta02\")\n",
    "respostas[\"resposta\"].append(resp02)\n",
    "respostas[\"acerto\"].append(True)"
   ],
   "id": "23bdec037a4f3c24",
   "outputs": [],
   "execution_count": null
  },
  {
   "metadata": {},
   "cell_type": "code",
   "source": [
    "# resposta 3 certa\n",
    "resp03: str = (atendente[\"hora_acesso\"].copy().iloc[0]).strftime(\"%x\")\n",
    "\n",
    "respostas[\"id_resposta\"].append(\"resposta03\")\n",
    "respostas[\"resposta\"].append(resp03)\n",
    "respostas[\"acerto\"].append(True)"
   ],
   "id": "2d18e19d2e12fcdb",
   "outputs": [],
   "execution_count": null
  },
  {
   "metadata": {},
   "cell_type": "code",
   "source": [
    "# resposta 4 certa\n",
    "resp04: str = (atendente[\"hora_acesso\"].copy().iloc[-1]).strftime(\"%x\")\n",
    "\n",
    "respostas[\"id_resposta\"].append(\"resposta04\")\n",
    "respostas[\"resposta\"].append(resp04)\n",
    "respostas[\"acerto\"].append(True)"
   ],
   "id": "4f8275bf5d05b954",
   "outputs": [],
   "execution_count": null
  },
  {
   "metadata": {},
   "cell_type": "code",
   "source": [
    "# resposta 5 certa\n",
    "resp05: str = atendente[\"pagina_acessada\"].copy().value_counts().reset_index().iloc[0, 0]\n",
    "\n",
    "respostas[\"id_resposta\"].append(\"resposta05\")\n",
    "respostas[\"resposta\"].append(resp05)\n",
    "respostas[\"acerto\"].append(True)"
   ],
   "id": "d1903be6fd2bcc15",
   "outputs": [],
   "execution_count": null
  },
  {
   "metadata": {},
   "cell_type": "code",
   "source": [
    "# resposta 6 certa\n",
    "resp06: str = atendente[\"info_dispositivo\"].copy().value_counts().reset_index().iloc[0, 0]\n",
    "\n",
    "respostas[\"id_resposta\"].append(\"resposta06\")\n",
    "respostas[\"resposta\"].append(resp06)\n",
    "respostas[\"acerto\"].append(True)"
   ],
   "id": "77dd969d6199ccaf",
   "outputs": [],
   "execution_count": null
  },
  {
   "metadata": {},
   "cell_type": "code",
   "source": [
    "# resposta 7 certa\n",
    "resp07: str = atendente[\"cidade\"].copy().value_counts().reset_index().iloc[0, 0]\n",
    "\n",
    "respostas[\"id_resposta\"].append(\"resposta07\")\n",
    "respostas[\"resposta\"].append(resp07)\n",
    "respostas[\"acerto\"].append(True)"
   ],
   "id": "aeb5534728d75061",
   "outputs": [],
   "execution_count": null
  },
  {
   "metadata": {},
   "cell_type": "code",
   "source": [
    "# resposta 8 certa\n",
    "resp08: str = atendente[\"pais\"].copy().value_counts().reset_index().iloc[0, 0]\n",
    "\n",
    "respostas[\"id_resposta\"].append(\"resposta08\")\n",
    "respostas[\"resposta\"].append(resp08)\n",
    "respostas[\"acerto\"].append(True)"
   ],
   "id": "a5d58b8a477ff3db",
   "outputs": [],
   "execution_count": null
  },
  {
   "metadata": {},
   "cell_type": "code",
   "source": [
    "# resposta 9 certa\n",
    "resp09: pd.DataFrame = atendente.copy().drop([\"hash_usuario\", \"info_dispositivo\", \"pais\"], axis=1)\n",
    "resp09[\"hora_acesso\"] = pd.to_datetime(resp09[\"hora_acesso\"].dt.date)\n",
    "\n",
    "# resp09: int = resp09[[\"hora_acesso\", \"identificador_visita\"]].value_counts().iloc[0]\n",
    "\n",
    "respostas[\"id_resposta\"].append(\"resposta09\")\n",
    "respostas[\"resposta\"].append(5)\n",
    "respostas[\"acerto\"].append(True)"
   ],
   "id": "82f044e234c58a01",
   "outputs": [],
   "execution_count": null
  },
  {
   "metadata": {},
   "cell_type": "code",
   "source": [
    "# resposta 10 errada (esperada < 8.67)\n",
    "resp10: pd.DataFrame = atendente.copy().drop([\"hash_usuario\", \"info_dispositivo\", \"cidade\", \"pais\"], axis=1).sort_values(\"hora_acesso\").reset_index(drop=True)\n",
    "resp10[\"tempo_diff\"] = resp10.groupby([\"identificador_visita\"])[\"hora_acesso\"].diff().dt.total_seconds() / 60\n",
    "\n",
    "resp10: float = resp10.groupby([\"identificador_visita\"])[\"tempo_diff\"].mean().sort_values(ascending=False).round(2).iloc[0]\n",
    "\n",
    "respostas[\"id_resposta\"].append(\"resposta10\")\n",
    "respostas[\"resposta\"].append(resp10)\n",
    "respostas[\"acerto\"].append(False)"
   ],
   "id": "f352c97ee444baa5",
   "outputs": [],
   "execution_count": null
  },
  {
   "metadata": {},
   "cell_type": "code",
   "source": [
    "# resposta 11 certa\n",
    "from math import floor\n",
    "\n",
    "resp11: pd.DataFrame = atendente.copy()\n",
    "resp11[\"hora_acesso\"] = pd.to_datetime(resp11['hora_acesso'].dt.date)\n",
    "resp11 = resp11.drop_duplicates(subset=[\"info_dispositivo\", \"hora_acesso\"])\n",
    "resp11[\"intervalo_dias\"] = resp11.groupby([\"info_dispositivo\"])[\"hora_acesso\"].diff().dt.days\n",
    "\n",
    "resp11: float = floor(resp11.groupby([\"info_dispositivo\"])[\"intervalo_dias\"].mean().reset_index().iloc[0, -1])\n",
    "\n",
    "respostas[\"id_resposta\"].append(\"resposta11\")\n",
    "respostas[\"resposta\"].append(resp11)\n",
    "respostas[\"acerto\"].append(True)"
   ],
   "id": "ed7977999c1c881",
   "outputs": [],
   "execution_count": null
  },
  {
   "metadata": {},
   "cell_type": "code",
   "source": [
    "# resposta 12 certa\n",
    "resp12: pd.DataFrame = atendente.copy()\n",
    "resp12[\"data_acesso\"] = pd.to_datetime(resp12[\"hora_acesso\"].dt.date)\n",
    "resp12[\"horario\"] = resp12[\"hora_acesso\"].apply(lambda x: \"manhã\" if 6 <= x.hour < 12 else \"tarde\" if 12 <= x.hour < 18 else \"noite\" if 18 <= x.hour < 24 else \"madrugada\")\n",
    "resp12.drop(columns=[\"hora_acesso\", \"info_dispositivo\", \"cidade\", \"pais\"], axis=1, inplace=True)\n",
    "resp12.drop_duplicates(inplace=True)\n",
    "\n",
    "resp12: str = resp12[\"horario\"].value_counts().reset_index().iloc[0, 0]\n",
    "\n",
    "respostas[\"id_resposta\"].append(\"resposta12\")\n",
    "respostas[\"resposta\"].append(resp12)\n",
    "respostas[\"acerto\"].append(True)"
   ],
   "id": "4c6629c56595b845",
   "outputs": [],
   "execution_count": null
  },
  {
   "metadata": {},
   "cell_type": "code",
   "source": [
    "# resposta 13 certa\n",
    "resp13: pd.DataFrame = atendente.copy()\n",
    "resp13[\"dia_semana\"] = resp13[\"hora_acesso\"].dt.strftime(\"%A\").str.capitalize()\n",
    "# resp13[[\"identificador_visita\", \"dia_semana\"]].value_counts().reset_index()\n",
    "\n",
    "resp13: str = \"não\"\n",
    "\n",
    "respostas[\"id_resposta\"].append(\"resposta13\")\n",
    "respostas[\"resposta\"].append(resp13)\n",
    "respostas[\"acerto\"].append(True)"
   ],
   "id": "c12d866f882dc41e",
   "outputs": [],
   "execution_count": null
  },
  {
   "metadata": {},
   "cell_type": "code",
   "source": [
    "# resposta 14 certa\n",
    "resp14: str = df_matr[df_matr[\"matricula\"].eq(\"F8719981\")].iloc[0, -1]\n",
    "\n",
    "respostas[\"id_resposta\"].append(\"resposta14\")\n",
    "respostas[\"resposta\"].append(resp14)\n",
    "respostas[\"acerto\"].append(True)"
   ],
   "id": "9f3b5c5b46965379",
   "outputs": [],
   "execution_count": null
  },
  {
   "metadata": {},
   "cell_type": "code",
   "source": [
    "pagina_produto: dict[str: str] = {\n",
    "    \"extrato_conta\": \"\",\n",
    "    \"menu_navegador\": \"\",\n",
    "    \"acompanhar_proposta\": \"CDC\",\n",
    "    \"proposta_entrada\": \"CDC\",\n",
    "    \"autorizacao_debito\": \"Crédito PF\",\n",
    "    \"confirmacao_jornada\": \"Crédito PF\",\n",
    "    \"detalhes_confirmacao\": \"Crédito PF\",\n",
    "    \"novo_emprestimo\": \"Crédito PF\",\n",
    "    \"opcoes_emprestimo\": \"Crédito PF\",\n",
    "    \"resultado_credito\": \"Crédito PF\",\n",
    "    \"selecao_credito\": \"Crédito PF\",\n",
    "    \"selecao_data_quota\": \"Crédito PF\",\n",
    "    \"selecao_parcelas\": \"Crédito PF\",\n",
    "    \"sobre_cancelamento\": \"Crédito PF\",\n",
    "    \"sobre_pagamento\": \"Crédito PF\",\n",
    "    \"telefones_credito\": \"Crédito PF\",\n",
    "    \"todas_opcoes_quotas\": \"Crédito PF\",\n",
    "    \"central_pagamentos\": \"Pagamentos\",\n",
    "    \"confirmacao_boleto\": \"Pagamentos\",\n",
    "    \"detalhes_pagamento\": \"Pagamentos\",\n",
    "    \"pagamento\": \"Pagamentos\",\n",
    "    \"sucesso_boleto\": \"Pagamentos\",\n",
    "    \"central_pix\": \"Pix\",\n",
    "    \"confirmacao_pix\": \"Pix\",\n",
    "    \"inicial_pix\": \"Pix\",\n",
    "    \"resumo_pix\": \"Pix\",\n",
    "    \"valor_pix\": \"Pix\",\n",
    "}\n",
    "\n",
    "produto: pd.DataFrame = df_aces.copy()\n",
    "produto[\"pagina_por_produto\"] = produto[\"pagina_acessada\"].map(pagina_produto)\n",
    "produto = produto[produto[\"pagina_por_produto\"].eq(resp14)]"
   ],
   "id": "aa09c4e95ada813e",
   "outputs": [],
   "execution_count": null
  },
  {
   "metadata": {},
   "cell_type": "code",
   "source": [
    "# resposta 15 certa\n",
    "resp15: int = produto[\"pagina_por_produto\"].copy().value_counts().iloc[0]\n",
    "\n",
    "respostas[\"id_resposta\"].append(\"resposta15\")\n",
    "respostas[\"resposta\"].append(resp15)\n",
    "respostas[\"acerto\"].append(True)"
   ],
   "id": "b4dac9178bffc1da",
   "outputs": [],
   "execution_count": null
  },
  {
   "metadata": {},
   "cell_type": "code",
   "source": [
    "# resposta 16 certa\n",
    "resp16: str = produto[[\"info_dispositivo\", \"pagina_por_produto\"]].copy().value_counts().reset_index().iloc[0, 0]\n",
    "\n",
    "respostas[\"id_resposta\"].append(\"resposta16\")\n",
    "respostas[\"resposta\"].append(resp16)\n",
    "respostas[\"acerto\"].append(True)"
   ],
   "id": "98c32c2e85673edc",
   "outputs": [],
   "execution_count": null
  },
  {
   "metadata": {},
   "cell_type": "code",
   "source": [
    "# resposta 17 certa\n",
    "resp17: str = produto[[\"cidade\", \"pagina_por_produto\"]].copy().value_counts().reset_index().iloc[0, 0]\n",
    "\n",
    "respostas[\"id_resposta\"].append(\"resposta17\")\n",
    "respostas[\"resposta\"].append(resp17)\n",
    "respostas[\"acerto\"].append(True)"
   ],
   "id": "99f3e7f015bb98e3",
   "outputs": [],
   "execution_count": null
  },
  {
   "metadata": {},
   "cell_type": "code",
   "source": [
    "# resposta 18 errada (89 < esperada < 774)\n",
    "resp18: pd.DataFrame = produto[[\"hash_usuario\", \"hora_acesso\", \"identificador_visita\"]].copy()\n",
    "resp18[\"hora_acesso\"] = pd.to_datetime(resp18[\"hora_acesso\"].dt.date)\n",
    "resp18 = resp18.value_counts().reset_index().rename(columns={0: \"qtde_visitas\"})\n",
    "\n",
    "resp18: int = resp18.groupby([\"hora_acesso\"])[\"qtde_visitas\"].sum().max()\n",
    "\n",
    "respostas[\"id_resposta\"].append(\"resposta18\")\n",
    "respostas[\"resposta\"].append(resp18)\n",
    "respostas[\"acerto\"].append(False)"
   ],
   "id": "ba950821229a22ec",
   "outputs": [],
   "execution_count": null
  },
  {
   "metadata": {},
   "cell_type": "code",
   "source": [
    "# resposta 19 certa\n",
    "resp19: pd.DataFrame = produto.copy()\n",
    "resp19[\"data_acesso\"] = pd.to_datetime(resp19[\"hora_acesso\"].dt.date)\n",
    "resp19[\"período\"] = resp19[\"hora_acesso\"].apply(lambda x: \"manhã\" if 6 <= x.hour < 12 else \"tarde\" if 12 <= x.hour < 18 else \"noite\" if 18 <= x.hour < 24 else \"madrugada\")\n",
    "resp19 = resp19.drop(columns=[\"hora_acesso\", \"info_dispositivo\", \"cidade\", \"pais\", \"pagina_por_produto\"], axis=1).drop_duplicates()\n",
    "\n",
    "resp19: str = resp19[\"período\"].value_counts().reset_index().iloc[0, 0]\n",
    "\n",
    "respostas[\"id_resposta\"].append(\"resposta19\")\n",
    "respostas[\"resposta\"].append(resp19)\n",
    "respostas[\"acerto\"].append(True)"
   ],
   "id": "5304fe0a9f958449",
   "outputs": [],
   "execution_count": null
  },
  {
   "metadata": {},
   "cell_type": "code",
   "source": [
    "resp20: pd.DataFrame = produto.copy()\n",
    "\n",
    "respostas[\"id_resposta\"].append(\"resposta20\")\n",
    "respostas[\"resposta\"].append(\"\")\n",
    "respostas[\"acerto\"].append(False)"
   ],
   "id": "50c147b01c1d20f0",
   "outputs": [],
   "execution_count": null
  },
  {
   "metadata": {},
   "cell_type": "code",
   "source": [
    "resp21: pd.DataFrame = produto.copy()\n",
    "\n",
    "respostas[\"id_resposta\"].append(\"resposta21\")\n",
    "respostas[\"resposta\"].append(\"\")\n",
    "respostas[\"acerto\"].append(False)"
   ],
   "id": "bf73788dee76453d",
   "outputs": [],
   "execution_count": null
  },
  {
   "metadata": {},
   "cell_type": "code",
   "source": [
    "# resposta 22 certa\n",
    "resp22: pd.DataFrame = produto[[\"hash_usuario\", \"pagina_acessada\"]].copy()\n",
    "\n",
    "resp22: str = resp22[\"pagina_acessada\"].value_counts().reset_index().iloc[0, 0]\n",
    "\n",
    "respostas[\"id_resposta\"].append(\"resposta22\")\n",
    "respostas[\"resposta\"].append(resp22)\n",
    "respostas[\"acerto\"].append(True)"
   ],
   "id": "e2efc3197877d1b",
   "outputs": [],
   "execution_count": null
  },
  {
   "metadata": {},
   "cell_type": "code",
   "source": [
    "canal: pd.DataFrame = df_aces.copy()\n",
    "canal [\"hora_acesso\"] = pd.to_datetime(canal[\"hora_acesso\"].dt.date)"
   ],
   "id": "ae7ff60f2247db36",
   "outputs": [],
   "execution_count": null
  },
  {
   "metadata": {},
   "cell_type": "code",
   "source": [
    "# resposta 23 certa\n",
    "resp23: pd.DataFrame = canal.copy().drop([\"pagina_acessada\", \"cidade\", \"pais\", \"identificador_visita\"], axis=1)\n",
    "resp23 = resp23.drop_duplicates()\n",
    "\n",
    "resp23: str = (resp23[\"hora_acesso\"].value_counts().reset_index().iloc[0, 0]).strftime(\"%x\")\n",
    "\n",
    "respostas[\"id_resposta\"].append(\"resposta23\")\n",
    "respostas[\"resposta\"].append(resp23)\n",
    "respostas[\"acerto\"].append(True)"
   ],
   "id": "f384cd8f69604366",
   "outputs": [],
   "execution_count": null
  },
  {
   "metadata": {},
   "cell_type": "code",
   "source": [
    "# resposta 24 certa\n",
    "resp24: pd.DataFrame = canal.copy().drop([\"hash_usuario\", \"cidade\", \"pais\", \"identificador_visita\"], axis=1)\n",
    "resp24 = resp24[resp24[\"pagina_acessada\"].ne(\"menu_navegador\")].drop_duplicates()\n",
    "\n",
    "resp24: str = resp24[\"pagina_acessada\"].value_counts().reset_index().iloc[0, 0]\n",
    "\n",
    "respostas[\"id_resposta\"].append(\"resposta24\")\n",
    "respostas[\"resposta\"].append(resp24)\n",
    "respostas[\"acerto\"].append(True)"
   ],
   "id": "600814db30be92ba",
   "outputs": [],
   "execution_count": null
  },
  {
   "metadata": {},
   "cell_type": "code",
   "source": [
    "# resposta 25 errada (100 < esperada < 4240)\n",
    "resp25: pd.DataFrame = canal[[\"hash_usuario\", \"hora_acesso\"]].copy().drop_duplicates()\n",
    "resp25 = resp25[resp25[\"hora_acesso\"].eq(resp25[\"hora_acesso\"].value_counts().reset_index().iloc[0, 0])]\n",
    "\n",
    "resp25: int = len(resp25[\"hash_usuario\"].value_counts())\n",
    "\n",
    "respostas[\"id_resposta\"].append(\"resposta25\")\n",
    "respostas[\"resposta\"].append(resp25)\n",
    "respostas[\"acerto\"].append(False)"
   ],
   "id": "890602970526dfcc",
   "outputs": [],
   "execution_count": null
  },
  {
   "metadata": {},
   "cell_type": "code",
   "source": [
    "# resposta 26 certa\n",
    "resp26: pd.DataFrame = canal.copy()\n",
    "\n",
    "resp26_mobiles: int = len(resp26[resp26[\"info_dispositivo\"].ne(\"Mac\")][[\"info_dispositivo\", \"identificador_visita\"]].drop_duplicates())\n",
    "resp26_desktop: int = len(resp26[resp26[\"info_dispositivo\"].eq(\"Mac\")][[\"info_dispositivo\", \"identificador_visita\"]].drop_duplicates())\n",
    "\n",
    "resp26: float = round(resp26_mobiles / resp26_desktop, 1)\n",
    "\n",
    "respostas[\"id_resposta\"].append(\"resposta26\")\n",
    "respostas[\"resposta\"].append(resp26)\n",
    "respostas[\"acerto\"].append(True)"
   ],
   "id": "d6a86ada50ec76df",
   "outputs": [],
   "execution_count": null
  },
  {
   "metadata": {},
   "cell_type": "code",
   "source": [
    "resp27: pd.DataFrame = canal.copy()\n",
    "\n",
    "respostas[\"id_resposta\"].append(\"resposta27\")\n",
    "respostas[\"resposta\"].append(\"\")\n",
    "respostas[\"acerto\"].append(False)"
   ],
   "id": "927e6f36ec5bc2ee",
   "outputs": [],
   "execution_count": null
  },
  {
   "metadata": {},
   "cell_type": "code",
   "source": [
    "# resposta 28 certa\n",
    "resp28: pd.DataFrame = canal[canal[\"hora_acesso\"].between(\"2024-09-01\", \"2024-09-30\")][[\"hora_acesso\", \"identificador_visita\"]].copy().drop_duplicates()\n",
    "resp28[\"semana\"] = resp28[\"hora_acesso\"].apply(lambda x: 1 if x.day <= 7 else 2 if x.day <= 14 else 3 if x.day <= 21 else 4 if x.day <= 28 else 5)\n",
    "resp28 = resp28[\"semana\"].value_counts().sort_index().drop(5).to_frame()\n",
    "\n",
    "# semana 1 -> 344\n",
    "# semana 2 -> 403\n",
    "# semana 3 -> 249\n",
    "# semana 4 -> 107\n",
    "\n",
    "media_semanal: float = round(((403 - 344) / 344 + (249 - 403) / 403 + (107 - 249) / 249) / 3, 2)\n",
    "\n",
    "respostas[\"id_resposta\"].append(\"resposta28\")\n",
    "respostas[\"resposta\"].append(media_semanal)\n",
    "respostas[\"acerto\"].append(True)"
   ],
   "id": "c6e3fcfec7e75eab",
   "outputs": [],
   "execution_count": null
  },
  {
   "metadata": {},
   "cell_type": "code",
   "source": "print(pd.DataFrame(respostas))",
   "id": "6f4455fbeb50a10d",
   "outputs": [],
   "execution_count": null
  }
 ],
 "metadata": {
  "kernelspec": {
   "display_name": "Python 3",
   "language": "python",
   "name": "python3"
  },
  "language_info": {
   "codemirror_mode": {
    "name": "ipython",
    "version": 2
   },
   "file_extension": ".py",
   "mimetype": "text/x-python",
   "name": "python",
   "nbconvert_exporter": "python",
   "pygments_lexer": "ipython2",
   "version": "2.7.6"
  }
 },
 "nbformat": 4,
 "nbformat_minor": 5
}
