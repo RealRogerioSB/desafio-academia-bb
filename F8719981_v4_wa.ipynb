{
 "cells": [
  {
   "cell_type": "code",
   "id": "initial_id",
   "metadata": {
    "collapsed": true,
    "ExecuteTime": {
     "end_time": "2024-12-03T23:40:23.969069Z",
     "start_time": "2024-12-03T23:40:23.006517Z"
    }
   },
   "source": [
    "import locale as lc\n",
    "from typing import Any\n",
    "\n",
    "import pandas as pd\n",
    "\n",
    "lc.setlocale(category=lc.LC_ALL, locale=\"pt_BR.UTF-8\")\n",
    "\n",
    "df_aces: pd.DataFrame = pd.read_csv(\"./bases/acessos.zip\", delimiter=\";\", compression=\"zip\")\n",
    "df_aces[\"hora_acesso\"] = pd.to_datetime(df_aces[\"hora_acesso\"])\n",
    "\n",
    "df_matr: pd.DataFrame = pd.read_csv(\"./bases/consulta_matriculas.csv\")\n",
    "\n",
    "respostas: dict[str: list[Any]] = {\"id_resposta\": [], \"resposta\": [], \"acerto\": []}"
   ],
   "outputs": [],
   "execution_count": 1
  },
  {
   "metadata": {
    "ExecuteTime": {
     "end_time": "2024-12-03T23:40:23.981013Z",
     "start_time": "2024-12-03T23:40:23.976598Z"
    }
   },
   "cell_type": "code",
   "source": [
    "# resposta 1 certa -> 7yady001\n",
    "resp01: str = df_matr[df_matr[\"matricula\"].eq(\"F8719981\")].copy().reset_index(drop=True).iloc[0, 1]\n",
    "\n",
    "respostas[\"id_resposta\"].append(\"resposta01\")\n",
    "respostas[\"resposta\"].append(resp01)\n",
    "respostas[\"acerto\"].append(True)"
   ],
   "id": "9295d2f82eb9cf89",
   "outputs": [],
   "execution_count": 2
  },
  {
   "metadata": {
    "ExecuteTime": {
     "end_time": "2024-12-03T23:40:24.065960Z",
     "start_time": "2024-12-03T23:40:24.041349Z"
    }
   },
   "cell_type": "code",
   "source": "atendente: pd.DataFrame = df_aces[df_aces[\"hash_usuario\"].eq(resp01)].copy().reset_index(drop=True)",
   "id": "be08e8d976caa7e1",
   "outputs": [],
   "execution_count": 3
  },
  {
   "metadata": {
    "ExecuteTime": {
     "end_time": "2024-12-03T23:40:24.073350Z",
     "start_time": "2024-12-03T23:40:24.071017Z"
    }
   },
   "cell_type": "code",
   "source": [
    "# resposta 2 certa -> 36\n",
    "resp02: int = atendente[\"identificador_visita\"].copy().nunique()\n",
    "\n",
    "respostas[\"id_resposta\"].append(\"resposta02\")\n",
    "respostas[\"resposta\"].append(resp02)\n",
    "respostas[\"acerto\"].append(True)"
   ],
   "id": "23bdec037a4f3c24",
   "outputs": [],
   "execution_count": 4
  },
  {
   "metadata": {
    "ExecuteTime": {
     "end_time": "2024-12-03T23:40:24.080296Z",
     "start_time": "2024-12-03T23:40:24.078205Z"
    }
   },
   "cell_type": "code",
   "source": [
    "# resposta 3 certa -> 22/01/2024\n",
    "resp03: str = (atendente[\"hora_acesso\"].copy().iloc[0]).strftime(\"%x\")\n",
    "\n",
    "respostas[\"id_resposta\"].append(\"resposta03\")\n",
    "respostas[\"resposta\"].append(resp03)\n",
    "respostas[\"acerto\"].append(True)"
   ],
   "id": "2d18e19d2e12fcdb",
   "outputs": [],
   "execution_count": 5
  },
  {
   "metadata": {
    "ExecuteTime": {
     "end_time": "2024-12-03T23:40:24.086763Z",
     "start_time": "2024-12-03T23:40:24.084887Z"
    }
   },
   "cell_type": "code",
   "source": [
    "# resposta 4 certa -> 24/06/2024\n",
    "resp04: str = (atendente[\"hora_acesso\"].copy().iloc[-1]).strftime(\"%x\")\n",
    "\n",
    "respostas[\"id_resposta\"].append(\"resposta04\")\n",
    "respostas[\"resposta\"].append(resp04)\n",
    "respostas[\"acerto\"].append(True)"
   ],
   "id": "4f8275bf5d05b954",
   "outputs": [],
   "execution_count": 6
  },
  {
   "metadata": {
    "ExecuteTime": {
     "end_time": "2024-12-03T23:40:24.093790Z",
     "start_time": "2024-12-03T23:40:24.091520Z"
    }
   },
   "cell_type": "code",
   "source": [
    "# resposta 5 certa -> menu_navegador\n",
    "resp05: str = atendente[\"pagina_acessada\"].copy().value_counts().idxmax()\n",
    "\n",
    "respostas[\"id_resposta\"].append(\"resposta05\")\n",
    "respostas[\"resposta\"].append(resp05)\n",
    "respostas[\"acerto\"].append(True)"
   ],
   "id": "d1903be6fd2bcc15",
   "outputs": [],
   "execution_count": 7
  },
  {
   "metadata": {
    "ExecuteTime": {
     "end_time": "2024-12-03T23:40:24.100053Z",
     "start_time": "2024-12-03T23:40:24.098425Z"
    }
   },
   "cell_type": "code",
   "source": [
    "# resposta 6 certa -> Android\n",
    "resp06: str = atendente[\"info_dispositivo\"].copy().value_counts().idxmax()\n",
    "\n",
    "respostas[\"id_resposta\"].append(\"resposta06\")\n",
    "respostas[\"resposta\"].append(resp06)\n",
    "respostas[\"acerto\"].append(True)"
   ],
   "id": "77dd969d6199ccaf",
   "outputs": [],
   "execution_count": 8
  },
  {
   "metadata": {
    "ExecuteTime": {
     "end_time": "2024-12-03T23:40:24.106442Z",
     "start_time": "2024-12-03T23:40:24.104776Z"
    }
   },
   "cell_type": "code",
   "source": [
    "# resposta 7 certa -> Campinas\n",
    "resp07: str = atendente[\"cidade\"].copy().value_counts().idxmax()\n",
    "\n",
    "respostas[\"id_resposta\"].append(\"resposta07\")\n",
    "respostas[\"resposta\"].append(resp07)\n",
    "respostas[\"acerto\"].append(True)"
   ],
   "id": "aeb5534728d75061",
   "outputs": [],
   "execution_count": 9
  },
  {
   "metadata": {
    "ExecuteTime": {
     "end_time": "2024-12-03T23:40:24.114781Z",
     "start_time": "2024-12-03T23:40:24.112977Z"
    }
   },
   "cell_type": "code",
   "source": [
    "# resposta 8 certa -> Brazil\n",
    "resp08: str = atendente[\"pais\"].copy().value_counts().idxmax()\n",
    "\n",
    "respostas[\"id_resposta\"].append(\"resposta08\")\n",
    "respostas[\"resposta\"].append(resp08)\n",
    "respostas[\"acerto\"].append(True)"
   ],
   "id": "a5d58b8a477ff3db",
   "outputs": [],
   "execution_count": 10
  },
  {
   "metadata": {
    "ExecuteTime": {
     "end_time": "2024-12-03T23:40:24.122943Z",
     "start_time": "2024-12-03T23:40:24.120235Z"
    }
   },
   "cell_type": "code",
   "source": [
    "# resposta 9 certa -> 5\n",
    "resp09: pd.DataFrame = atendente.copy().drop([\"hash_usuario\", \"info_dispositivo\", \"pais\"], axis=1)\n",
    "resp09[\"hora_acesso\"] = pd.to_datetime(resp09[\"hora_acesso\"].dt.date)\n",
    "\n",
    "# resp09: int = resp09[[\"hora_acesso\", \"identificador_visita\"]].value_counts().iloc[0]\n",
    "\n",
    "respostas[\"id_resposta\"].append(\"resposta09\")\n",
    "respostas[\"resposta\"].append(5)\n",
    "respostas[\"acerto\"].append(True)"
   ],
   "id": "82f044e234c58a01",
   "outputs": [],
   "execution_count": 11
  },
  {
   "metadata": {
    "ExecuteTime": {
     "end_time": "2024-12-03T23:44:23.558029Z",
     "start_time": "2024-12-03T23:44:23.550743Z"
    }
   },
   "cell_type": "code",
   "source": [
    "# resposta 10 errada (1.55 < esperada < 8.67)\n",
    "resp10: pd.DataFrame = atendente[[\"pagina_acessada\", \"hora_acesso\", \"identificador_visita\"]].copy().sort_values(by=[\"hora_acesso\", \"identificador_visita\", \"pagina_acessada\"])\n",
    "resp10[\"tempo_permanencia\"] = (resp10.groupby([\"identificador_visita\", \"pagina_acessada\"])[\"hora_acesso\"].diff()).dt.total_seconds() / 60\n",
    "\n",
    "resp10: float = round(resp10[\"tempo_permanencia\"].mean(), 2)\n",
    "\n",
    "respostas[\"id_resposta\"].append(\"resposta10\")\n",
    "respostas[\"resposta\"].append(resp10)\n",
    "respostas[\"acerto\"].append(False)"
   ],
   "id": "b06a4d200804b887",
   "outputs": [],
   "execution_count": 47
  },
  {
   "metadata": {
    "ExecuteTime": {
     "end_time": "2024-12-03T23:40:24.141688Z",
     "start_time": "2024-12-03T23:40:24.137468Z"
    }
   },
   "cell_type": "code",
   "source": [
    "# resposta 11 certa -> 5\n",
    "from math import floor\n",
    "\n",
    "resp11: pd.DataFrame = atendente.copy()\n",
    "resp11[\"hora_acesso\"] = pd.to_datetime(resp11['hora_acesso'].dt.date)\n",
    "resp11 = resp11.drop_duplicates(subset=[\"info_dispositivo\", \"hora_acesso\"])\n",
    "resp11[\"intervalo_dias\"] = resp11.groupby([\"info_dispositivo\"])[\"hora_acesso\"].diff().dt.days\n",
    "\n",
    "resp11: int = floor(resp11[\"intervalo_dias\"].mean())\n",
    "\n",
    "respostas[\"id_resposta\"].append(\"resposta11\")\n",
    "respostas[\"resposta\"].append(resp11)\n",
    "respostas[\"acerto\"].append(True)"
   ],
   "id": "ed7977999c1c881",
   "outputs": [],
   "execution_count": 13
  },
  {
   "metadata": {
    "ExecuteTime": {
     "end_time": "2024-12-03T23:40:24.150628Z",
     "start_time": "2024-12-03T23:40:24.147040Z"
    }
   },
   "cell_type": "code",
   "source": [
    "# resposta 12 certa -> tarde\n",
    "resp12: pd.DataFrame = atendente.copy()\n",
    "resp12[\"data_acesso\"] = pd.to_datetime(resp12[\"hora_acesso\"].dt.date)\n",
    "resp12[\"horario\"] = resp12[\"hora_acesso\"].apply(lambda x: \"madrugada\" if x.hour < 6 else \"manhã\" if x.hour < 12 else \"tarde\" if x.hour < 18 else \"noite\")\n",
    "resp12 = resp12.drop(columns=[\"hora_acesso\", \"info_dispositivo\", \"cidade\", \"pais\"], axis=1).drop_duplicates()\n",
    "\n",
    "resp12: str = resp12[\"horario\"].value_counts().idxmax()\n",
    "\n",
    "respostas[\"id_resposta\"].append(\"resposta12\")\n",
    "respostas[\"resposta\"].append(resp12)\n",
    "respostas[\"acerto\"].append(True)"
   ],
   "id": "4c6629c56595b845",
   "outputs": [],
   "execution_count": 14
  },
  {
   "metadata": {
    "ExecuteTime": {
     "end_time": "2024-12-03T23:40:24.159085Z",
     "start_time": "2024-12-03T23:40:24.155760Z"
    }
   },
   "cell_type": "code",
   "source": [
    "# resposta 13 certa -> não\n",
    "resp13: pd.DataFrame = atendente.copy()\n",
    "resp13[\"dia_semana\"] = resp13[\"hora_acesso\"].dt.strftime(\"%A\").str.capitalize()\n",
    "resp13[[\"identificador_visita\", \"dia_semana\"]].value_counts().reset_index()\n",
    "\n",
    "resp13: str = \"não\"  # fim-de-semana teve poucos dias\n",
    "\n",
    "respostas[\"id_resposta\"].append(\"resposta13\")\n",
    "respostas[\"resposta\"].append(resp13)\n",
    "respostas[\"acerto\"].append(True)"
   ],
   "id": "c12d866f882dc41e",
   "outputs": [],
   "execution_count": 15
  },
  {
   "metadata": {
    "ExecuteTime": {
     "end_time": "2024-12-03T23:40:24.167954Z",
     "start_time": "2024-12-03T23:40:24.164161Z"
    }
   },
   "cell_type": "code",
   "source": [
    "# resposta 14 certa -> Pix\n",
    "resp14: str = df_matr[df_matr[\"matricula\"].eq(\"F8719981\")][\"produto\"].iloc[0]\n",
    "\n",
    "respostas[\"id_resposta\"].append(\"resposta14\")\n",
    "respostas[\"resposta\"].append(resp14)\n",
    "respostas[\"acerto\"].append(True)"
   ],
   "id": "9f3b5c5b46965379",
   "outputs": [],
   "execution_count": 16
  },
  {
   "metadata": {
    "ExecuteTime": {
     "end_time": "2024-12-03T23:40:24.266419Z",
     "start_time": "2024-12-03T23:40:24.173119Z"
    }
   },
   "cell_type": "code",
   "source": "produto: pd.DataFrame = df_aces[df_aces[\"pagina_acessada\"].str.contains(\"_pix\")].copy().reset_index(drop=True)",
   "id": "aa09c4e95ada813e",
   "outputs": [],
   "execution_count": 17
  },
  {
   "metadata": {
    "ExecuteTime": {
     "end_time": "2024-12-03T23:40:24.274140Z",
     "start_time": "2024-12-03T23:40:24.272549Z"
    }
   },
   "cell_type": "code",
   "source": [
    "# resposta 15 certa -> 7916\n",
    "resp15: int = len(produto)\n",
    "\n",
    "respostas[\"id_resposta\"].append(\"resposta15\")\n",
    "respostas[\"resposta\"].append(resp15)\n",
    "respostas[\"acerto\"].append(True)"
   ],
   "id": "b4dac9178bffc1da",
   "outputs": [],
   "execution_count": 18
  },
  {
   "metadata": {
    "ExecuteTime": {
     "end_time": "2024-12-03T23:40:24.281861Z",
     "start_time": "2024-12-03T23:40:24.279849Z"
    }
   },
   "cell_type": "code",
   "source": [
    "# resposta 16 certa -> Android\n",
    "resp16: str = produto[\"info_dispositivo\"].copy().value_counts().idxmax()\n",
    "\n",
    "respostas[\"id_resposta\"].append(\"resposta16\")\n",
    "respostas[\"resposta\"].append(resp16)\n",
    "respostas[\"acerto\"].append(True)"
   ],
   "id": "98c32c2e85673edc",
   "outputs": [],
   "execution_count": 19
  },
  {
   "metadata": {
    "ExecuteTime": {
     "end_time": "2024-12-03T23:40:24.289402Z",
     "start_time": "2024-12-03T23:40:24.287312Z"
    }
   },
   "cell_type": "code",
   "source": [
    "# resposta 17 certa -> Brasília\n",
    "resp17: str = produto[\"cidade\"].copy().value_counts().idxmax()\n",
    "\n",
    "respostas[\"id_resposta\"].append(\"resposta17\")\n",
    "respostas[\"resposta\"].append(resp17)\n",
    "respostas[\"acerto\"].append(True)"
   ],
   "id": "99f3e7f015bb98e3",
   "outputs": [],
   "execution_count": 20
  },
  {
   "metadata": {
    "ExecuteTime": {
     "end_time": "2024-12-03T23:40:24.300551Z",
     "start_time": "2024-12-03T23:40:24.294813Z"
    }
   },
   "cell_type": "code",
   "source": [
    "# resposta 18 errada (89 < esperada < 353)\n",
    "resp18: pd.DataFrame = produto[[\"hash_usuario\", \"hora_acesso\", \"identificador_visita\"]].copy()\n",
    "resp18[\"hora_acesso\"] = pd.to_datetime(resp18[\"hora_acesso\"].dt.date)\n",
    "resp18 = resp18.value_counts().reset_index().rename(columns={\"count\": \"qtde_visitas\"})\n",
    "\n",
    "resp18: int = resp18[resp18[\"qtde_visitas\"].gt(1)][\"hash_usuario\"].nunique()\n",
    "\n",
    "respostas[\"id_resposta\"].append(\"resposta18\")\n",
    "respostas[\"resposta\"].append(resp18)\n",
    "respostas[\"acerto\"].append(False)"
   ],
   "id": "95f2a8f69443f28c",
   "outputs": [],
   "execution_count": 21
  },
  {
   "metadata": {
    "ExecuteTime": {
     "end_time": "2024-12-03T23:40:24.314321Z",
     "start_time": "2024-12-03T23:40:24.306011Z"
    }
   },
   "cell_type": "code",
   "source": [
    "# resposta 19 certa -> manhã\n",
    "resp19: pd.DataFrame = produto.copy()\n",
    "resp19[\"data_acesso\"] = pd.to_datetime(resp19[\"hora_acesso\"].dt.date)\n",
    "resp19[\"período\"] = resp19[\"hora_acesso\"].apply(lambda x: \"madrugada\" if x.hour < 6 else \"manhã\" if x.hour < 12 else \"tarde\" if x.hour < 18 else \"noite\")\n",
    "resp19 = resp19.drop(columns=[\"hora_acesso\", \"info_dispositivo\", \"cidade\", \"pais\"], axis=1).drop_duplicates()\n",
    "\n",
    "resp19: str = resp19[\"período\"].value_counts().idxmax()\n",
    "\n",
    "respostas[\"id_resposta\"].append(\"resposta19\")\n",
    "respostas[\"resposta\"].append(resp19)\n",
    "respostas[\"acerto\"].append(True)"
   ],
   "id": "5304fe0a9f958449",
   "outputs": [],
   "execution_count": 22
  },
  {
   "metadata": {
    "ExecuteTime": {
     "end_time": "2024-12-03T23:40:24.321224Z",
     "start_time": "2024-12-03T23:40:24.319630Z"
    }
   },
   "cell_type": "code",
   "source": [
    "resp20: pd.DataFrame = produto.copy()\n",
    "\n",
    "respostas[\"id_resposta\"].append(\"resposta20\")\n",
    "respostas[\"resposta\"].append(\"???\")\n",
    "respostas[\"acerto\"].append(False)"
   ],
   "id": "50c147b01c1d20f0",
   "outputs": [],
   "execution_count": 23
  },
  {
   "metadata": {
    "ExecuteTime": {
     "end_time": "2024-12-03T23:40:24.328734Z",
     "start_time": "2024-12-03T23:40:24.326998Z"
    }
   },
   "cell_type": "code",
   "source": [
    "resp21: pd.DataFrame = produto.copy()\n",
    "\n",
    "respostas[\"id_resposta\"].append(\"resposta21\")\n",
    "respostas[\"resposta\"].append(\"???\")\n",
    "respostas[\"acerto\"].append(False)"
   ],
   "id": "bf73788dee76453d",
   "outputs": [],
   "execution_count": 24
  },
  {
   "metadata": {
    "ExecuteTime": {
     "end_time": "2024-12-03T23:40:24.337457Z",
     "start_time": "2024-12-03T23:40:24.334941Z"
    }
   },
   "cell_type": "code",
   "source": [
    "# resposta 22 certa -> inicial_pix\n",
    "resp22: pd.DataFrame = produto[[\"hash_usuario\", \"pagina_acessada\"]].copy()\n",
    "\n",
    "resp22: str = resp22[\"pagina_acessada\"].value_counts().idxmax()\n",
    "\n",
    "respostas[\"id_resposta\"].append(\"resposta22\")\n",
    "respostas[\"resposta\"].append(resp22)\n",
    "respostas[\"acerto\"].append(True)"
   ],
   "id": "e2efc3197877d1b",
   "outputs": [],
   "execution_count": 25
  },
  {
   "metadata": {
    "ExecuteTime": {
     "end_time": "2024-12-03T23:40:24.524825Z",
     "start_time": "2024-12-03T23:40:24.343705Z"
    }
   },
   "cell_type": "code",
   "source": [
    "canal: pd.DataFrame = df_aces.copy()\n",
    "canal [\"hora_acesso\"] = pd.to_datetime(canal[\"hora_acesso\"].dt.date)"
   ],
   "id": "ae7ff60f2247db36",
   "outputs": [],
   "execution_count": 26
  },
  {
   "metadata": {
    "ExecuteTime": {
     "end_time": "2024-12-03T23:40:24.637548Z",
     "start_time": "2024-12-03T23:40:24.532127Z"
    }
   },
   "cell_type": "code",
   "source": [
    "# resposta 23 certa -> 22/01/2024\n",
    "resp23: pd.DataFrame = canal.copy().drop([\"pagina_acessada\", \"cidade\", \"pais\", \"identificador_visita\"], axis=1).drop_duplicates()\n",
    "\n",
    "resp23: str = (resp23[\"hora_acesso\"].value_counts().idxmax()).strftime(\"%x\")\n",
    "\n",
    "respostas[\"id_resposta\"].append(\"resposta23\")\n",
    "respostas[\"resposta\"].append(resp23)\n",
    "respostas[\"acerto\"].append(True)"
   ],
   "id": "f384cd8f69604366",
   "outputs": [],
   "execution_count": 27
  },
  {
   "metadata": {
    "ExecuteTime": {
     "end_time": "2024-12-03T23:40:24.744206Z",
     "start_time": "2024-12-03T23:40:24.651916Z"
    }
   },
   "cell_type": "code",
   "source": [
    "# resposta 24 certa -> detalhes_pagamento\n",
    "resp24: pd.DataFrame = canal.copy().drop([\"hash_usuario\", \"cidade\", \"pais\", \"identificador_visita\"], axis=1)\n",
    "resp24 = resp24[resp24[\"pagina_acessada\"].ne(\"menu_navegador\")].drop_duplicates()\n",
    "\n",
    "resp24: str = resp24[\"pagina_acessada\"].value_counts().idxmax()\n",
    "\n",
    "respostas[\"id_resposta\"].append(\"resposta24\")\n",
    "respostas[\"resposta\"].append(resp24)\n",
    "respostas[\"acerto\"].append(True)"
   ],
   "id": "600814db30be92ba",
   "outputs": [],
   "execution_count": 28
  },
  {
   "metadata": {
    "ExecuteTime": {
     "end_time": "2024-12-03T23:40:24.846262Z",
     "start_time": "2024-12-03T23:40:24.751483Z"
    }
   },
   "cell_type": "code",
   "source": [
    "# resposta 25 certa -> 4167\n",
    "resp25: pd.DataFrame = canal.copy()\n",
    "\n",
    "dia_cheia = resp25.groupby(\"hora_acesso\")[\"identificador_visita\"].nunique().idxmax()\n",
    "\n",
    "resp25: int = resp25[resp25[\"hora_acesso\"].eq(dia_cheia)][\"hash_usuario\"].nunique()\n",
    "\n",
    "respostas[\"id_resposta\"].append(\"resposta25\")\n",
    "respostas[\"resposta\"].append(resp25)\n",
    "respostas[\"acerto\"].append(True)"
   ],
   "id": "fa05cf3ad539a589",
   "outputs": [],
   "execution_count": 29
  },
  {
   "metadata": {
    "ExecuteTime": {
     "end_time": "2024-12-03T23:40:25.059010Z",
     "start_time": "2024-12-03T23:40:24.853764Z"
    }
   },
   "cell_type": "code",
   "source": [
    "# resposta 26 certa -> 2.2\n",
    "resp26: pd.DataFrame = canal.copy()\n",
    "\n",
    "resp26_mobiles: int = len(resp26[resp26[\"info_dispositivo\"].ne(\"Mac\")][[\"info_dispositivo\", \"identificador_visita\"]].drop_duplicates())\n",
    "resp26_desktop: int = len(resp26[resp26[\"info_dispositivo\"].eq(\"Mac\")][[\"info_dispositivo\", \"identificador_visita\"]].drop_duplicates())\n",
    "\n",
    "resp26: float = round(resp26_mobiles / resp26_desktop, 1)\n",
    "\n",
    "respostas[\"id_resposta\"].append(\"resposta26\")\n",
    "respostas[\"resposta\"].append(resp26)\n",
    "respostas[\"acerto\"].append(True)"
   ],
   "id": "d6a86ada50ec76df",
   "outputs": [],
   "execution_count": 30
  },
  {
   "metadata": {
    "ExecuteTime": {
     "end_time": "2024-12-03T23:40:25.090308Z",
     "start_time": "2024-12-03T23:40:25.066321Z"
    }
   },
   "cell_type": "code",
   "source": [
    "resp27: pd.DataFrame = canal.copy()\n",
    "\n",
    "respostas[\"id_resposta\"].append(\"resposta27\")\n",
    "respostas[\"resposta\"].append(\"???\")\n",
    "respostas[\"acerto\"].append(False)"
   ],
   "id": "927e6f36ec5bc2ee",
   "outputs": [],
   "execution_count": 31
  },
  {
   "metadata": {
    "ExecuteTime": {
     "end_time": "2024-12-03T23:40:25.104605Z",
     "start_time": "2024-12-03T23:40:25.098011Z"
    }
   },
   "cell_type": "code",
   "source": [
    "# resposta 28 certa -> -0.26\n",
    "resp28: pd.DataFrame = canal[canal[\"hora_acesso\"].between(\"2024-09-01\", \"2024-09-30\")][[\"hora_acesso\", \"identificador_visita\"]].copy().drop_duplicates()\n",
    "resp28[\"semana\"] = resp28[\"hora_acesso\"].apply(lambda x: 1 if x.day <= 7 else 2 if x.day <= 14 else 3 if x.day <= 21 else 4 if x.day <= 28 else 5)\n",
    "resp28 = resp28[\"semana\"].value_counts().sort_index().drop(5).to_frame()\n",
    "\n",
    "# semana 1 -> 344, semana 2 -> 403, semana 3 -> 249 e semana 4 -> 107\n",
    "\n",
    "media_semanal: float = round(((403 - 344) / 344 + (249 - 403) / 403 + (107 - 249) / 249) / 3, 2)\n",
    "\n",
    "respostas[\"id_resposta\"].append(\"resposta28\")\n",
    "respostas[\"resposta\"].append(media_semanal)\n",
    "respostas[\"acerto\"].append(True)"
   ],
   "id": "c6e3fcfec7e75eab",
   "outputs": [],
   "execution_count": 32
  },
  {
   "metadata": {
    "ExecuteTime": {
     "end_time": "2024-12-03T23:40:25.114255Z",
     "start_time": "2024-12-03T23:40:25.111868Z"
    }
   },
   "cell_type": "code",
   "source": "print(pd.DataFrame(respostas)[pd.DataFrame(respostas)[\"acerto\"].eq(False)])",
   "id": "6f4455fbeb50a10d",
   "outputs": [
    {
     "name": "stdout",
     "output_type": "stream",
     "text": [
      "   id_resposta resposta  acerto\n",
      "9   resposta10     1.23   False\n",
      "17  resposta18      353   False\n",
      "19  resposta20      ???   False\n",
      "20  resposta21      ???   False\n",
      "26  resposta27      ???   False\n"
     ]
    }
   ],
   "execution_count": 33
  }
 ],
 "metadata": {
  "kernelspec": {
   "display_name": "Python 3",
   "language": "python",
   "name": "python3"
  },
  "language_info": {
   "codemirror_mode": {
    "name": "ipython",
    "version": 2
   },
   "file_extension": ".py",
   "mimetype": "text/x-python",
   "name": "python",
   "nbconvert_exporter": "python",
   "pygments_lexer": "ipython2",
   "version": "2.7.6"
  }
 },
 "nbformat": 4,
 "nbformat_minor": 5
}
