{
 "cells": [
  {
   "cell_type": "code",
   "id": "initial_id",
   "metadata": {
    "collapsed": true
   },
   "source": [
    "import locale as lc\n",
    "import numpy as np\n",
    "import pandas as pd\n",
    "\n",
    "lc.setlocale(category=lc.LC_ALL, locale=\"pt_BR.UTF-8\")\n",
    "\n",
    "df_aces = pd.read_csv(\"./bases/acessos.zip\", delimiter=\";\", compression=\"zip\")\n",
    "df_aces[\"hora_acesso\"] = pd.to_datetime(df_aces[\"hora_acesso\"])\n",
    "\n",
    "df_matr = pd.read_csv(\"./bases/consulta_matriculas.csv\")\n",
    "\n",
    "respostas = {\"id_resposta\": [], \"resposta\": []}"
   ],
   "outputs": [],
   "execution_count": null
  },
  {
   "metadata": {},
   "cell_type": "code",
   "source": [
    "resp01 = df_matr[df_matr[\"matricula\"].eq(\"F8719981\")].iloc[0, 1]\n",
    "\n",
    "respostas[\"id_resposta\"].append(\"resposta01\")\n",
    "respostas[\"resposta\"].append(resp01)"
   ],
   "id": "4becb71df17fa51b",
   "outputs": [],
   "execution_count": null
  },
  {
   "metadata": {},
   "cell_type": "code",
   "source": [
    "resp02 = df_aces[df_aces[\"hash_usuario\"].eq(resp01)][\"identificador_visita\"].nunique()\n",
    "\n",
    "respostas[\"id_resposta\"].append(\"resposta02\")\n",
    "respostas[\"resposta\"].append(resp02)"
   ],
   "id": "23bdec037a4f3c24",
   "outputs": [],
   "execution_count": null
  },
  {
   "metadata": {},
   "cell_type": "code",
   "source": [
    "resp03 = (df_aces[df_aces[\"hash_usuario\"].eq(resp01)][\"hora_acesso\"].iloc[0]).strftime(\"%x\")\n",
    "\n",
    "respostas[\"id_resposta\"].append(\"resposta03\")\n",
    "respostas[\"resposta\"].append(resp03)"
   ],
   "id": "2d18e19d2e12fcdb",
   "outputs": [],
   "execution_count": null
  },
  {
   "metadata": {},
   "cell_type": "code",
   "source": [
    "resp04 = (df_aces[df_aces[\"hash_usuario\"].eq(resp01)][\"hora_acesso\"].iloc[-1]).strftime(\"%x\")\n",
    "\n",
    "respostas[\"id_resposta\"].append(\"resposta04\")\n",
    "respostas[\"resposta\"].append(resp04)"
   ],
   "id": "4f8275bf5d05b954",
   "outputs": [],
   "execution_count": null
  },
  {
   "metadata": {},
   "cell_type": "code",
   "source": [
    "resp05 = df_aces[df_aces[\"hash_usuario\"].eq(resp01)][\"pagina_acessada\"].value_counts().reset_index().iloc[0, 0]\n",
    "\n",
    "respostas[\"id_resposta\"].append(\"resposta05\")\n",
    "respostas[\"resposta\"].append(resp05)"
   ],
   "id": "d1903be6fd2bcc15",
   "outputs": [],
   "execution_count": null
  },
  {
   "metadata": {},
   "cell_type": "code",
   "source": [
    "resp06 = df_aces[df_aces[\"hash_usuario\"].eq(resp01)][\"info_dispositivo\"].value_counts().reset_index().iloc[0, 0]\n",
    "\n",
    "respostas[\"id_resposta\"].append(\"resposta06\")\n",
    "respostas[\"resposta\"].append(resp06)"
   ],
   "id": "77dd969d6199ccaf",
   "outputs": [],
   "execution_count": null
  },
  {
   "metadata": {},
   "cell_type": "code",
   "source": [
    "resp07 = df_aces[df_aces[\"hash_usuario\"].eq(resp01)][\"cidade\"].value_counts().reset_index().iloc[0, 0]\n",
    "\n",
    "respostas[\"id_resposta\"].append(\"resposta07\")\n",
    "respostas[\"resposta\"].append(resp07)"
   ],
   "id": "aeb5534728d75061",
   "outputs": [],
   "execution_count": null
  },
  {
   "metadata": {},
   "cell_type": "code",
   "source": [
    "resp08 = df_aces[df_aces[\"hash_usuario\"].eq(resp01)][\"pais\"].value_counts().reset_index().iloc[0, 0]\n",
    "\n",
    "respostas[\"id_resposta\"].append(\"resposta08\")\n",
    "respostas[\"resposta\"].append(resp08)"
   ],
   "id": "a5d58b8a477ff3db",
   "outputs": [],
   "execution_count": null
  },
  {
   "metadata": {},
   "cell_type": "code",
   "source": [
    "resp09 = df_aces[df_aces[\"hash_usuario\"].eq(resp01)].copy()\n",
    "resp09[\"hora_acesso\"] = pd.to_datetime(resp09[\"hora_acesso\"].dt.date)\n",
    "resp09 = resp09[[\"hora_acesso\", \"identificador_visita\"]].value_counts().reset_index().iloc[0, -1]\n",
    "\n",
    "respostas[\"id_resposta\"].append(\"resposta09\")\n",
    "respostas[\"resposta\"].append(resp09)"
   ],
   "id": "82f044e234c58a01",
   "outputs": [],
   "execution_count": null
  },
  {
   "metadata": {},
   "cell_type": "code",
   "source": [
    "resp10 = df_aces[df_aces[\"hash_usuario\"].eq(resp01)].copy()\n",
    "resp10[\"time_diff\"] = (resp10.groupby([\"identificador_visita\"])[\"hora_acesso\"].diff().dt.total_seconds() / 60).round(2)\n",
    "resp10 = resp10.groupby([\"identificador_visita\"])[\"time_diff\"].mean().reset_index().sort_values(\"time_diff\", ascending=False).reset_index().iloc[0, -1]\n",
    "\n",
    "respostas[\"id_resposta\"].append(\"resposta10\")\n",
    "respostas[\"resposta\"].append(resp10)"
   ],
   "id": "f352c97ee444baa5",
   "outputs": [],
   "execution_count": null
  },
  {
   "metadata": {},
   "cell_type": "code",
   "source": [
    "from math import floor\n",
    "\n",
    "resp11 = df_aces[df_aces[\"hash_usuario\"].eq(resp01)].copy()\n",
    "resp11[\"hora_acesso\"] = pd.to_datetime(resp11['hora_acesso'].dt.date)\n",
    "resp11 = resp11.drop_duplicates(subset=[\"info_dispositivo\", \"hora_acesso\"])\n",
    "resp11[\"intervalo_dias\"] = resp11.groupby([\"info_dispositivo\"])[\"hora_acesso\"].diff().dt.days\n",
    "resp11 = floor(resp11.groupby([\"info_dispositivo\"])[\"intervalo_dias\"].mean().reset_index().iloc[0, -1])\n",
    "\n",
    "respostas[\"id_resposta\"].append(\"resposta11\")\n",
    "respostas[\"resposta\"].append(resp11)"
   ],
   "id": "ed7977999c1c881",
   "outputs": [],
   "execution_count": null
  },
  {
   "metadata": {},
   "cell_type": "code",
   "source": [
    "resp12 = df_aces[df_aces[\"hash_usuario\"].eq(resp01)].copy()\n",
    "resp12[\"hora_acesso\"] = pd.to_datetime(resp12[\"hora_acesso\"].dt.time, format=\"%H:%M:%S\")\n",
    "resp12[\"período\"] = np.where(resp12[\"hora_acesso\"].between(\"1900-01-01 00:00:00\", \"1900-01-01 05:59:59\"), \"madrugada\",\n",
    "                             np.where(resp12[\"hora_acesso\"].between(\"1900-01-01 06:00:00\", \"1900-01-01 11:59:59\"), \"manhã\",\n",
    "                                      np.where(resp12[\"hora_acesso\"].between(\"1900-01-01 12:00:00\", \"1900-01-01 17:59:59\"), \"tarde\", \"noite\")))\n",
    "resp12 = resp12[[\"identificador_visita\", \"período\"]].value_counts().reset_index().iloc[0, 1]\n",
    "\n",
    "respostas[\"id_resposta\"].append(\"resposta12\")\n",
    "respostas[\"resposta\"].append(resp12)"
   ],
   "id": "b9c2819fde41c73c",
   "outputs": [],
   "execution_count": null
  },
  {
   "metadata": {},
   "cell_type": "code",
   "source": "pd.DataFrame(respostas)",
   "id": "6f4455fbeb50a10d",
   "outputs": [],
   "execution_count": null
  },
  {
   "metadata": {},
   "cell_type": "code",
   "source": "pd.DataFrame(respostas).to_csv(\"./bases/F8719981_v1_wa.csv\", index=False)",
   "id": "e57372d3c399ba02",
   "outputs": [],
   "execution_count": null
  }
 ],
 "metadata": {
  "kernelspec": {
   "display_name": "Python 3",
   "language": "python",
   "name": "python3"
  },
  "language_info": {
   "codemirror_mode": {
    "name": "ipython",
    "version": 2
   },
   "file_extension": ".py",
   "mimetype": "text/x-python",
   "name": "python",
   "nbconvert_exporter": "python",
   "pygments_lexer": "ipython2",
   "version": "2.7.6"
  }
 },
 "nbformat": 4,
 "nbformat_minor": 5
}
