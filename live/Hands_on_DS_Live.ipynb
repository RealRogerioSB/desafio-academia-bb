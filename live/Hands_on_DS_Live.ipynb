{
 "cells": [
  {
   "cell_type": "code",
   "id": "1a92beb8-0a2d-4eb9-ab07-79072bd47eef",
   "metadata": {},
   "source": [
    "import warnings\n",
    "\n",
    "# Ignore all warnings\n",
    "warnings.filterwarnings(\"ignore\")"
   ],
   "outputs": [],
   "execution_count": null
  },
  {
   "cell_type": "markdown",
   "id": "78e618d2-30bf-40a1-856e-1c213ef3bd19",
   "metadata": {
    "id": "78e618d2-30bf-40a1-856e-1c213ef3bd19"
   },
   "source": [
    "# AcademIA BB - Ciência de Dados\n",
    "\n",
    "Bem-vindos e bem-vindas à AcademIA BB! Esse material faz parte do eixo de Ciência de Dados e contém o conteúdo que será desenvolvido nas Lives.\n",
    "\n",
    "O conteúdo é baseado em uma premissa \"mãos na massa\", então os conceitos serão explicados à medida que são apresentados por meio do código.\n",
    "\n",
    "Projetos de ciências de dados seguem alguns passos, vamos dividir os nossos em 8:\n",
    "\n",
    "1. Investigar o quadro geral\n",
    "2. Obter os dados.\n",
    "3. Descobrir e visualizar os dados para obter insights.\n",
    "4. Preparar os dados para algoritmos de Aprendizado de Máquina.\n",
    "5. Selecionar um modelo e treina-lo.\n",
    "6. Ajustar o modelo.\n",
    "7. Apresentar a sua solução.\n",
    "8. Lançar, monitorar e manter seu sistema.\n",
    "\n",
    "No primeiro passo, é aferida a disponibilidade dos dados que são importantes para o problema. No nosso caso, vamos estudar um problema de rotatividade de clientes do cartão de crédito. Esses dados devem ser obtidos e importados para nosso ambiente de desenvolvimento para que possamos acessá-lo pelo Python.\n",
    "\n",
    "\n",
    "## Caso de Estudo\n",
    "\n",
    "Um gerente do banco está incomodado com o fato de cada vez mais clientes abandonarem os serviços de cartão de crédito. Eles realmente apreciariam se alguém pudesse prever quem será desligado, para que possam ir proativamente ao cliente para fornecer-lhes melhores serviços e direcionar as decisões dos clientes na direção oposta.\n",
    "\n",
    "No nosso exemplo, os clientes estão abandonando os serviços de cartão de crédito e queremos buscar hipóteses que expliquem esse comportamento. Para entender e explorar esse comportamento, vamos analisar os dados dos clientes que abandonaram ou não o serviço. Esses dados podem ou não conter insights sobre a evasão do serviço, mas para aferir essa situação, precisamos primeiro entender quais dados estão disponíveis e como eles poderiam afetar a decisão de evadir ou não.\n",
    "\n",
    "Os dados dos clientes serão disponibilizados e passaremos para o próximo passo, que é importar os dados para nosso ambiente de desenvolvimento."
   ]
  },
  {
   "cell_type": "markdown",
   "id": "83ea409d-1829-47d4-ab3e-3e9576758fbd",
   "metadata": {
    "id": "83ea409d-1829-47d4-ab3e-3e9576758fbd"
   },
   "source": [
    "### Importando dados\n",
    "\n",
    "Temos um conjunto de dados que possui várias informações dos clientes. Esses dados nos foram disponibilizados através de um arquivo CSV, ou seja, os dados estão no formato de texto separado por vírgulas.\n",
    "\n",
    "Esse tipo de arquivo possui dados estruturados em linhas e colunas, o que é muito comum e considerado padrão na ciência de dados. A primeira linha de nosso arquivo de texto possuirá o nome de cada uma de nossas colunas, separados por vírgulas. Todas as outras linhas são consideradas \"observações\", ou seja, valores para cada coluna de nosso conjunto. Uma linha possui, portanto, um valor por coluna e o número de valores de cada linha deve corresponder ao número de colunas.\n",
    "\n",
    "Esse arquivo possui os dados, mas nosso ambiente de desenvolvimento Python ainda não tem acesso a eles. Vamos então importar os dados para nosso ambiente.\n"
   ]
  },
  {
   "cell_type": "code",
   "id": "09293292-0bbb-4ae8-b84e-7744fdb1c3de",
   "metadata": {
    "id": "09293292-0bbb-4ae8-b84e-7744fdb1c3de"
   },
   "source": [
    "import pandas as pd\n",
    "\n",
    "df = pd.read_csv(\"bases/ds_dataset_002.csv\", sep=\";\")"
   ],
   "outputs": [],
   "execution_count": null
  },
  {
   "cell_type": "markdown",
   "id": "996e5c70-de78-4509-bd8f-d1103b0af632",
   "metadata": {
    "id": "996e5c70-de78-4509-bd8f-d1103b0af632"
   },
   "source": [
    "### Observando os valores de nosso DataFrame\n",
    "\n",
    "Percebemos que mesmo depois de executar a célula acima, os valores de nosso conjunto de dados não aparecem na tela. Isso por que apenas importamos o conjunto de dados para nosso ambiente de desenvolvimento mas ainda não os escrevemos na tela.\n",
    "\n",
    "Conjuntos de dados costumam ter centenas senão centenas de milhares ou até milhões de linhas. Não se costuma, portanto, visualizar todos os valores de um conjunto de dados e sim apenas algumas linhas."
   ]
  },
  {
   "cell_type": "code",
   "id": "ed0fe4a7-b09d-4d5f-b9ed-451d3bf4bd13",
   "metadata": {
    "colab": {
     "base_uri": "https://localhost:8080/",
     "height": 206
    },
    "id": "ed0fe4a7-b09d-4d5f-b9ed-451d3bf4bd13",
    "outputId": "75846907-6dc7-4064-df64-b9643e5ce79d"
   },
   "source": [
    "df.head(5)"
   ],
   "outputs": [],
   "execution_count": null
  },
  {
   "cell_type": "markdown",
   "id": "2f9149ab-c12e-4329-9eec-d239cf7626d4",
   "metadata": {
    "tags": []
   },
   "source": [
    "## Descrevendo um conjunto de dados"
   ]
  },
  {
   "cell_type": "markdown",
   "id": "c8441dd6-70e7-4077-b51c-f0127ef3f7b4",
   "metadata": {
    "id": "c8441dd6-70e7-4077-b51c-f0127ef3f7b4"
   },
   "source": [
    "Conjuntos de dados possuem diversas informações que podem descrevê-los. A análise realizada para descrever o conjunto de dados é chamada \"Análise Descritiva\". Essa análise busca descrever o conjunto a partir do que chamamos de \"medidas resumo\" que, como o nome diz, resumem e sintetizam informações sobre o conjunto inteiro. Por exemplo, a partir de uma lista de idades é possível obter o valor médio das idades, que corresponde à soma de todas os valores dividida pelo número total de observações. Algumas informações sobre o conjunto podem ser obtidas facilmente a partir da observação simples do conjunto, como\n",
    "- Número de observações\n",
    "- Tipo de dados\n",
    "    - Quantitativos\n",
    "    - Qualitativos\n",
    "- Valores mínimos e máximos\n",
    "- Ordenação dos valores"
   ]
  },
  {
   "cell_type": "markdown",
   "id": "3b74aa10-91e1-4494-8d9f-2bcb7ddf75aa",
   "metadata": {
    "id": "3b74aa10-91e1-4494-8d9f-2bcb7ddf75aa"
   },
   "source": [
    "Para acessar uma coluna do nosso DataFrame, utiliza-se o colchete `[]` com o nome da coluna desejada. É possível selecionar mais de uma coluna utilizando dois colchetes `[[]]`, como no exemplo abaixo."
   ]
  },
  {
   "cell_type": "code",
   "id": "4fb9d5ca-f969-4add-9b85-bd3a137d3442",
   "metadata": {
    "colab": {
     "base_uri": "https://localhost:8080/",
     "height": 458
    },
    "id": "4fb9d5ca-f969-4add-9b85-bd3a137d3442",
    "outputId": "43eabfba-82b2-4397-fb80-f2f717931aad"
   },
   "source": [
    "df[\"Indicador\"]"
   ],
   "outputs": [],
   "execution_count": null
  },
  {
   "cell_type": "code",
   "id": "6d4feeb3-2648-4c5d-adc3-bba816c200ea",
   "metadata": {
    "colab": {
     "base_uri": "https://localhost:8080/",
     "height": 424
    },
    "id": "6d4feeb3-2648-4c5d-adc3-bba816c200ea",
    "outputId": "18acad63-832e-4b14-e803-25a4f0452512"
   },
   "source": [
    "df[[\"Indicador\", \"Genero\"]]"
   ],
   "outputs": [],
   "execution_count": null
  },
  {
   "cell_type": "code",
   "id": "303ea290-99ff-4cd3-a75a-6585a4f40693",
   "metadata": {
    "colab": {
     "base_uri": "https://localhost:8080/",
     "height": 398
    },
    "id": "303ea290-99ff-4cd3-a75a-6585a4f40693",
    "outputId": "caf8caa2-a6c6-40c1-e91c-b92eb098f079"
   },
   "source": [
    "df[\"Idade\"][:10]  # para selecionar linhas, utilize um segundo par de colchetes"
   ],
   "outputs": [],
   "execution_count": null
  },
  {
   "cell_type": "code",
   "id": "6f87a12f-a0f7-4339-8285-91fc70f78d5d",
   "metadata": {
    "colab": {
     "base_uri": "https://localhost:8080/",
     "height": 363
    },
    "id": "6f87a12f-a0f7-4339-8285-91fc70f78d5d",
    "outputId": "7082c580-009d-4232-b871-cfb20b68e303"
   },
   "source": [
    "df[[\"Indicador\", \"Genero\"]][:10]  # também funciona para mais de uma coluna"
   ],
   "outputs": [],
   "execution_count": null
  },
  {
   "cell_type": "markdown",
   "id": "6473938a-df34-4637-97ca-0c5ac8148a51",
   "metadata": {
    "id": "6473938a-df34-4637-97ca-0c5ac8148a51"
   },
   "source": [
    "### Função `info()`\n",
    "\n",
    "\n",
    "Muitas informações importantes dos nossos dados podem ser obtidas através da função `info()`. Para executar a função, após o nome da sua variável que contém os dados, escreva `.info()` e execute a célula, como no exemplo a seguir. A saída conterá informações sobre o conjunto de dados como número de linhas, colunas, valores nulos e os tipos de dados de cada coluna.\n",
    "\n",
    "Essa é uma função muito útil para ter uma visão geral de nosso conjunto de dados e escolher quais passos seguir na sua análise."
   ]
  },
  {
   "cell_type": "code",
   "id": "07287d5a-6b90-4202-a330-4e2cd7fa30bd",
   "metadata": {
    "colab": {
     "base_uri": "https://localhost:8080/"
    },
    "id": "07287d5a-6b90-4202-a330-4e2cd7fa30bd",
    "outputId": "22f85bc7-2443-41b5-ba22-1bf4dd489531"
   },
   "source": [
    "df.info()"
   ],
   "outputs": [],
   "execution_count": null
  },
  {
   "cell_type": "markdown",
   "id": "dbb41159-3342-450e-b9d7-abddbd3c23f8",
   "metadata": {
    "id": "dbb41159-3342-450e-b9d7-abddbd3c23f8"
   },
   "source": [
    "### Função `describe()`\n",
    "\n",
    "A função `describe()` possui um objetivo semelhante, com a diferença que ele irá retornar informações de estatística descritiva das colunas numéricas de nosso conjunto de dados.\n",
    "\n",
    "As estatísticas obtidas são:\n",
    "- count : Contagem\n",
    "\n",
    "É o número de observações daquela variável. Ou seja, é o número de linhas que possuem valores válidos para aquela coluna. Caso em certas linhas os valores para aquela coluna sejam nulos, por exemplo, esses valores não serão contados.\n",
    "\n",
    "- mean : Média\n",
    "\n",
    "É a média aritmética dos valores válidos da coluna. A média aritmética é obtida a partir da soma de todos os valores observados dividida pelo número de observações.\n",
    "\n",
    "- std - Desvio-Padrão\n",
    "\n",
    "O desvio-padrão é uma medida de distribuição que mede quanto cada observação se distancia da média. Ele nos dá informações sobre a distribuição de valores das nossas observações. Quanto maior o valor do desvio-padrão, maior a variação dos valores observados com relação a média.\n",
    "\n",
    "- min e max - Mínimo e Máximo\n",
    "\n",
    "Esses são os valores mínimo e máximo para a coluna observada.\n",
    "\n",
    "- Mediana\n",
    "\n",
    "A mediana é uma medida de posição que corresponde ao valor que esteja localizado na metade da lista ordenada dos valores observados. Essa medida é útil pois ela reduz a influência de valores extremos, chamados de __outliers__.\n",
    "\n",
    "No caso da saída de nossa função `describe()`, a mediana é apresentada a partir de seus \"quartis\", que são as posições relativas na lista ordenada de valores de nossas observações.\n",
    "\n",
    "O primeiro quartil corresponde ao valor apresentado como \"25%\" e ele apresenta o valor central entre o menor e metade da lista ordenada. Por definição, indica que até seu valor, 25% dos dados estarão incluídos. Isso também indica que apenas 25% dos valores é inferior ao primeiro quartil.\n",
    "\n",
    "O segundo quartil corresponde à mediana e é o valor que se encontra na posição central da lista ordenada de valores. Indica também que 50% dos valores é inferior ao valor da mediana.\n",
    "\n",
    "O terceiro quartil é o valor que se encontra na posição 75% da lista ordenada de valores."
   ]
  },
  {
   "cell_type": "code",
   "id": "75a4418c-cc3e-4200-b4a7-ffeaf3d4ec9e",
   "metadata": {
    "colab": {
     "base_uri": "https://localhost:8080/",
     "height": 300
    },
    "id": "75a4418c-cc3e-4200-b4a7-ffeaf3d4ec9e",
    "outputId": "490474c9-7d71-4f75-fcde-4f8fb4ed4ece"
   },
   "source": [
    "df.describe()"
   ],
   "outputs": [],
   "execution_count": null
  },
  {
   "cell_type": "markdown",
   "id": "6b35a7fd-0eaa-4578-8c1b-6a9aceae6a2e",
   "metadata": {
    "id": "6b35a7fd-0eaa-4578-8c1b-6a9aceae6a2e"
   },
   "source": [
    "### Funções de Estatística Descritiva\n",
    "\n",
    "DataFrames são variáveis muito úteis para a análise descritiva de um conjunto de dados pois possuem funções para a obtenção de valores de forma simples.\n",
    "\n",
    "Para obter o número total de linhas de nosso conjunto, podemos utilizar a função `len()` ou a variável `shape` de nosso DataFrame."
   ]
  },
  {
   "cell_type": "code",
   "id": "f6f1d647-2a6f-4a3b-9cfb-a393cc3e61aa",
   "metadata": {
    "colab": {
     "base_uri": "https://localhost:8080/"
    },
    "id": "f6f1d647-2a6f-4a3b-9cfb-a393cc3e61aa",
    "outputId": "eeead0de-03a4-41cf-db0a-032bc31f32b5"
   },
   "source": [
    "len(df)"
   ],
   "outputs": [],
   "execution_count": null
  },
  {
   "cell_type": "code",
   "id": "056ea7da-ae3b-4a98-a690-3afbf043ad6d",
   "metadata": {
    "colab": {
     "base_uri": "https://localhost:8080/"
    },
    "id": "056ea7da-ae3b-4a98-a690-3afbf043ad6d",
    "outputId": "9a6a0212-b46b-4203-af5e-8c3f25bcb67a"
   },
   "source": [
    "df.shape"
   ],
   "outputs": [],
   "execution_count": null
  },
  {
   "cell_type": "markdown",
   "id": "8a5f1f0e-9b51-4661-920f-d782b3150b23",
   "metadata": {
    "id": "8a5f1f0e-9b51-4661-920f-d782b3150b23"
   },
   "source": [
    "Para obter o máximo e mínimo de uma coluna ou de todas as colunas, basta utilizar as funções `max()` e `min()`."
   ]
  },
  {
   "cell_type": "code",
   "id": "48b80d5a-b92d-4646-b148-dfc36897d207",
   "metadata": {
    "colab": {
     "base_uri": "https://localhost:8080/"
    },
    "id": "48b80d5a-b92d-4646-b148-dfc36897d207",
    "outputId": "fe6e5450-b701-43e5-97e8-6188351f59ce"
   },
   "source": [
    "df[\"Idade\"].max()"
   ],
   "outputs": [],
   "execution_count": null
  },
  {
   "cell_type": "markdown",
   "id": "4329e319-7fe7-4579-b079-66b2312382a0",
   "metadata": {
    "id": "4329e319-7fe7-4579-b079-66b2312382a0"
   },
   "source": [
    "### Distribuição de Valores\n",
    "\n",
    "Os valores observados podem estar distribuídos de forma diferente. Temos uma função chamada `value_counts()` que mostra o número de observações para cada valor na coluna observada. Vamos aplicar essa função na nossa coluna de Indicador, assim vamos saber quantas pessoas evadiram nosso serviço de cartão de crédito."
   ]
  },
  {
   "cell_type": "code",
   "id": "166d8f62-c37b-42b5-b4ea-16be9620d535",
   "metadata": {
    "colab": {
     "base_uri": "https://localhost:8080/",
     "height": 178
    },
    "id": "166d8f62-c37b-42b5-b4ea-16be9620d535",
    "outputId": "a56b0307-45a5-4675-feb3-57f4f1441b95"
   },
   "source": [
    "df[\"Indicador\"].value_counts()"
   ],
   "outputs": [],
   "execution_count": null
  },
  {
   "cell_type": "code",
   "id": "b9fa1f39-69f1-414e-991b-3c52b0444913",
   "metadata": {
    "colab": {
     "base_uri": "https://localhost:8080/",
     "height": 241
    },
    "id": "b9fa1f39-69f1-414e-991b-3c52b0444913",
    "outputId": "bc90ceb1-c93d-42a6-d9e0-5c65b99735d7"
   },
   "source": [
    "df[\"Cartao\"].value_counts(normalize=True)  # exemplo com o normalize"
   ],
   "outputs": [],
   "execution_count": null
  },
  {
   "cell_type": "markdown",
   "id": "6a76b832-dd8c-43a6-9051-de0afef11629",
   "metadata": {},
   "source": [
    "# Live 2"
   ]
  },
  {
   "cell_type": "markdown",
   "id": "fb26cc33-7540-454a-8cb7-71d72534cdda",
   "metadata": {},
   "source": [
    "* Relembrando a base de dados da Live 1"
   ]
  },
  {
   "cell_type": "code",
   "id": "2f5cb27f-babd-4fed-91b8-60349a239a08",
   "metadata": {},
   "source": [
    "df"
   ],
   "outputs": [],
   "execution_count": null
  },
  {
   "cell_type": "markdown",
   "id": "d30854dc-5fcb-45c5-8611-1f3c6d61c2e9",
   "metadata": {},
   "source": [
    "* Percebemos que 2 colunas possuem valores nulos"
   ]
  },
  {
   "cell_type": "code",
   "id": "81424aa1-2c12-457a-86c5-b001039ed38e",
   "metadata": {},
   "source": [
    "df.info()"
   ],
   "outputs": [],
   "execution_count": null
  },
  {
   "cell_type": "markdown",
   "id": "39543eed-aac6-47af-9e5e-1579995293cd",
   "metadata": {},
   "source": [
    "## Tratamento de Nulos"
   ]
  },
  {
   "cell_type": "code",
   "id": "68ce8d76-5052-43f8-9da3-f1583e43fea6",
   "metadata": {
    "colab": {
     "base_uri": "https://localhost:8080/",
     "height": 332
    },
    "id": "68ce8d76-5052-43f8-9da3-f1583e43fea6",
    "outputId": "fdfa982e-a390-40be-e2f6-47d7848cdb4e"
   },
   "source": [
    "# Live 2\n",
    "percent_nulos = round(df.isnull().sum() / len(df), 3) * 100\n",
    "df2 = pd.DataFrame(percent_nulos).reset_index()\n",
    "df2.columns = [\"Atributo\", \"Percentual\"]\n",
    "df2.sort_values(by=\"Percentual\", ascending=False)"
   ],
   "outputs": [],
   "execution_count": null
  },
  {
   "cell_type": "markdown",
   "id": "84043a50-ed37-447f-9aff-cbd33cfc8812",
   "metadata": {
    "tags": []
   },
   "source": [
    "### Formas do tratamento de nulos:\n",
    "- deletar os registros cujo valor é nulo\n",
    "- preencher com aquele de maior frequência/ mediana/ média\n",
    "- preencher baseado em outra coluna\n",
    "- Métodos de imputação: https://scikit-learn.org/stable/api/sklearn.impute.html\n",
    "- preencher como \"Desconhecido\" (variáveis categóricas)\n",
    "- ..."
   ]
  },
  {
   "cell_type": "markdown",
   "id": "a2ed6bee-ac85-4383-b384-b5fa69d506b0",
   "metadata": {},
   "source": [
    "* Vamos retirar da nossa base os registros cuja renda não é conhecida (null)"
   ]
  },
  {
   "cell_type": "code",
   "id": "14326ff5-16e8-465b-80bb-dd0df559214f",
   "metadata": {
    "id": "14326ff5-16e8-465b-80bb-dd0df559214f"
   },
   "source": [
    "# isna identifica os valores ausentes, logo, true indica valor ausente e false indica valor não ausente\n",
    "# nesse exemplo vamos filtrar os valores não ausentes, ou seja, onde isna é falso para o atributo renda\n",
    "df3 = df[df[\"Renda\"].isna() == False]"
   ],
   "outputs": [],
   "execution_count": null
  },
  {
   "cell_type": "code",
   "id": "0f1dc2b2-0651-4b1c-bec4-d05435dec6b7",
   "metadata": {},
   "source": [
    "df[\"Renda\"].isna()"
   ],
   "outputs": [],
   "execution_count": null
  },
  {
   "cell_type": "code",
   "id": "174bdbe3-76fb-410a-badf-787509e72656",
   "metadata": {
    "colab": {
     "base_uri": "https://localhost:8080/",
     "height": 332
    },
    "id": "174bdbe3-76fb-410a-badf-787509e72656",
    "outputId": "57d13919-b640-4930-987b-e7bca0e0f1a1"
   },
   "source": [
    "percent_nulos = round(df3.isnull().sum() / len(df3), 3) * 100\n",
    "df2 = pd.DataFrame(percent_nulos).reset_index()\n",
    "df2.columns = [\"Atributo\", \"Percentual\"]\n",
    "df2.sort_values(by=\"Percentual\", ascending=False)"
   ],
   "outputs": [],
   "execution_count": null
  },
  {
   "cell_type": "code",
   "id": "cbc3ccc9-f309-440e-8872-5a07bfbe8578",
   "metadata": {
    "colab": {
     "base_uri": "https://localhost:8080/"
    },
    "id": "cbc3ccc9-f309-440e-8872-5a07bfbe8578",
    "outputId": "a6c176af-5116-4022-9bf1-8fafb589e9f9"
   },
   "source": [
    "df3.info()"
   ],
   "outputs": [],
   "execution_count": null
  },
  {
   "cell_type": "code",
   "id": "284a9a94-d2ad-4666-8cfa-d18b214aa1e9",
   "metadata": {
    "colab": {
     "base_uri": "https://localhost:8080/"
    },
    "id": "284a9a94-d2ad-4666-8cfa-d18b214aa1e9",
    "outputId": "e428c72b-c582-422d-b0f7-4d622ca24e2e"
   },
   "source": [
    "# dropna remove os valores ausentes\n",
    "df3 = df3.dropna()\n",
    "df3.info()"
   ],
   "outputs": [],
   "execution_count": null
  },
  {
   "cell_type": "markdown",
   "id": "7b5b3139-aa11-473f-9001-afc681d6188b",
   "metadata": {},
   "source": [
    "## Visualizando os dados"
   ]
  },
  {
   "cell_type": "markdown",
   "id": "b69717ba-4b34-4b03-be4f-aeb60bdc3e87",
   "metadata": {},
   "source": [
    "### Variáveis Numéricas"
   ]
  },
  {
   "cell_type": "code",
   "id": "f9447307-3abf-4d86-a451-1b104abec00e",
   "metadata": {},
   "source": [
    "#importar seaborn e matplotlib - Seaborn e Matplotlib são amplamente utilizadas para visualização de dados em Python\n",
    "import seaborn as sns\n",
    "import matplotlib.pyplot as plt\n",
    "\n",
    "sns.histplot(df3, x=\"Limite_Credito\")\n",
    "plt.show()"
   ],
   "outputs": [],
   "execution_count": null
  },
  {
   "cell_type": "markdown",
   "id": "4c058d3d-aa33-4ae3-aa4a-017d38c9b4a4",
   "metadata": {},
   "source": [
    "* Modificando o tamanho do gráfico"
   ]
  },
  {
   "cell_type": "code",
   "id": "6f464f51-c60f-4e52-8436-fef94d43518c",
   "metadata": {},
   "source": [
    "plt.figure(figsize=(15, 5))\n",
    "sns.histplot(df3, x=\"Limite_Credito\")\n",
    "plt.show()"
   ],
   "outputs": [],
   "execution_count": null
  },
  {
   "cell_type": "code",
   "id": "b731a289-8f93-4d69-b35e-703940011789",
   "metadata": {},
   "source": [
    "sns.histplot(df3[\"Dependentes\"])\n",
    "plt.show()"
   ],
   "outputs": [],
   "execution_count": null
  },
  {
   "cell_type": "code",
   "id": "8d19f18c-236b-4acc-bb6b-f246c1115b29",
   "metadata": {
    "colab": {
     "base_uri": "https://localhost:8080/",
     "height": 453
    },
    "id": "8d19f18c-236b-4acc-bb6b-f246c1115b29",
    "outputId": "96a6af0d-0e18-4262-b345-bed3b6ea5229"
   },
   "source": [
    "plt.figure(figsize=(15, 5))\n",
    "sns.histplot(df3[\"Idade\"])\n",
    "plt.show()\n",
    "\n",
    "# O histplot do Seaborn é uma função utilizada para criar histogramas, que são gráficos de barras que mostram a distribuição de um conjunto de dados.\n",
    "# Ele é muito útil para visualizar a frequência de valores em diferentes intervalos (bins) e entender a distribuição de uma variável contínua"
   ],
   "outputs": [],
   "execution_count": null
  },
  {
   "cell_type": "code",
   "id": "GZkYL9evAngK",
   "metadata": {
    "colab": {
     "base_uri": "https://localhost:8080/",
     "height": 449
    },
    "id": "GZkYL9evAngK",
    "outputId": "9197d30a-b02f-4fe4-a1ff-1a90cef32de1"
   },
   "source": [
    "#gerar boxplot da idade\n",
    "plt.figure(figsize=(15, 5))\n",
    "sns.boxplot(x=df3[\"Idade\"])\n",
    "plt.show()\n",
    "\n",
    "# Um boxplot, também conhecido como gráfico de caixa, é uma ferramenta gráfica usada para visualizar a distribuição de um conjunto de dados.\n",
    "# Ele mostra a mediana, os quartis (Q1 e Q3), e os valores mínimo e máximo, além de possíveis outliers.\n",
    "# A “caixa” central representa o intervalo interquartil (IQR), que é a faixa entre o primeiro e o terceiro quartil, enquanto as “linhas” (ou whiskers) se estendem até os valores mínimo e\n",
    "# máximo dentro de 1,5 vezes o IQR. Outliers são plotados como pontos individuais fora dessas linhas.\n",
    "# O boxplot serve para identificar a dispersão, a simetria e a presença de outliers em um conjunto de dados, facilitando comparações entre diferentes grupos ou distribuições."
   ],
   "outputs": [],
   "execution_count": null
  },
  {
   "cell_type": "markdown",
   "id": "a893f266-b177-4241-a788-9f4c5623462f",
   "metadata": {},
   "source": [
    "### Variáveis categóricas"
   ]
  },
  {
   "cell_type": "code",
   "id": "f97fdad5-49dd-4ea1-ae96-6e22328e184e",
   "metadata": {},
   "source": [
    "df3.Cartao.unique()"
   ],
   "outputs": [],
   "execution_count": null
  },
  {
   "cell_type": "code",
   "id": "7abca7a4-d4ee-4f62-aba6-73095388ac6e",
   "metadata": {},
   "source": [
    "df3.Estado_Civil.unique()"
   ],
   "outputs": [],
   "execution_count": null
  },
  {
   "cell_type": "code",
   "id": "7809fb5e-bb37-4941-8661-4f3bbc794fc4",
   "metadata": {},
   "source": [
    "df3.Renda.unique()"
   ],
   "outputs": [],
   "execution_count": null
  },
  {
   "cell_type": "code",
   "id": "8d21c5b1-8bce-4a94-be20-7e378e022400",
   "metadata": {},
   "source": [
    "df3.Escolaridade.unique()"
   ],
   "outputs": [],
   "execution_count": null
  },
  {
   "cell_type": "code",
   "id": "cc185f09-1b72-49a5-b6d8-f47832f86b4c",
   "metadata": {},
   "source": [
    "possiveis_Education = pd.CategoricalDtype(\n",
    "    [\"Sem Escolaridade\", \"Desconhecido\", \"Ensino Médio Completo\", \"Ensino Superior Completo\", \"Pós-Graduação\",\n",
    "     \"Mestrado\", \"Doutorado\"], ordered=True)\n",
    "possiveis_Marital_Status = pd.CategoricalDtype(df3.Estado_Civil.unique())\n",
    "possiveis_Renda = pd.CategoricalDtype(\n",
    "    [\"Menos de 40 Mil\", \"De 40 Mil a 60 Mil\", \"De 60 Mil a 80 Mil\", \"De 80 Mil a 120 Mil\", \"Mais de 120 Mil\"],\n",
    "    ordered=True)\n",
    "possiveis_cartao = pd.CategoricalDtype([\"Blue\", \"Silver\", \"Gold\", \"Platinum\"], ordered=True)\n",
    "possiveis_gender = pd.CategoricalDtype(df3.Genero.unique())\n",
    "\n",
    "possiveis_Education"
   ],
   "outputs": [],
   "execution_count": null
  },
  {
   "cell_type": "code",
   "id": "4bda8a1e-97b3-4d26-9114-9f798fbc7058",
   "metadata": {},
   "source": [
    "df3.loc[:, \"Escolaridade\"] = df3.Escolaridade.astype(possiveis_Education)\n",
    "df3.loc[:, \"Estado_Civil\"] = df3.Estado_Civil.astype(possiveis_Marital_Status)\n",
    "df3.loc[:, \"Renda\"] = df3.Renda.astype(possiveis_Renda)\n",
    "df3.loc[:, \"Cartao\"] = df3.Cartao.astype(possiveis_cartao)\n",
    "df3.loc[:, \"Genero\"] = df3.Genero.astype(possiveis_gender)"
   ],
   "outputs": [],
   "execution_count": null
  },
  {
   "cell_type": "markdown",
   "id": "887b159f-9cd9-4679-a797-cf3774b2b256",
   "metadata": {},
   "source": [
    "#### Cartão"
   ]
  },
  {
   "cell_type": "code",
   "id": "91e3929f-6922-4c0b-8324-e9aa43e64721",
   "metadata": {},
   "source": [
    "media_limite_cartao = df3.groupby(\"Cartao\")[\"Limite_Credito\"].mean()\n",
    "\n",
    "plt.figure(figsize=(10, 5))\n",
    "\n",
    "# Define uma paleta de cores para as categorias\n",
    "palette = sns.color_palette(\"husl\", len(media_limite_cartao))\n",
    "\n",
    "sns.barplot(x=media_limite_cartao.index, y=media_limite_cartao.values, palette=palette)\n",
    "\n",
    "plt.title(\"Limite de Crédito por cada categoria de cartão\", fontsize=14)\n",
    "plt.xlabel(\"Categoria do Cartão\", fontsize=14)\n",
    "plt.ylabel(\"Média do Limite de Crédito\")\n",
    "plt.show()"
   ],
   "outputs": [],
   "execution_count": null
  },
  {
   "cell_type": "code",
   "id": "682bd879-7c99-4dca-9166-736262b587d1",
   "metadata": {},
   "source": [
    "plt.figure(figsize=(8, 6))\n",
    "sns.countplot(x=\"Cartao\", data=df3, palette=palette)\n",
    "plt.title(\"Distribuição de Cartão\")\n",
    "plt.xlabel(\"Cartão\")\n",
    "plt.ylabel(\"Contagem\")\n",
    "plt.show()"
   ],
   "outputs": [],
   "execution_count": null
  },
  {
   "cell_type": "markdown",
   "id": "38eb98e0-9d43-4305-bd60-a48526c70bc0",
   "metadata": {},
   "source": [
    "Nesse caso, como o tipo de cartão Blue é muito maior que os outros, pode não fazer sentido para o modelo passar uma variável com muito mais dados. Dessa forma, vamos transformar essa variável em Cartão Blue e Outros."
   ]
  },
  {
   "cell_type": "code",
   "id": "HWMX322xAnuO",
   "metadata": {
    "colab": {
     "base_uri": "https://localhost:8080/",
     "height": 178
    },
    "id": "HWMX322xAnuO",
    "outputId": "4cf4fdba-f3f2-4b91-acd6-dd8351905f17"
   },
   "source": [
    "#nova variável usando numpy\n",
    "import numpy as np\n",
    "\n",
    "df3[\"Cartao_Num\"] = np.where(df3[\"Cartao\"].eq(\"Blue\"), 1, 0)\n",
    "df3.Cartao_Num.value_counts()"
   ],
   "outputs": [],
   "execution_count": null
  },
  {
   "cell_type": "code",
   "id": "49b440e3-06a6-4657-b38c-baf17e56ba1d",
   "metadata": {},
   "source": [
    "plt.figure(figsize=(8, 6))\n",
    "sns.countplot(x=\"Cartao_Num\", data=df3)\n",
    "plt.title(\"Distribuição de Cartão\")\n",
    "plt.xlabel(\"Cartão\")\n",
    "plt.ylabel(\"Contagem\")\n",
    "plt.show()"
   ],
   "outputs": [],
   "execution_count": null
  },
  {
   "cell_type": "markdown",
   "id": "3ef0c540-1655-4079-b8c0-c024a1f6bb8e",
   "metadata": {},
   "source": [
    "#### Gênero"
   ]
  },
  {
   "cell_type": "code",
   "id": "CpYvJdNkAnib",
   "metadata": {
    "colab": {
     "base_uri": "https://localhost:8080/",
     "height": 565
    },
    "id": "CpYvJdNkAnib",
    "outputId": "3518488e-3ad5-4695-ad70-2020ccbfe120"
   },
   "source": [
    "#gerar gráfico de gênero e indicador\n",
    "\n",
    "plt.figure(figsize=(8, 6))\n",
    "sns.countplot(x=\"Genero\", hue=\"Indicador\", data=df3)\n",
    "plt.title(\"Distribuição de Gênero por Indicador de Evasão\")\n",
    "plt.xlabel(\"Gênero\")\n",
    "plt.ylabel(\"Contagem\")\n",
    "plt.show()\n",
    "\n",
    "# O countplot do Seaborn é um tipo de gráfico de barras que mostra a contagem de observações em cada categoria de uma variável categórica.\n",
    "# Ele serve para visualizar a distribuição de frequências de diferentes categorias em um conjunto de dados.\n",
    "# Cada barra no gráfico representa uma categoria e sua altura corresponde ao número de ocorrências dessa categoria.\n",
    "# O countplot é frequentemente usado para análises exploratórias de dados, permitindo identificar rapidamente quais categorias são mais ou menos frequentes.\n",
    "# Além disso, ele pode ser facilmente customizado com cores, rótulos e outras propriedades para melhorar a clareza e a estética da visualização."
   ],
   "outputs": [],
   "execution_count": null
  },
  {
   "cell_type": "markdown",
   "id": "ecb2743f-7759-4ead-ac95-450ddd77fb0b",
   "metadata": {},
   "source": [
    "#### Exemplo de gráfico que não agrega"
   ]
  },
  {
   "cell_type": "code",
   "id": "f88e7ac1-c2f8-479f-864c-3d0bd99c0e75",
   "metadata": {},
   "source": [
    "#gerar gráfico idade e dependentes\n",
    "plt.figure(figsize=(8, 6))\n",
    "sns.scatterplot(x=\"Idade\", y=\"Dependentes\", hue=\"Indicador\", data=df3)\n",
    "plt.title(\"Relação entre  Idade e Dependentes por Indicador de Evasão\")\n",
    "plt.xlabel(\"Idade\")\n",
    "plt.ylabel(\"Dependentes\")\n",
    "plt.show()"
   ],
   "outputs": [],
   "execution_count": null
  },
  {
   "cell_type": "code",
   "id": "7728a529-aaa6-4686-8a25-8bdabc63fa13",
   "metadata": {},
   "source": [
    "# menos dependentes: maior amplitude de idade, qt maior o num de dependentes, fica mais junto\n",
    "plt.figure(figsize=(10, 7))\n",
    "sns.boxplot(data=df3, y=\"Idade\", x=\"Dependentes\")  # hue=\"Indicador\")"
   ],
   "outputs": [],
   "execution_count": null
  },
  {
   "cell_type": "code",
   "id": "ZvequEqRAnpm",
   "metadata": {
    "colab": {
     "base_uri": "https://localhost:8080/",
     "height": 435
    },
    "id": "ZvequEqRAnpm",
    "outputId": "eff6c721-b101-495f-df4d-0d00822fa50c"
   },
   "source": [
    "plt.figure(figsize=(8, 6))\n",
    "sns.heatmap(df3[[\"Idade\", \"Dependentes\", \"Limite_Credito\"]].corr(), annot=True)\n",
    "plt.show()\n",
    "\n",
    "# Um heatmap de correlação no Seaborn é uma visualização gráfica que mostra a matriz de correlação entre várias variáveis de um conjunto de dados.\n",
    "# Cada célula do heatmap representa o coeficiente de correlação entre duas variáveis, com a intensidade da cor indicando a força e a direção da correlação (positiva ou negativa).\n",
    "# Esse tipo de gráfico é extremamente útil para identificar rapidamente relações significativas entre variáveis, facilitando a análise exploratória e a seleção de características para modelos de machine learning. Além disso, o Seaborn permite adicionar anotações e ajustar a paleta de cores para melhorar a interpretação dos dados."
   ],
   "outputs": [],
   "execution_count": null
  },
  {
   "cell_type": "markdown",
   "id": "71d94ee5-9a3b-4b94-80c3-d9e6fc04c553",
   "metadata": {},
   "source": [
    "## Transformações"
   ]
  },
  {
   "cell_type": "code",
   "id": "CeZcPWkMAnr7",
   "metadata": {
    "colab": {
     "base_uri": "https://localhost:8080/",
     "height": 178
    },
    "id": "CeZcPWkMAnr7",
    "outputId": "2f622e7c-3c18-4014-dd51-8bebd12d5197"
   },
   "source": [
    "#nova variável onde genero m = 1 e genero f = 0\n",
    "df3[\"Genero_Num\"] = df3[\"Genero\"].apply(lambda x: 1 if x == \"M\" else 0)\n",
    "df3.Genero_Num.value_counts()"
   ],
   "outputs": [],
   "execution_count": null
  },
  {
   "cell_type": "code",
   "id": "9gluHreVAnyq",
   "metadata": {
    "colab": {
     "base_uri": "https://localhost:8080/"
    },
    "id": "9gluHreVAnyq",
    "outputId": "c3185720-fc1e-4c7f-fcc7-a19a835c039b"
   },
   "source": [
    "df3.info()"
   ],
   "outputs": [],
   "execution_count": null
  },
  {
   "cell_type": "markdown",
   "id": "f76698bc-d99c-4625-9f0b-34bea952e8fc",
   "metadata": {},
   "source": [
    "### Categóricas"
   ]
  },
  {
   "cell_type": "markdown",
   "id": "AELCUBE3LIaO",
   "metadata": {
    "id": "AELCUBE3LIaO"
   },
   "source": [
    "A função get_dummies do Pandas é usada para converter variáveis categóricas em variáveis dummy ou indicadores, que são representações numéricas (0 e 1) das categorias. Isso é especialmente útil em análises estatísticas e modelos de machine learning, onde os algoritmos geralmente requerem entradas numéricas.\n",
    "\n",
    "Por que usar get_dummies?\n",
    "\n",
    "Preparação de Dados: Transforma dados categóricos em um formato que pode ser facilmente utilizado por algoritmos de machine learning.\n",
    "\n",
    "Evita Problemas de Ordinalidade: Ao converter categorias em variáveis dummy, evita-se a interpretação errônea de que há uma ordem ou hierarquia entre as categorias.\n",
    "\n",
    "Facilita a Análise: Permite a inclusão de variáveis categóricas em análises estatísticas e modelos preditivos sem a necessidade de codificação manual."
   ]
  },
  {
   "cell_type": "code",
   "id": "vZE7RyQhAn0y",
   "metadata": {
    "colab": {
     "base_uri": "https://localhost:8080/",
     "height": 481
    },
    "id": "vZE7RyQhAn0y",
    "outputId": "b63c7399-1f2b-49f7-869d-db702dccef0c"
   },
   "source": [
    "# criar dummies da escolaridade, estado civil e renda\n",
    "\n",
    "# Criando dummies para a variável Escolaridade\n",
    "df_dummies_escolaridade = pd.get_dummies(df3[\"Escolaridade\"], prefix=\"Escolaridade\")\n",
    "\n",
    "# Criando dummies para a variável Estado_Civil\n",
    "df_dummies_estado_civil = pd.get_dummies(df3[\"Estado_Civil\"], prefix=\"Estado_Civil\")\n",
    "\n",
    "# Criando dummies para a variável Estado_Civil\n",
    "df_dummies_renda = pd.get_dummies(df3[\"Renda\"], prefix=\"Renda\")\n",
    "\n",
    "# Concatenando as dummies ao DataFrame original\n",
    "df3 = pd.concat([df3, df_dummies_escolaridade, df_dummies_estado_civil, df_dummies_renda], axis=1)\n",
    "\n",
    "# Exibindo as primeiras linhas do DataFrame com as dummies\n",
    "df3.head()"
   ],
   "outputs": [],
   "execution_count": null
  },
  {
   "cell_type": "code",
   "id": "DWuljbLxAn3J",
   "metadata": {
    "colab": {
     "base_uri": "https://localhost:8080/"
    },
    "id": "DWuljbLxAn3J",
    "outputId": "c532efca-ec95-4192-882c-736d3a48f326"
   },
   "source": [
    "df3.info()"
   ],
   "outputs": [],
   "execution_count": null
  },
  {
   "cell_type": "code",
   "id": "ATMiQrJLKjWO",
   "metadata": {
    "colab": {
     "base_uri": "https://localhost:8080/",
     "height": 384
    },
    "id": "ATMiQrJLKjWO",
    "outputId": "a6875e52-14c3-4079-eef7-d0c453a8d5bc"
   },
   "source": [
    "df3.describe()"
   ],
   "outputs": [],
   "execution_count": null
  },
  {
   "cell_type": "markdown",
   "id": "87601944-0aaa-47f0-aac4-79ad023293f0",
   "metadata": {},
   "source": [
    "### Transformação de dados numéricos"
   ]
  },
  {
   "cell_type": "markdown",
   "id": "Lt35tSPCOiU4",
   "metadata": {
    "id": "Lt35tSPCOiU4"
   },
   "source": [
    "Normalizar os dados é uma etapa crucial em ciência de dados por várias razões:\n",
    "\n",
    "Consistência: Normalizar os dados ajuda a garantir que todas as variáveis estejam na mesma escala, o que é especialmente importante para algoritmos que dependem da distância entre pontos, como K-means e K-Nearest Neighbors.\n",
    "\n",
    "Velocidade de Convergência: Em algoritmos de aprendizado de máquina, como redes neurais, a normalização pode acelerar a convergência durante o treinamento, tornando o processo mais eficiente.\n",
    "\n",
    "Melhor Desempenho: Modelos de aprendizado de máquina geralmente têm um desempenho melhor quando os dados são normalizados, pois isso evita que variáveis com escalas maiores dominem o modelo.\n",
    "\n",
    "Redução de Erros: A normalização pode ajudar a reduzir erros numéricos durante os cálculos, especialmente em algoritmos que envolvem operações matriciais."
   ]
  },
  {
   "cell_type": "markdown",
   "id": "e744c7b9-2e51-4992-9650-8c34ffbe7c95",
   "metadata": {},
   "source": [
    "* Escalas diferentes influenciam os algoritmos de forma diferente, dando mais peso para 1 que outro."
   ]
  },
  {
   "cell_type": "markdown",
   "id": "24cd4465-62db-46be-a6b4-4f4ec2776a2b",
   "metadata": {},
   "source": [
    "https://scikit-learn.org/dev/modules/generated/sklearn.preprocessing.MinMaxScaler.html"
   ]
  },
  {
   "cell_type": "markdown",
   "id": "2862f19b-dd10-47ca-9900-1061d73ccfec",
   "metadata": {},
   "source": [
    "#### MinMax scaler"
   ]
  },
  {
   "cell_type": "code",
   "id": "004bd5b8-6cd0-4734-b790-e8d50f95ced8",
   "metadata": {},
   "source": [
    "# exemplo do minmax scaler\n",
    "idade_max = df3.Idade.max()\n",
    "idade_min = df3.Idade.min()\n",
    "\n",
    "df3[\"Idade_SC_\"] = (df3[\"Idade\"] - idade_min) / (idade_max - idade_min)"
   ],
   "outputs": [],
   "execution_count": null
  },
  {
   "cell_type": "code",
   "id": "24db6761-22c9-4f1c-b4da-382ef650c5a7",
   "metadata": {},
   "source": [
    "# normalizar idade, dependentes e limite_credito\n",
    "from sklearn.preprocessing import MinMaxScaler\n",
    "\n",
    "# Crie um objeto StandardScaler\n",
    "scaler = MinMaxScaler()\n",
    "\n",
    "# Selecione as colunas que você deseja escalonar\n",
    "cols_to_scale = [\"Idade\", \"Dependentes\", \"Limite_Credito\"]\n",
    "cols_scaled = [\"Idade_SC\", \"Dependentes_SC\", \"Limite_Credito_SC\"]\n",
    "\n",
    "# Aplique o StandardScaler às colunas selecionadas\n",
    "df3[cols_scaled] = scaler.fit_transform(df3[cols_to_scale])\n",
    "\n",
    "# Exiba as primeiras linhas do DataFrame com as colunas escalonadas\n",
    "df3.head()"
   ],
   "outputs": [],
   "execution_count": null
  },
  {
   "cell_type": "code",
   "id": "3a596a26-2a20-4feb-87ad-86d915254f7d",
   "metadata": {},
   "source": [
    "df3[[\"Idade\", \"Idade_SC\", \"Idade_SC_\"]]"
   ],
   "outputs": [],
   "execution_count": null
  },
  {
   "cell_type": "markdown",
   "id": "0701c11b-8185-463f-be4f-fde2736f625c",
   "metadata": {},
   "source": [
    "## Live 3"
   ]
  },
  {
   "cell_type": "markdown",
   "id": "444911fd-1fab-491c-819d-f12768cf9534",
   "metadata": {},
   "source": [
    "**Relembrando:** Nossa base de dados é de um banco e possui informações de utilização de cartão de crédito. \n",
    "- Mas cada cliente possui características pessoais e comportamento de utilização de crédito distintos\n",
    "- Para visualizar melhor essas diferenças, podemos pensar em agrupar nossos clientes em perfis distintos"
   ]
  },
  {
   "cell_type": "markdown",
   "id": "248a46e2-d817-409f-a613-537f4af0a946",
   "metadata": {},
   "source": [
    "#### Vamos começar salvando os dados que vamos utilizar com outros nomes "
   ]
  },
  {
   "cell_type": "code",
   "id": "67bcbf0f-f692-4679-9ee2-afb78aed3487",
   "metadata": {},
   "source": [
    "# Seleciona as colunas originais\n",
    "dados_numericos = df3[[\"Idade\", \"Dependentes\", \"Limite_Credito\"]].copy()\n",
    "dados_numericos.head()"
   ],
   "outputs": [],
   "execution_count": null
  },
  {
   "cell_type": "code",
   "id": "ccc20530-dc50-4158-9843-4bbb2e78e17e",
   "metadata": {},
   "source": [
    "# Verificando a distribuição desses dados\n",
    "dados_numericos.describe()"
   ],
   "outputs": [],
   "execution_count": null
  },
  {
   "cell_type": "code",
   "id": "f404b08e-f06f-4794-ad24-ae730dccae5f",
   "metadata": {},
   "source": [
    "# Seleciona as colunas normalizadas\n",
    "dados_numericos_normalizados = df3[[\"Idade_SC\", \"Dependentes_SC\", \"Limite_Credito_SC\"]].copy()"
   ],
   "outputs": [],
   "execution_count": null
  },
  {
   "cell_type": "code",
   "id": "43871e67-4348-4390-9bc3-5dc34f7bfa30",
   "metadata": {},
   "source": [
    "# Verificando a distribuição dos dados normalizados\n",
    "dados_numericos_normalizados.describe()"
   ],
   "outputs": [],
   "execution_count": null
  },
  {
   "cell_type": "markdown",
   "id": "4b1a3cdb-62a8-4be5-900b-e3a45b2fddb1",
   "metadata": {},
   "source": [
    "#### Vamos utilizar o KMeans criando quatro clusters a partir dos nossos dados"
   ]
  },
  {
   "cell_type": "code",
   "id": "ec44a8e3-356c-4c41-a8b2-131b05925617",
   "metadata": {},
   "source": [
    "from sklearn.cluster import KMeans"
   ],
   "outputs": [],
   "execution_count": null
  },
  {
   "cell_type": "code",
   "id": "ed0321d3-c623-48bc-ac6e-0179068a60a3",
   "metadata": {},
   "source": [
    "#Iniciando o algoritmo com os parâmetros escolhidos\n",
    "kmeans = KMeans(n_clusters=4, init=\"k-means++\", n_init=10, max_iter=300, random_state=12345)"
   ],
   "outputs": [],
   "execution_count": null
  },
  {
   "cell_type": "markdown",
   "id": "91e03a8c-c187-40cb-80aa-eea55da1d497",
   "metadata": {},
   "source": [
    "- init=\"k-means++\": inicializa os centróides dos clusters para acelerar a convergência do algoritmo.\n",
    "- n_init=10: especifica o número de vezes que o algoritmo K-means será executado com diferentes centróides iniciais. Executar o algoritmo várias vezes ajuda a evitar resultados ruins devido a uma má inicialização dos centroides.\n",
    "- max_iter=300: define o número máximo de iterações do algoritmo K-means para uma única execução. O valor 300 que é o padrão é um bom valor para garantir que o algoritmo já tenha convergido ao finalizar uma execução => Cada uma das 10 execuções do algoritmo pode realizar até 300 iterações para tentar convergir.\n",
    "- random_state=12345: garante que os resultados sejam os mesmos em execuções diferentes do algoritmo. Controla a semente do gerador de números aleatórios usado para inicializar os centros dos clusters. Isso permite a reprodutibilidade dos resultados. "
   ]
  },
  {
   "cell_type": "code",
   "id": "f2777294-17d5-4f40-8ccc-3393e5f0bdc7",
   "metadata": {},
   "source": [
    "clusters = kmeans.fit_predict(dados_numericos_normalizados)"
   ],
   "outputs": [],
   "execution_count": null
  },
  {
   "cell_type": "code",
   "id": "02e07473-ba64-4825-b890-b6306d30c238",
   "metadata": {},
   "source": [
    "np.unique(clusters)"
   ],
   "outputs": [],
   "execution_count": null
  },
  {
   "cell_type": "markdown",
   "id": "6a468b76-1e6b-4851-a6fc-8c4422d83141",
   "metadata": {},
   "source": [
    "#### **Atenção:** Se no seu banco de dados tiver muitas variáveis categóricas importantes para a sua análise, sugere-se a utilização de outros algoritmos: **K-Medoids** ou **K-Prototypes**"
   ]
  },
  {
   "cell_type": "markdown",
   "id": "77202232-b37b-40be-a5b9-a857c0c6c207",
   "metadata": {},
   "source": [
    "#### Devemos mesmo permanecer com quatro clusters?\n",
    "#### Vamos utilizar o método do cotovelo e verificar outras quantidades de cluster"
   ]
  },
  {
   "cell_type": "code",
   "id": "23f3abe8-41be-46ff-990f-c395f4edd037",
   "metadata": {},
   "source": [
    "import matplotlib.pyplot as plt\n",
    "\n",
    "# Calcular WCSS para diferentes números de clusters\n",
    "wcss = []\n",
    "\n",
    "for i in range(1, 11):\n",
    "    kmeans = KMeans(n_clusters=i, init=\"k-means++\", max_iter=300, n_init=10, random_state=12345)\n",
    "    kmeans.fit(dados_numericos_normalizados)\n",
    "    wcss.append(kmeans.inertia_)\n",
    "\n",
    "# Plotar o gráfico do método do cotovelo\n",
    "plt.plot(range(1, 11), wcss)\n",
    "plt.title(\"Método do Cotovelo\")\n",
    "plt.xlabel(\"Número de clusters\")\n",
    "plt.ylabel(\"WCSS\")\n",
    "plt.xticks(range(1, 11))  # Definir os xticks de 1 em 1\n",
    "plt.show()"
   ],
   "outputs": [],
   "execution_count": null
  },
  {
   "cell_type": "markdown",
   "id": "c3f3f410-527f-4fb7-a132-b697aff0a8c9",
   "metadata": {},
   "source": [
    "#### Calculando a métrica de silhouette (de -1 até 1) para os 4 clusters iniciais"
   ]
  },
  {
   "cell_type": "code",
   "id": "4aea0b2d-20af-4270-aa75-55f6e3d93c95",
   "metadata": {},
   "source": [
    "from sklearn import metrics"
   ],
   "outputs": [],
   "execution_count": null
  },
  {
   "cell_type": "code",
   "id": "914d49e1-f83d-4fa1-b248-a135d7654624",
   "metadata": {},
   "source": [
    "silhouette = metrics.silhouette_score(dados_numericos_normalizados, clusters, metric=\"euclidean\")\n",
    "\n",
    "# Outras métricas de avaliação de cluster: davies_bouldin_score, calinski_harabasz_score"
   ],
   "outputs": [],
   "execution_count": null
  },
  {
   "cell_type": "code",
   "id": "6ef50fbd-d5ff-426f-9f4f-58fda3966eea",
   "metadata": {},
   "source": [
    "print(silhouette)"
   ],
   "outputs": [],
   "execution_count": null
  },
  {
   "cell_type": "markdown",
   "id": "393574d5-3cb5-4cfd-934b-54b97f895a32",
   "metadata": {},
   "source": [
    "#### Vamos realizar uma análise auxiliar da melhor quantidade de clusters. \n",
    "#### Vamos verificar os coeficientes de silhouette para 3, 4 e 5 clusters:"
   ]
  },
  {
   "cell_type": "code",
   "id": "551c7d14-44a5-4f45-a6cf-6e2388b39ac3",
   "metadata": {},
   "source": [
    "kmeans_3 = KMeans(n_clusters=3, init=\"k-means++\", n_init=10, max_iter=300, random_state=12345)\n",
    "clusters_3 = kmeans_3.fit_predict(dados_numericos_normalizados)\n",
    "silhouette_3 = metrics.silhouette_score(dados_numericos_normalizados, clusters_3, metric=\"euclidean\")\n",
    "print(silhouette_3)"
   ],
   "outputs": [],
   "execution_count": null
  },
  {
   "cell_type": "code",
   "id": "1c55e067-b2f2-42e3-893f-5dd7cc1b4cde",
   "metadata": {},
   "source": [
    "kmeans_4 = KMeans(n_clusters=4, init=\"k-means++\", n_init=10, max_iter=300, random_state=12345)\n",
    "clusters_4 = kmeans_4.fit_predict(dados_numericos_normalizados)\n",
    "silhouette_4 = metrics.silhouette_score(dados_numericos_normalizados, clusters_4, metric=\"euclidean\")\n",
    "print(silhouette_4)"
   ],
   "outputs": [],
   "execution_count": null
  },
  {
   "cell_type": "code",
   "id": "5129ad95-802c-4d49-925d-b88cb38e3bcc",
   "metadata": {},
   "source": [
    "kmeans_5 = KMeans(n_clusters=5, init=\"k-means++\", n_init=10, max_iter=300, random_state=12345)\n",
    "clusters_5 = kmeans_5.fit_predict(dados_numericos_normalizados)\n",
    "silhouette_5 = metrics.silhouette_score(dados_numericos_normalizados, clusters_5, metric=\"euclidean\")\n",
    "print(silhouette_5)"
   ],
   "outputs": [],
   "execution_count": null
  },
  {
   "cell_type": "markdown",
   "id": "67adc59b-78bb-441b-8156-5d26447aa09a",
   "metadata": {},
   "source": [
    "#### Agora que decidimos que vamos permanecer com 4 clusters. Vamos interpretá-los a partir das variáveis utilizadas em sua criação. \n",
    "#### Essa etapa é conhecida como \"Perfilamento dos clusters\""
   ]
  },
  {
   "cell_type": "markdown",
   "id": "266e2796-3bdb-4241-b332-91e77f2339e7",
   "metadata": {},
   "source": [
    "#### Salvando os clusters como uma coluna no nosso dataframe original (sem ser o normalizado)"
   ]
  },
  {
   "cell_type": "code",
   "id": "52390edd-dd31-45b3-b466-59763bb86e75",
   "metadata": {},
   "source": [
    "dados_numericos.loc[:, \"clusters\"] = clusters"
   ],
   "outputs": [],
   "execution_count": null
  },
  {
   "cell_type": "code",
   "id": "63119a38-b0a3-4f97-8c56-222ac6b4968f",
   "metadata": {},
   "source": [
    "dados_numericos.head()"
   ],
   "outputs": [],
   "execution_count": null
  },
  {
   "cell_type": "markdown",
   "id": "8868cd12-7315-4732-9d1f-87b1178d196b",
   "metadata": {},
   "source": [
    "#### Primeiro, vamos verificar os tamanhos dos clusters por percentual da base total"
   ]
  },
  {
   "cell_type": "code",
   "id": "8765fd0c-f6b7-42e2-b116-f05eb1e48f9b",
   "metadata": {},
   "source": [
    "dados_numericos[\"clusters\"].value_counts(normalize=True).sort_index()"
   ],
   "outputs": [],
   "execution_count": null
  },
  {
   "cell_type": "markdown",
   "id": "c49ef502-022e-4dee-be41-135d2b799a22",
   "metadata": {},
   "source": [
    "- Cluster 0: Representa 1 a cada 5 clientes \n",
    "- CLuster 1: Representa a maior quantidade de clientes\n",
    "- Cluster 2: Representa a menor quantidade de clientes \n",
    "- Cluster 3: Representa cerca de 27% dos clientes "
   ]
  },
  {
   "cell_type": "markdown",
   "id": "020680b6-9f9f-4052-8bb1-ae20774bda23",
   "metadata": {},
   "source": [
    "#### Vamos verificar graficamente a distribuição dos clusters entre duas variáveis explicativas"
   ]
  },
  {
   "cell_type": "code",
   "id": "99e22cf3-ccba-4701-a72f-0a37ee71c9f1",
   "metadata": {},
   "source": [
    "import matplotlib.pyplot as plt\n",
    "\n",
    "# Criar o gráfico de pontos\n",
    "plt.figure(figsize=(10, 6))\n",
    "scatter = plt.scatter(dados_numericos[\"Idade\"], dados_numericos[\"Limite_Credito\"], c=dados_numericos[\"clusters\"],\n",
    "                      cmap=\"viridis\", alpha=0.6)\n",
    "\n",
    "# Adicionar legenda\n",
    "legend1 = plt.legend(*scatter.legend_elements(), title=\"Clusters\")\n",
    "plt.gca().add_artist(legend1)\n",
    "\n",
    "# Adicionar títulos e rótulos\n",
    "plt.title(\"Limite de Crédito do Cartão x Idade dos Clientes\")\n",
    "plt.xlabel(\"Idade dos Clientes\")\n",
    "plt.ylabel(\"Limite de Crédito do Cartão\")\n",
    "\n",
    "# Mostrar o gráfico\n",
    "plt.show()"
   ],
   "outputs": [],
   "execution_count": null
  },
  {
   "cell_type": "markdown",
   "id": "2aea3a43-89fa-4f48-8d92-03ac459e1f5b",
   "metadata": {},
   "source": [
    "- Cluster 0: Clientes mais novos com baixo limite de crédito\n",
    "- Cluster 1: Clientes com baixo limite de crédito\n",
    "- Cluster 2: Clientes com alto limite de crédito \n",
    "- Cluster 3: Clientes mais velhos com baixo limite de crédito "
   ]
  },
  {
   "cell_type": "markdown",
   "id": "f41619ff-6f11-4661-93f8-30f3f90053ed",
   "metadata": {},
   "source": [
    "#### Vamos analisar a última variável utilizando a média dela por cluster"
   ]
  },
  {
   "cell_type": "code",
   "id": "aa16e64d-151c-4117-b9c4-d6411416f171",
   "metadata": {},
   "source": [
    "dados_numericos.groupby(\"clusters\")[\"Dependentes\"].mean().sort_index()"
   ],
   "outputs": [],
   "execution_count": null
  },
  {
   "cell_type": "markdown",
   "id": "56e9d87e-9a4d-4720-9249-96bb96c790cd",
   "metadata": {},
   "source": [
    "- Cluster 0: Clientes com poucos dependentes\n",
    "- Cluster 1: Clientes com a maior quantidade de dependentes \n",
    "- Cluster 2: Clientes com uma boa quantidade de dependentes \n",
    "- Cluster 3: Clientes com a menor quantidade de dependentes "
   ]
  },
  {
   "cell_type": "markdown",
   "id": "584a195c-4b60-44ab-a682-3d2740bc9a59",
   "metadata": {},
   "source": [
    "#### Conclusão da caracterização/interpretação dos clusters "
   ]
  },
  {
   "cell_type": "markdown",
   "id": "552d7c04-2d62-47d1-93d2-5c114590cd61",
   "metadata": {},
   "source": [
    "- Cluster 0: Clientes mais novos com baixo limite de crédito e poucos dependentes<br>\n",
    "- Cluster 1: Representa a maior quantidade de clientes. Cliente com muitos dependentes e com baixo limite de crédito<br>\n",
    "- Cluster 2: Representa a menor quantidade de clientes. Clientes com uma boa quantidade de dependentes e com alto limite de crédito<br>\n",
    "- Cluster 3: Clientes mais velhos com poucos dependentes e com baixo limite de crédito.<br>"
   ]
  },
  {
   "cell_type": "markdown",
   "id": "1ab3a84c-07fa-4c50-b1aa-b51bc663a857",
   "metadata": {},
   "source": [
    "**Estratégia 1:** Aumentar as vendas no shopping BB<br>\n",
    "**Público alvo:** Cluster 2, pois possuem alto limite de crédito. Esse cluster também possui uma boa quantidade de dependentes, pode se fazer uma pesquisa da média da distribuição de idade desses dependentes. Se a gente estiver falando de muitas crianças, pode-se propor que o shopping BB faça uma parceria com empresa que vende artigos infantis. "
   ]
  },
  {
   "cell_type": "markdown",
   "id": "3e776633-1e9b-4381-96ac-33c792e4eeae",
   "metadata": {},
   "source": [
    "**Estratégia 2:** Promover uma maior utilização do cartão de crédito entre os jovens<br>\n",
    "**Público alvo:** Cluster 0, representa pessoas jovens com poucos dependentes. Pode-se fazer um cartão que seja mais a cara dos jovens. Pode-se pensar em um aumento de limite de crédito para aqueles que são bons pagadores. E se aumentarmos o cashback do cartão para esse público, irá encorajá-los a usar mais o cartão?"
   ]
  },
  {
   "cell_type": "markdown",
   "id": "604f950b1f6d05a1",
   "metadata": {},
   "source": [
    "# Live 4 - Aprendizado Supervisionado"
   ]
  },
  {
   "cell_type": "markdown",
   "id": "8f1db26145b6dd82",
   "metadata": {},
   "source": [
    "**Relembrando:** Nossa base de dados é de um banco e possui informações de utilização de cartão de crédito. \n",
    "- E queremos identificar o padrão de clientes que cancelam o cartão de crédito\n",
    "- E também queremos prever quem são os clientes que tem potencial de cancelar o cartão de crédito"
   ]
  },
  {
   "cell_type": "markdown",
   "id": "38d8e822575f3193",
   "metadata": {},
   "source": [
    "O que faremos nesse projeto de machine learning?  \n",
    "1 - Leitura do dataframe e identificação das variáveis  \n",
    "2 - Criação de 2 modelos de classificação  \n",
    "3 - Validação dos modelos  "
   ]
  },
  {
   "cell_type": "markdown",
   "id": "a5e821db4e2782f1",
   "metadata": {},
   "source": [
    "Vamos começar listando as variáveis do nosso dataframe para saber o que vai entrar no nosso modelo "
   ]
  },
  {
   "cell_type": "code",
   "id": "cad85cacfedeb894",
   "metadata": {},
   "source": [
    "# Listando as colunas do nosso dataframe\n",
    "df3.columns"
   ],
   "outputs": [],
   "execution_count": null
  },
  {
   "cell_type": "markdown",
   "id": "b7e16258ee5bceb1",
   "metadata": {},
   "source": [
    "Vamos relembrar como estão nossas variáveis"
   ]
  },
  {
   "cell_type": "code",
   "id": "8608a7b9db803dc0",
   "metadata": {},
   "source": [
    "df3.sample(2)"
   ],
   "outputs": [],
   "execution_count": null
  },
  {
   "cell_type": "markdown",
   "id": "6b1035545fd0b2b8",
   "metadata": {},
   "source": [
    "Lembrando que para realizar o treinamento dos nossos modelos, temos que separar as variáveis independentes da variável alvo (também conhecida como label, rótulo, variável dependente, etc.), que no nosso dataframe é a coluna df['Indicador']"
   ]
  },
  {
   "cell_type": "code",
   "id": "477c86d4d1b93d1c",
   "metadata": {},
   "source": [
    "variaveis = [\n",
    "    \"Idade\", \"Dependentes\",\n",
    "    \"Limite_Credito\", \"Genero_Num\",\n",
    "    \"Cartao_Num\", \"Escolaridade_Desconhecido\", \"Escolaridade_Doutorado\",\n",
    "    \"Escolaridade_Ensino Médio Completo\",\n",
    "    \"Escolaridade_Ensino Superior Completo\", \"Escolaridade_Mestrado\",\n",
    "    \"Escolaridade_Pós-Graduação\", \"Escolaridade_Sem Escolaridade\",\n",
    "    \"Estado_Civil_Casado\", \"Estado_Civil_Divorciado\",\n",
    "    \"Estado_Civil_Solteiro\", \"Renda_De 40 Mil a 60 Mil\",\n",
    "    \"Renda_De 60 Mil a 80 Mil\", \"Renda_De 80 Mil a 120 Mil\",\n",
    "    \"Renda_Mais de 120 Mil\", \"Renda_Menos de 40 Mil\"\n",
    "]\n",
    "\n",
    "df_final = df3.copy()\n",
    "\n",
    "df_finalX = df_final[variaveis]\n",
    "df_finaly = df_final[\"Indicador\"]"
   ],
   "outputs": [],
   "execution_count": null
  },
  {
   "cell_type": "markdown",
   "id": "bfa35daf3cf78796",
   "metadata": {},
   "source": [
    "### Separando os conjuntos de treino e teste"
   ]
  },
  {
   "cell_type": "markdown",
   "id": "fbff4253ed3f7075",
   "metadata": {},
   "source": [
    "Separar os dados em conjuntos de treino e teste é fundamental em ciência de dados. O objetivo é usar uma parte dos seus dados para treinar o modelo (conjunto de treinamento) e outra parte para avaliar o desempenho do modelo (conjunto de teste). A função train_test_split do sklearn é a forma mais comum de realizar essa separação. Os benefícios de dividir em treino e teste são:\n",
    "\n",
    "**Avaliação Justa**: Permite avaliar o desempenho do modelo em dados que ele nunca viu antes, simulando como ele se comportará em dados reais.\n",
    "\n",
    "**Garantir generalização**: Ao treinar um modelo, é importante que ele aprenda os padrões dos dados, em vez de apenas memorizar os exemplos de treinamento. Para verificar a capacidade do modelo de generalizar, deve-se avaliá-lo com dados nunca vistos, ou seja, com informações diferentes das usadas no treinamento.\n",
    "\n",
    "**Validação do Modelo**: Facilita a comparação entre diferentes modelos e a escolha do melhor, baseado em seu desempenho em dados não vistos."
   ]
  },
  {
   "cell_type": "markdown",
   "id": "a8eeadff31fdf700",
   "metadata": {},
   "source": [
    "Para dividir nosso dataframe, o método train_test_split possui os seguintes parâmetros:\n",
    "    \n",
    "- df_finalX: são os dados de entrada  \n",
    "- df_finaly: é o rótulo\n",
    "- test_size: define a proporção dos dados que serão usados como conjunto de teste (geralmente entre 0.2 e 0.3).  \n",
    "- random_state: é uma semente para o gerador de números randômicos. Fornecer um valor específico garante que a divisão seja reprodutível, ou seja, você obterá a mesma divisão sempre que usar o mesmo valor.\n",
    "- shuffle: quando é igual a True garante aleatoriedade na escolha dos dados.\n",
    "\n",
    "A divisão será armazenada nas variáveis X_train, X_test, y_train, y_test"
   ]
  },
  {
   "cell_type": "code",
   "id": "84934a72ff179e95",
   "metadata": {},
   "source": [
    "#Importando o módulo do sklearn\n",
    "from sklearn.model_selection import train_test_split\n",
    "\n",
    "X_train, X_test, y_train, y_test = train_test_split(df_finalX, df_finaly, test_size=0.3, random_state=42, shuffle=True)"
   ],
   "outputs": [],
   "execution_count": null
  },
  {
   "cell_type": "code",
   "id": "acb2a3c138edcfd4",
   "metadata": {},
   "source": [
    "df3[\"Indicador\"].value_counts()"
   ],
   "outputs": [],
   "execution_count": null
  },
  {
   "cell_type": "markdown",
   "id": "3e80d13f7e9fbf7b",
   "metadata": {},
   "source": [
    "Vamos verificar como ficaram as 4 variáveis após o train_test_split"
   ]
  },
  {
   "cell_type": "code",
   "id": "1b7af8c1f52a3334",
   "metadata": {},
   "source": [
    "print(\"Shape do X_train:\", X_train.shape)\n",
    "print(\"Shape do y_train:\", y_train.shape)\n",
    "print(\"Shape do X_test:\", X_test.shape)\n",
    "print(\"Shape do y_test:\", y_test.shape)"
   ],
   "outputs": [],
   "execution_count": null
  },
  {
   "cell_type": "markdown",
   "id": "b0507720e4d3c37",
   "metadata": {},
   "source": [
    "Vamos trabalhar com modelos de classificação. Nessa live escolhemos 2 modelos :\n",
    "- RandomForestClassifier\n",
    "- KNeighborsClassifier"
   ]
  },
  {
   "cell_type": "markdown",
   "id": "86aca8e18e62fea4",
   "metadata": {},
   "source": [
    "### Modelo 1: Random Forest Classifier"
   ]
  },
  {
   "cell_type": "markdown",
   "id": "7573b88aa8adc03e",
   "metadata": {},
   "source": [
    "RandomForestClassifier(): Esse é o modelo de Random Forest para tarefas de classificação.\n",
    "\n",
    "n_estimators=100: Isso define o número de árvores na floresta. No caso, 100 árvores de decisão serão criadas.\n",
    "\n",
    "random_state=42: Esse parâmetro garante a reprodutibilidade dos resultados. Com esse valor, você sempre terá os mesmos resultados ao executar o código, já que ele fixa a semente do gerador de números aleatórios."
   ]
  },
  {
   "cell_type": "code",
   "id": "e94456750f0a1f9",
   "metadata": {},
   "source": [
    "# Importando o modelo\n",
    "from sklearn.ensemble import RandomForestClassifier\n",
    "\n",
    "# Inicializar o classificador Random Forest\n",
    "Clf_rf = RandomForestClassifier(n_estimators=100, random_state=42)\n",
    "\n",
    "# Treinar o modelo com os dados de treino\n",
    "Clf_rf.fit(X_train, y_train)"
   ],
   "outputs": [],
   "execution_count": null
  },
  {
   "cell_type": "markdown",
   "id": "4963a1af851031a2",
   "metadata": {},
   "source": [
    "### Fazendo a predição\n",
    "Vamos fazer a predição do modelo treinado com os dados de teste (X_test)"
   ]
  },
  {
   "cell_type": "code",
   "id": "afb2233d41da18ac",
   "metadata": {},
   "source": [
    "# Fazer previsões no conjunto de dados de teste\n",
    "y_pred = Clf_rf.predict(X_test)"
   ],
   "outputs": [],
   "execution_count": null
  },
  {
   "cell_type": "markdown",
   "id": "e9a57210df838415",
   "metadata": {},
   "source": [
    "Em resumo, y_pred conterá os valores previstos pelo modelo clf_rf para o conjunto de dados X_test. Agora, temos previsões para comparar com os valores reais de y_test e avaliar a precisão do modelo."
   ]
  },
  {
   "cell_type": "markdown",
   "id": "3adcaed4f7ce2cc6",
   "metadata": {},
   "source": [
    "### Avaliação do modelo"
   ]
  },
  {
   "cell_type": "code",
   "id": "2a5973638690d003",
   "metadata": {},
   "source": [
    "#Importando a biblioteca de métricas\n",
    "from sklearn.metrics import accuracy_score\n",
    "\n",
    "# Avaliar a acurácia do modelo\n",
    "accuracy = accuracy_score(y_test, y_pred)\n",
    "print(f\"Acurácia: {accuracy * 100:.4f}%\")"
   ],
   "outputs": [],
   "execution_count": null
  },
  {
   "cell_type": "markdown",
   "id": "fe0bbca530274e4c",
   "metadata": {},
   "source": [
    "Mas o que significa 81%. Isso é bom? Onde o modelo está errando? Resolve o problema negocial?"
   ]
  },
  {
   "cell_type": "markdown",
   "id": "54424bf322c9ac4c",
   "metadata": {},
   "source": [
    "Vamos avaliar o modelo através da matriz de confusão, que assim teremos uma ideia melhor de qual classe ele está errando mais."
   ]
  },
  {
   "cell_type": "code",
   "id": "eeab5ea00add8545",
   "metadata": {},
   "source": [
    "# Importando a biblioteca para ver a matriz de confusão\n",
    "from sklearn.metrics import confusion_matrix\n",
    "\n",
    "# Matriz de Confusão\n",
    "# Esse comando usa a função confusion_matrix da biblioteca sklearn para comparar \n",
    "# os valores verdadeiros (y_test) com os valores previstos (y_pred)\n",
    "\n",
    "cm = confusion_matrix(y_test, y_pred)\n",
    "print(\"Matriz de Confusão:\")\n",
    "print(cm)"
   ],
   "outputs": [],
   "execution_count": null
  },
  {
   "cell_type": "code",
   "id": "c410f8adebb2a649",
   "metadata": {},
   "source": [
    "# Vamos melhorar a visualização dessa matriz de confusão\n",
    "from sklearn.metrics import ConfusionMatrixDisplay\n",
    "\n",
    "visualizacao = ConfusionMatrixDisplay(confusion_matrix=cm, display_labels=[\"Não Churn\", \"Churn\"])\n",
    "visualizacao.plot();"
   ],
   "outputs": [],
   "execution_count": null
  },
  {
   "cell_type": "markdown",
   "id": "d54c4996cd70cacb",
   "metadata": {},
   "source": [
    "Essa matriz de confusão mostra a performance do modelo de classificação em duas classes.\n",
    "\n",
    "2024: amostras corretamente classificadas como Nâo-Churn.  \n",
    "404: amostras de Churn incorretamente classificadas como Não-Churn.\n",
    "59: amostras de Não-Churn incorretamente classificadas como Churn.\n",
    "18: amostras corretamente classificadas como Churn.\n",
    "\n",
    "Então, resumindo:\n",
    "\n",
    "O modelo classificou corretamente 2024 amostras de Não-Churn e 18 amostras de Churn.\n",
    "Ele classificou incorretamente 59 amostras de Não-Churn como Churn e 404 amostras de Churn como Não-Churn."
   ]
  },
  {
   "cell_type": "markdown",
   "id": "9bef17f501704194",
   "metadata": {},
   "source": [
    "Vamos analisar agora as outras métricas do modelo"
   ]
  },
  {
   "cell_type": "code",
   "id": "4d60edaa4ddc4e9e",
   "metadata": {},
   "source": [
    "from sklearn.metrics import precision_score, recall_score, f1_score, roc_auc_score\n",
    "\n",
    "# Precisão\n",
    "precision = precision_score(y_test, y_pred)\n",
    "print(f\"Precisão: {precision:.4f}\")\n",
    "\n",
    "# Recall\n",
    "recall = recall_score(y_test, y_pred)\n",
    "print(f\"Recall: {recall:.4f}\")\n",
    "\n",
    "# F1 Score\n",
    "f1 = f1_score(y_test, y_pred)\n",
    "print(f\"F1 Score: {f1:.4f}\")\n",
    "\n",
    "# Extraindo os valores TN, FP, FN, TP\n",
    "TN, FP, FN, TP = cm.ravel()\n",
    "print(f\"Verdadeiros Negativos (TN): {TN}\")\n",
    "print(f\"Falsos Positivos (FP): {FP}\")\n",
    "print(f\"Falsos Negativos (FN): {FN}\")\n",
    "print(f\"Verdadeiros Positivos (TP): {TP}\")\n",
    "\n",
    "# Curva ROC e AUC (para problemas binários)\n",
    "if len(set(y_test)) == 2:  # Verifica se é um problema binário\n",
    "    y_prob = Clf_rf.predict_proba(X_test)[:, 1]\n",
    "    auc = roc_auc_score(y_test, y_prob)\n",
    "    print(f\"AUC: {auc:.2f}\")"
   ],
   "outputs": [],
   "execution_count": null
  },
  {
   "cell_type": "markdown",
   "id": "f2be636df44a881a",
   "metadata": {},
   "source": [
    "### Modelo 2: KNeighborsClassifier"
   ]
  },
  {
   "cell_type": "markdown",
   "id": "6b2e77cf59d972c3",
   "metadata": {},
   "source": [
    "KNeighborsClassifier(): Essa é a classe do algoritmo K-Nearest Neighbors do sklearn.\n",
    "\n",
    "n_neighbors=5: Isso define que o número de vizinhos mais próximos considerados para fazer a classificação será 5.\n",
    "\n",
    "Então, knn será um modelo que, para classificar uma nova amostra, vai olhar para as 5 amostras mais próximas (em termos de distância) e usar as classes dessas amostras para determinar a classe da nova amostra."
   ]
  },
  {
   "cell_type": "code",
   "id": "d0135d7f10ba5be9",
   "metadata": {},
   "source": [
    "from sklearn.neighbors import KNeighborsClassifier\n",
    "\n",
    "knn = KNeighborsClassifier(n_neighbors=5)\n",
    "knn.fit(X_train, y_train)"
   ],
   "outputs": [],
   "execution_count": null
  },
  {
   "cell_type": "markdown",
   "id": "d91185a2889208b8",
   "metadata": {},
   "source": [
    "### Fazendo a predição\n",
    "Vamos fazer a predição do modelo treinado com os dados de teste (X_test)"
   ]
  },
  {
   "cell_type": "code",
   "id": "700670fe5dba585e",
   "metadata": {},
   "source": [
    "y_pred = knn.predict(X_test)"
   ],
   "outputs": [],
   "execution_count": null
  },
  {
   "cell_type": "markdown",
   "id": "5d5f77af19d31d16",
   "metadata": {},
   "source": [
    "### Avaliação do modelo"
   ]
  },
  {
   "cell_type": "code",
   "id": "cafaf1e37e7f4bc8",
   "metadata": {},
   "source": [
    "#Importando a biblioteca de métricas\n",
    "from sklearn.metrics import accuracy_score\n",
    "\n",
    "# Avaliar a acurácia do modelo\n",
    "accuracy = accuracy_score(y_test, y_pred)\n",
    "print(f\"Acurácia: {accuracy * 100:.4f}%\")"
   ],
   "outputs": [],
   "execution_count": null
  },
  {
   "cell_type": "code",
   "id": "fa951194e84f4613",
   "metadata": {},
   "source": [
    "# Matriz de Confusão\n",
    "# Esse comando usa a função confusion_matrix da biblioteca sklearn para comparar \n",
    "# os valores verdadeiros (y_test) com os valores previstos (y_pred)\n",
    "\n",
    "cm = confusion_matrix(y_test, y_pred)\n",
    "visualizacao = ConfusionMatrixDisplay(confusion_matrix=cm, display_labels=[\"Não Churn\", \"Churn\"])\n",
    "visualizacao.plot();"
   ],
   "outputs": [],
   "execution_count": null
  },
  {
   "cell_type": "code",
   "id": "27d85a8b28f813b2",
   "metadata": {},
   "source": [
    "from sklearn.metrics import precision_score, recall_score, f1_score, roc_auc_score\n",
    "\n",
    "# Precisão\n",
    "precision = precision_score(y_test, y_pred)\n",
    "print(f\"Precisão: {precision:.4f}\")\n",
    "\n",
    "# Recall\n",
    "recall = recall_score(y_test, y_pred)\n",
    "print(f\"Recall: {recall:.4f}\")\n",
    "\n",
    "# F1 Score\n",
    "f1 = f1_score(y_test, y_pred)\n",
    "print(f\"F1 Score: {f1:.4f}\")\n",
    "\n",
    "# Extraindo os valores TN, FP, FN, TP\n",
    "TN, FP, FN, TP = cm.ravel()\n",
    "print(f\"Verdadeiros Negativos (TN): {TN}\")\n",
    "print(f\"Falsos Positivos (FP): {FP}\")\n",
    "print(f\"Falsos Negativos (FN): {FN}\")\n",
    "print(f\"Verdadeiros Positivos (TP): {TP}\")\n",
    "\n",
    "# Curva ROC e AUC (para problemas binários)\n",
    "if len(set(y_test)) == 2:  # Verifica se é um problema binário\n",
    "    y_prob = Clf_rf.predict_proba(X_test)[:, 1]\n",
    "    auc = roc_auc_score(y_test, y_prob)\n",
    "    print(f\"AUC: {auc:.2f}\")"
   ],
   "outputs": [],
   "execution_count": null
  },
  {
   "cell_type": "markdown",
   "id": "820129b58a4e3401",
   "metadata": {},
   "source": [
    "### Conclusão da avaliação dos nossos modelos de classificação"
   ]
  },
  {
   "cell_type": "markdown",
   "id": "4c9fc9dd77c1594f",
   "metadata": {},
   "source": [
    "Para melhorar a precisão na classificação da Classe Churn, você pode tentar algumas abordagens:\n",
    "\n",
    "**Ajuste de Hiperparâmetros**: Modifique os parâmetros do RandomForestClassifier, como max_depth, min_samples_split, min_samples_leaf, e class_weight.\n",
    "\n",
    "**Balanceamento de Dados**: Use técnicas como oversampling (e.g., SMOTE) ou undersampling para equilibrar as classes. Isso pode ajudar o modelo a aprender melhor as características da Churn.\n",
    "\n",
    "**Feature Engineering**: Crie novas features ou selecione as mais relevantes, usando técnicas como PCA (Análise de Componentes Principais) ou análise de correlação.\n",
    "\n",
    "**Outros Modelos**: Experimente outros modelos de classificação, como SVM, Gradient Boosting, ou Redes Neurais, para ver se obtêm melhores resultados.\n",
    "\n",
    "**Ensemble Methods**: Combine previsões de diferentes modelos para melhorar a robustez e precisão geral.\n",
    "\n",
    "**Análise de Erros**: Examine os erros que o modelo está cometendo para identificar padrões ou razões específicas pelas quais a classe Churn está sendo mal classificada."
   ]
  }
 ],
 "metadata": {
  "colab": {
   "provenance": []
  },
  "kernelspec": {
   "display_name": "Python 3 (ipykernel)",
   "language": "python",
   "name": "python3"
  },
  "language_info": {
   "codemirror_mode": {
    "name": "ipython",
    "version": 3
   },
   "file_extension": ".py",
   "mimetype": "text/x-python",
   "name": "python",
   "nbconvert_exporter": "python",
   "pygments_lexer": "ipython3",
   "version": "3.11.9"
  }
 },
 "nbformat": 4,
 "nbformat_minor": 5
}
