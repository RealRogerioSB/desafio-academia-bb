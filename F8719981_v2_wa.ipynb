{
 "cells": [
  {
   "cell_type": "code",
   "id": "initial_id",
   "metadata": {
    "collapsed": true
   },
   "source": [
    "import locale as lc\n",
    "import pandas as pd\n",
    "\n",
    "lc.setlocale(category=lc.LC_ALL, locale=\"pt_BR.UTF-8\")\n",
    "\n",
    "df_aces = pd.read_csv(\"./bases/acessos.zip\", delimiter=\";\", compression=\"zip\")\n",
    "df_aces[\"hora_acesso\"] = pd.to_datetime(df_aces[\"hora_acesso\"])\n",
    "\n",
    "df_matr = pd.read_csv(\"./bases/consulta_matriculas.csv\")\n",
    "\n",
    "respostas = {\"id_resposta\": [], \"resposta\": []}"
   ],
   "outputs": [],
   "execution_count": null
  },
  {
   "metadata": {},
   "cell_type": "code",
   "source": [
    "atendente = df_matr[df_matr[\"matricula\"].eq(\"F8719981\")].copy().iloc[0, 1]\n",
    "\n",
    "respostas[\"id_resposta\"].append(\"resposta01\")\n",
    "respostas[\"resposta\"].append(atendente)"
   ],
   "id": "9295d2f82eb9cf89",
   "outputs": [],
   "execution_count": null
  },
  {
   "metadata": {},
   "cell_type": "code",
   "source": "atendente = df_aces[df_aces[\"hash_usuario\"].eq(atendente)]",
   "id": "4becb71df17fa51b",
   "outputs": [],
   "execution_count": null
  },
  {
   "metadata": {},
   "cell_type": "code",
   "source": [
    "resp02 = atendente[\"identificador_visita\"].copy().nunique()\n",
    "\n",
    "respostas[\"id_resposta\"].append(\"resposta02\")\n",
    "respostas[\"resposta\"].append(resp02)"
   ],
   "id": "23bdec037a4f3c24",
   "outputs": [],
   "execution_count": null
  },
  {
   "metadata": {},
   "cell_type": "code",
   "source": [
    "resp03 = (atendente[\"hora_acesso\"].copy().iloc[0]).strftime(\"%x\")\n",
    "\n",
    "respostas[\"id_resposta\"].append(\"resposta03\")\n",
    "respostas[\"resposta\"].append(resp03)"
   ],
   "id": "2d18e19d2e12fcdb",
   "outputs": [],
   "execution_count": null
  },
  {
   "metadata": {},
   "cell_type": "code",
   "source": [
    "resp04 = (atendente[\"hora_acesso\"].copy().iloc[-1]).strftime(\"%x\")\n",
    "\n",
    "respostas[\"id_resposta\"].append(\"resposta04\")\n",
    "respostas[\"resposta\"].append(resp04)"
   ],
   "id": "4f8275bf5d05b954",
   "outputs": [],
   "execution_count": null
  },
  {
   "metadata": {},
   "cell_type": "code",
   "source": [
    "resp05 = atendente[\"pagina_acessada\"].copy().value_counts().reset_index().iloc[0, 0]\n",
    "\n",
    "respostas[\"id_resposta\"].append(\"resposta05\")\n",
    "respostas[\"resposta\"].append(resp05)"
   ],
   "id": "d1903be6fd2bcc15",
   "outputs": [],
   "execution_count": null
  },
  {
   "metadata": {},
   "cell_type": "code",
   "source": [
    "resp06 = atendente[\"info_dispositivo\"].copy().value_counts().reset_index().iloc[0, 0]\n",
    "\n",
    "respostas[\"id_resposta\"].append(\"resposta06\")\n",
    "respostas[\"resposta\"].append(resp06)"
   ],
   "id": "77dd969d6199ccaf",
   "outputs": [],
   "execution_count": null
  },
  {
   "metadata": {},
   "cell_type": "code",
   "source": [
    "resp07 = atendente[\"cidade\"].copy().value_counts().reset_index().iloc[0, 0]\n",
    "\n",
    "respostas[\"id_resposta\"].append(\"resposta07\")\n",
    "respostas[\"resposta\"].append(resp07)"
   ],
   "id": "aeb5534728d75061",
   "outputs": [],
   "execution_count": null
  },
  {
   "metadata": {},
   "cell_type": "code",
   "source": [
    "resp08 = atendente[\"pais\"].copy().value_counts().reset_index().iloc[0, 0]\n",
    "\n",
    "respostas[\"id_resposta\"].append(\"resposta08\")\n",
    "respostas[\"resposta\"].append(resp08)"
   ],
   "id": "a5d58b8a477ff3db",
   "outputs": [],
   "execution_count": null
  },
  {
   "metadata": {},
   "cell_type": "code",
   "source": [
    "resp09 = atendente.copy()\n",
    "resp09[\"hora_acesso\"] = pd.to_datetime(resp09[\"hora_acesso\"].dt.date)\n",
    "resp09 = resp09[[\"hora_acesso\", \"identificador_visita\"]].value_counts().reset_index().iloc[0, -1]\n",
    "\n",
    "respostas[\"id_resposta\"].append(\"resposta09\")\n",
    "respostas[\"resposta\"].append(resp09)"
   ],
   "id": "82f044e234c58a01",
   "outputs": [],
   "execution_count": null
  },
  {
   "metadata": {},
   "cell_type": "code",
   "source": [
    "resp10 = atendente.copy()\n",
    "resp10[\"time_diff\"] = round(resp10.groupby([\"identificador_visita\"])[\"hora_acesso\"].diff().dt.total_seconds() / 60, 2)\n",
    "resp10 = resp10.groupby([\"identificador_visita\"])[\"time_diff\"].mean().reset_index().sort_values(\"time_diff\", ascending=False).reset_index().iloc[0, -1]\n",
    "\n",
    "respostas[\"id_resposta\"].append(\"resposta10\")\n",
    "respostas[\"resposta\"].append(resp10)"
   ],
   "id": "f352c97ee444baa5",
   "outputs": [],
   "execution_count": null
  },
  {
   "metadata": {},
   "cell_type": "code",
   "source": [
    "from math import floor\n",
    "\n",
    "resp11 = atendente.copy()\n",
    "resp11[\"hora_acesso\"] = pd.to_datetime(resp11['hora_acesso'].dt.date)\n",
    "resp11 = resp11.drop_duplicates(subset=[\"info_dispositivo\", \"hora_acesso\"])\n",
    "resp11[\"intervalo_dias\"] = resp11.groupby([\"info_dispositivo\"])[\"hora_acesso\"].diff().dt.days\n",
    "resp11 = floor(resp11.groupby([\"info_dispositivo\"])[\"intervalo_dias\"].mean().reset_index().iloc[0, -1])\n",
    "\n",
    "respostas[\"id_resposta\"].append(\"resposta11\")\n",
    "respostas[\"resposta\"].append(resp11)"
   ],
   "id": "ed7977999c1c881",
   "outputs": [],
   "execution_count": null
  },
  {
   "metadata": {},
   "cell_type": "code",
   "source": [
    "resp12 = atendente.copy()\n",
    "resp12[\"data_acesso\"] = pd.to_datetime(resp12[\"hora_acesso\"].dt.date)\n",
    "resp12[\"horario\"] = resp12[\"hora_acesso\"].apply(lambda x: \"manhã\" if 5 <= x.hour < 12 else \"tarde\" if 12 <= x.hour < 18 else \"noite\" if 18 <= x.hour < 24 else \"madrugada\")\n",
    "resp12.drop(columns=[\"hora_acesso\", \"info_dispositivo\", \"cidade\", \"pais\"], axis=1, inplace=True)\n",
    "resp12.drop_duplicates(inplace=True)\n",
    "resp12 = resp12[\"horario\"].value_counts().reset_index().iloc[0, 0]\n",
    "\n",
    "respostas[\"id_resposta\"].append(\"resposta12\")\n",
    "respostas[\"resposta\"].append(resp12)"
   ],
   "id": "104967522929f0c2",
   "outputs": [],
   "execution_count": null
  },
  {
   "metadata": {},
   "cell_type": "code",
   "source": [
    "resp13 = atendente.copy()\n",
    "resp13[\"dia_semana\"] = resp13[\"hora_acesso\"].dt.strftime(\"%A\").str.capitalize()\n",
    "# resp13[[\"identificador_visita\", \"dia_semana\"]].value_counts().reset_index()\n",
    "resp13 = \"não\"\n",
    "\n",
    "respostas[\"id_resposta\"].append(\"resposta13\")\n",
    "respostas[\"resposta\"].append(resp13)"
   ],
   "id": "c12d866f882dc41e",
   "outputs": [],
   "execution_count": null
  },
  {
   "metadata": {},
   "cell_type": "code",
   "source": [
    "resp14 = df_matr[df_matr[\"matricula\"].eq(\"F8719981\")].iloc[0, -1]\n",
    "\n",
    "respostas[\"id_resposta\"].append(\"resposta14\")\n",
    "respostas[\"resposta\"].append(resp14)"
   ],
   "id": "9f3b5c5b46965379",
   "outputs": [],
   "execution_count": null
  },
  {
   "metadata": {},
   "cell_type": "code",
   "source": [
    "pagina_produto = {\n",
    "    \"extrato_conta\": \"\",\n",
    "    \"menu_navegador\": \"\",\n",
    "    \"acompanhar_proposta\": \"CDC\",\n",
    "    \"proposta_entrada\": \"CDC\",\n",
    "    \"autorizacao_debito\": \"Crédito PF\",\n",
    "    \"confirmacao_jornada\": \"Crédito PF\",\n",
    "    \"detalhes_confirmacao\": \"Crédito PF\",\n",
    "    \"novo_emprestimo\": \"Crédito PF\",\n",
    "    \"opcoes_emprestimo\": \"Crédito PF\",\n",
    "    \"resultado_credito\": \"Crédito PF\",\n",
    "    \"selecao_credito\": \"Crédito PF\",\n",
    "    \"selecao_data_quota\": \"Crédito PF\",\n",
    "    \"selecao_parcelas\": \"Crédito PF\",\n",
    "    \"sobre_cancelamento\": \"Crédito PF\",\n",
    "    \"sobre_pagamento\": \"Crédito PF\",\n",
    "    \"telefones_credito\": \"Crédito PF\",\n",
    "    \"todas_opcoes_quotas\": \"Crédito PF\",\n",
    "    \"central_pagamentos\": \"Pagamentos\",\n",
    "    \"confirmacao_boleto\": \"Pagamentos\",\n",
    "    \"detalhes_pagamento\": \"Pagamentos\",\n",
    "    \"pagamento\": \"Pagamentos\",\n",
    "    \"sucesso_boleto\": \"Pagamentos\",\n",
    "    \"central_pix\": \"Pix\",\n",
    "    \"confirmacao_pix\": \"Pix\",\n",
    "    \"inicial_pix\": \"Pix\",\n",
    "    \"resumo_pix\": \"Pix\",\n",
    "    \"valor_pix\": \"Pix\",\n",
    "}\n",
    "\n",
    "produto = df_aces.copy()\n",
    "produto[\"pagina_por_produto\"] = produto[\"pagina_acessada\"].map(pagina_produto)\n",
    "produto = produto[produto[\"pagina_por_produto\"].eq(resp14)]"
   ],
   "id": "aa09c4e95ada813e",
   "outputs": [],
   "execution_count": null
  },
  {
   "metadata": {},
   "cell_type": "code",
   "source": [
    "resp15 = produto[\"pagina_por_produto\"].copy().value_counts().iloc[0]\n",
    "\n",
    "respostas[\"id_resposta\"].append(\"resposta15\")\n",
    "respostas[\"resposta\"].append(resp15)"
   ],
   "id": "b4dac9178bffc1da",
   "outputs": [],
   "execution_count": null
  },
  {
   "metadata": {},
   "cell_type": "code",
   "source": [
    "resp16 = produto[[\"info_dispositivo\", \"pagina_por_produto\"]].copy().value_counts().reset_index().iloc[0, 0]\n",
    "# resp16 = produto[[\"info_dispositivo\", \"identificador_visita\"]].copy().value_counts().reset_index().iloc[0, 0]\n",
    "\n",
    "respostas[\"id_resposta\"].append(\"resposta16\")\n",
    "respostas[\"resposta\"].append(resp16)"
   ],
   "id": "98c32c2e85673edc",
   "outputs": [],
   "execution_count": null
  },
  {
   "metadata": {},
   "cell_type": "code",
   "source": [
    "resp17 = produto[[\"cidade\", \"pagina_por_produto\"]].copy().value_counts().reset_index().iloc[0, 0]\n",
    "# resp17 = produto[[\"cidade\", \"identificador_visita\"]].copy().value_counts().reset_index().iloc[0, 0]\n",
    "\n",
    "respostas[\"id_resposta\"].append(\"resposta17\")\n",
    "respostas[\"resposta\"].append(resp17)"
   ],
   "id": "99f3e7f015bb98e3",
   "outputs": [],
   "execution_count": null
  },
  {
   "metadata": {},
   "cell_type": "code",
   "source": [
    "resp18 = produto.copy()\n",
    "resp18[\"hora_acesso\"] = pd.to_datetime(resp18[\"hora_acesso\"].dt.date)\n",
    "# resp18[[\"hash_usuario\", \"hora_acesso\"]].value_counts()\n",
    "resp18 = resp18.groupby([\"hora_acesso\"])[\"hash_usuario\"].count().reset_index().sort_values(\"hash_usuario\", ascending=False).reset_index(drop=True).iloc[0, 1]\n",
    "\n",
    "respostas[\"id_resposta\"].append(\"resposta18\")\n",
    "respostas[\"resposta\"].append(resp18)"
   ],
   "id": "51b3f8a6e231ded8",
   "outputs": [],
   "execution_count": null
  },
  {
   "metadata": {},
   "cell_type": "code",
   "source": [
    "resp19 = produto.copy()\n",
    "resp19[\"data_acesso\"] = pd.to_datetime(resp19[\"hora_acesso\"].dt.date)\n",
    "resp19[\"período\"] = resp19[\"hora_acesso\"].apply(lambda x: \"manhã\" if 5 <= x.hour < 12 else \"tarde\" if 12 <= x.hour < 18 else \"noite\" if 18 <= x.hour < 24 else \"madrugada\")\n",
    "resp19.drop(columns=[\"hora_acesso\", \"info_dispositivo\", \"cidade\", \"pais\", \"pagina_por_produto\"], axis=1, inplace=True)\n",
    "resp19.drop_duplicates(inplace=True)\n",
    "resp19 = resp19[\"período\"].value_counts().reset_index().iloc[0,0]\n",
    "\n",
    "respostas[\"id_resposta\"].append(\"resposta19\")\n",
    "respostas[\"resposta\"].append(resp19)"
   ],
   "id": "4f6ae1e0774832a1",
   "outputs": [],
   "execution_count": null
  },
  {
   "metadata": {},
   "cell_type": "code",
   "source": "pd.DataFrame(respostas)",
   "id": "6f4455fbeb50a10d",
   "outputs": [],
   "execution_count": null
  }
 ],
 "metadata": {
  "kernelspec": {
   "display_name": "Python 3",
   "language": "python",
   "name": "python3"
  },
  "language_info": {
   "codemirror_mode": {
    "name": "ipython",
    "version": 2
   },
   "file_extension": ".py",
   "mimetype": "text/x-python",
   "name": "python",
   "nbconvert_exporter": "python",
   "pygments_lexer": "ipython2",
   "version": "2.7.6"
  }
 },
 "nbformat": 4,
 "nbformat_minor": 5
}
